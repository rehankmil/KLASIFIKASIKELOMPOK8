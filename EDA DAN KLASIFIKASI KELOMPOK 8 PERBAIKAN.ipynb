{
  "cells": [
    {
      "cell_type": "markdown",
      "metadata": {
        "id": "7KVCOlc1E_Bz"
      },
      "source": [
        "# **Prediksi Pesanan Online Shop - DATA MINING CUP 2013**\n",
        "# **Tugas EDA dan Model Klasifikasi**\n",
        "\n",
        "Hari/Tanggal Pembuatan Awal : Jum'at, 08 November 2024\n",
        "\n",
        "Hari/Tanggal Perbaikan : Selasa, 19 November 2024\n",
        "\n",
        "Kelompok 8\n",
        "1. Mohammad Raihan Aulia Kamil (2205449)\n",
        "2. Amelia Zalfa Julianti (2203999)\n",
        "3. Haris Maulana (2209058)\n",
        "4. Siti Rija Dana Prima (2202014)\n",
        "5. Syifa Azzahra (2207308)\n",
        "\n",
        "##**Pendahuluan**\n",
        "Kompetisi DATA MINING CUP (DMC) 2013 berfokus pada prediksi pesanan di toko online, sebuah langkah strategis untuk memahami perilaku pelanggan dan meningkatkan efektivitas pemasaran. Prediksi ini membantu toko online menawarkan promosi yang lebih relevan, seperti kupon untuk pelanggan dengan peluang pembelian rendah, serta meningkatkan peluang upselling produk. Dengan analisis data historis, toko dapat mengelola stok lebih efisien dan merancang kampanye yang lebih terarah. Keakuratan prediksi juga memungkinkan bisnis menyesuaikan strategi sesuai kebutuhan pelanggan, sehingga mengoptimalkan pengalaman belanja mereka. Kompetisi ini mengasah kemampuan peserta dalam menerapkan teknik data mining untuk memecahkan masalah nyata di industri. Selain menjadi ajang inovasi, DMC 2013 juga menunjukkan bagaimana data dapat diubah menjadi solusi yang mendorong pertumbuhan bisnis e-commerce secara efektif.\n",
        "\n",
        "##**Deskripsi Data**\n",
        "Pada kompetisi ini, data yang disediakan mencatat aktivitas sesi dari pengunjung toko online, yang mencakup kunjungan halaman produk dan tindakan lain selama sesi berlangsung. Dataset historis ini mencakup sekitar 50.000 sesi, dan setiap sesi diberi label untuk menunjukkan apakah terjadi pesanan (\"y\") atau tidak (\"n\").\n",
        "\n",
        "## **Tujuan**\n",
        "Tujuan utama dari proyek ini adalah membangun model prediktif yang dapat mengestimasi kemungkinan pesanan berdasarkan aktivitas yang tercatat dalam sesi pengguna. Setelah model dilatih menggunakan data historis, model ini akan digunakan untuk memprediksi hasil pada sekitar 5.000 sesi lainnya yang belum diketahui hasil akhirnya.\n",
        "\n",
        "##**Langkah-Langkah Melakukan Prediksi**\n",
        "A. Exploratory Data Analysis\n",
        "1. Eksplorasi Dataset – Mengeksplorasi struktur data untuk memahami fitur dan pola yang relevan dengan prediksi pesanan.\n",
        "2. Pra-pemrosesan Data – Melakukan pembersihan data, penanganan nilai kosong, dan transformasi fitur jika diperlukan.\n",
        "       \n",
        "\n",
        "B. Model Klasifikasi\n",
        "1. Pelatihan Model – Membangun model prediktif menggunakan teknik machine learning yang sesuai.\n",
        "2. Evaluasi dan Tuning Model – Mengukur performa model untuk meminimalkan kesalahan prediksi.\n",
        "3. Prediksi Akhir dan Penyimpanan Hasil – Menghasilkan prediksi probabilitas pesanan untuk sesi pengujian dan menyimpan hasil dalam format yang ditentukan untuk pengumpulan.\n",
        "\n"
      ]
    },
    {
      "cell_type": "markdown",
      "metadata": {
        "id": "EHoSc-mInVeF"
      },
      "source": [
        "|\n",
        "\n",
        "|\n",
        "\n",
        "|"
      ]
    },
    {
      "cell_type": "markdown",
      "metadata": {
        "id": "MpGg3Z4TnbZl"
      },
      "source": [
        "## **1. Exploratory Data Analysis (EDA)**"
      ]
    },
    {
      "cell_type": "markdown",
      "source": [
        "### A. Eksplorasi Data"
      ],
      "metadata": {
        "id": "1lASOxZ41Ta8"
      }
    },
    {
      "cell_type": "markdown",
      "metadata": {
        "id": "cZMBDHCGsxMA"
      },
      "source": [
        "#### Import libraries yang diperlukan"
      ]
    },
    {
      "cell_type": "code",
      "execution_count": null,
      "metadata": {
        "id": "fgKFIxXQh7V-"
      },
      "outputs": [],
      "source": [
        "# Import libraries\n",
        "import gdown\n",
        "import pandas as pd\n",
        "import numpy as np\n",
        "import matplotlib.pyplot as plt\n",
        "import seaborn as sns\n",
        "from sklearn.preprocessing import StandardScaler"
      ]
    },
    {
      "cell_type": "markdown",
      "metadata": {
        "id": "KswTXNbSs769"
      },
      "source": [
        "#### Mengunggah file dataset"
      ]
    },
    {
      "cell_type": "code",
      "source": [
        "from google.colab import files\n",
        "from gdown import download\n",
        "\n",
        "id = \"1j0Pf1FZlhXEmnVb6zS17DTRqbhwQB-J6\"\n",
        "output = \"transact_train.txt\"\n",
        "gdown.download(id=id, output=output)"
      ],
      "metadata": {
        "colab": {
          "base_uri": "https://localhost:8080/",
          "height": 105
        },
        "id": "yrcDOtgReFUC",
        "outputId": "07da2823-ab7e-4436-e621-f10ac05a3210"
      },
      "execution_count": null,
      "outputs": [
        {
          "output_type": "stream",
          "name": "stderr",
          "text": [
            "Downloading...\n",
            "From: https://drive.google.com/uc?id=1j0Pf1FZlhXEmnVb6zS17DTRqbhwQB-J6\n",
            "To: /content/transact_train.txt\n",
            "100%|██████████| 44.7M/44.7M [00:00<00:00, 67.9MB/s]\n"
          ]
        },
        {
          "output_type": "execute_result",
          "data": {
            "text/plain": [
              "'transact_train.txt'"
            ],
            "application/vnd.google.colaboratory.intrinsic+json": {
              "type": "string"
            }
          },
          "metadata": {},
          "execution_count": 2
        }
      ]
    },
    {
      "cell_type": "markdown",
      "metadata": {
        "id": "gYNHCNy3tEjV"
      },
      "source": [
        "#### Membaca file dataset"
      ]
    },
    {
      "cell_type": "code",
      "execution_count": 39,
      "metadata": {
        "id": "SKVjss8_pQCx"
      },
      "outputs": [],
      "source": [
        "# Membaca dataset\n",
        "order = pd.read_csv('transact_train.txt', delimiter='|')"
      ]
    },
    {
      "cell_type": "markdown",
      "metadata": {
        "id": "4gCAihKrtKF9"
      },
      "source": [
        "#### Melihat informasi dataset"
      ]
    },
    {
      "cell_type": "code",
      "execution_count": null,
      "metadata": {
        "colab": {
          "base_uri": "https://localhost:8080/"
        },
        "id": "EU5erttUpZL6",
        "outputId": "4cc50842-a615-4751-ffb2-92cfe79e74ef"
      },
      "outputs": [
        {
          "output_type": "stream",
          "name": "stdout",
          "text": [
            "<class 'pandas.core.frame.DataFrame'>\n",
            "RangeIndex: 429013 entries, 0 to 429012\n",
            "Data columns (total 24 columns):\n",
            " #   Column           Non-Null Count   Dtype  \n",
            "---  ------           --------------   -----  \n",
            " 0   sessionNo        429013 non-null  int64  \n",
            " 1   startHour        429013 non-null  int64  \n",
            " 2   startWeekday     429013 non-null  int64  \n",
            " 3   duration         429013 non-null  float64\n",
            " 4   cCount           429013 non-null  int64  \n",
            " 5   cMinPrice        429013 non-null  object \n",
            " 6   cMaxPrice        429013 non-null  object \n",
            " 7   cSumPrice        429013 non-null  object \n",
            " 8   bCount           429013 non-null  int64  \n",
            " 9   bMinPrice        429013 non-null  object \n",
            " 10  bMaxPrice        429013 non-null  object \n",
            " 11  bSumPrice        429013 non-null  object \n",
            " 12  bStep            429013 non-null  object \n",
            " 13  onlineStatus     429013 non-null  object \n",
            " 14  availability     429013 non-null  object \n",
            " 15  customerNo       429013 non-null  object \n",
            " 16  maxVal           429013 non-null  object \n",
            " 17  customerScore    429013 non-null  object \n",
            " 18  accountLifetime  429013 non-null  object \n",
            " 19  payments         429013 non-null  object \n",
            " 20  age              429013 non-null  object \n",
            " 21  address          429013 non-null  object \n",
            " 22  lastOrder        429013 non-null  object \n",
            " 23  order            429013 non-null  object \n",
            "dtypes: float64(1), int64(5), object(18)\n",
            "memory usage: 78.6+ MB\n"
          ]
        }
      ],
      "source": [
        "# Melihat informasi dataset\n",
        "order.info()"
      ]
    },
    {
      "cell_type": "markdown",
      "metadata": {
        "id": "gEmUmolKYucc"
      },
      "source": [
        "Dari informasi dataset diatas terdapat total 23 atribut dan 429.013 record"
      ]
    },
    {
      "cell_type": "markdown",
      "source": [
        "Berikut penjelasan tiap dataset dari dataset diatas (diambil dari deskripsi soal)."
      ],
      "metadata": {
        "id": "AAt0m4G6u2XL"
      }
    },
    {
      "cell_type": "markdown",
      "source": [
        "| Nama Kolom        | Deskripsi                                           | Rentang Nilai                                | Nilai Hilang  |\n",
        "|--------------------|----------------------------------------------------|----------------------------------------------|---------------|\n",
        "| sessionNo          | Nomor sesi yang berjalan                           | Bilangan alami                               | Tidak         |\n",
        "| startHour          | Jam saat sesi dimulai                              | Bilangan alami antara 0 dan 23               | Tidak         |\n",
        "| startWeekday       | Hari dalam seminggu saat sesi dimulai (1-Mo, 2-Tu, dst.) | Bilangan alami {1, 2, 3, 4, 5, 6, 7}       | Tidak         |\n",
        "| duration           | Waktu dalam detik sejak sesi dimulai               | Bilangan riil non-negatif                    | Tidak         |\n",
        "| cCount             | Jumlah produk yang diklik                          | Bilangan alami                               | Tidak         |\n",
        "| cMinPrice          | Harga terendah dari produk yang diklik             | Bilangan riil non-negatif                    | Ya            |\n",
        "| cMaxPrice          | Harga tertinggi dari produk yang diklik            | Bilangan riil non-negatif                    | Ya            |\n",
        "| cSumPrice          | Total harga dari semua produk yang diklik          | Bilangan riil non-negatif                    | Ya            |\n",
        "| bCount             | Jumlah produk yang dimasukkan ke keranjang belanja | Bilangan alami                               | Tidak         |\n",
        "| bMinPrice          | Harga terendah dari produk dalam keranjang belanja | Bilangan riil non-negatif                    | Ya            |\n",
        "| bMaxPrice          | Harga tertinggi dari produk dalam keranjang belanja| Bilangan riil non-negatif                    | Ya            |\n",
        "| bSumPrice          | Total harga dari semua produk dalam keranjang      | Bilangan riil non-negatif                    | Ya            |\n",
        "| bStep              | Langkah pemrosesan pembelian                       | Bilangan alami {1, 2, 3, 4, 5}               | Ya            |\n",
        "| onlineStatus       | Status apakah pelanggan sedang online (y-ya, n-tidak) | String                                    | Ya            |\n",
        "| availability       | Status ketersediaan pengiriman                     | String                                       | Ya            |\n",
        "| customerID         | Nomor pelanggan                                    | String                                       | Ya            |\n",
        "| maxVal             | Harga pembelian maksimum yang diizinkan untuk pelanggan | Bilangan alami                          | Ya            |\n",
        "| customerScore      | Evaluasi pelanggan dari sudut pandang toko         | Bilangan alami                               | Ya            |\n",
        "| accountLifetime    | Umur akun pelanggan dalam bulan                    | Bilangan alami                               | Ya            |\n",
        "| payments           | Jumlah pembayaran yang dilakukan oleh pelanggan    | Bilangan alami                               | Ya            |\n",
        "| age                | Usia pelanggan                                     | Bilangan alami                               | Ya            |\n",
        "| address            | Bentuk sapaan pelanggan (1-Tuan, 2-Nyonya, 3-Perusahaan)    | Bilangan alami {1, 2, 3}    | Ya          |\n",
        "| lastOrder    | Waktu dalam hari sejak pesanan terakhir    | Bilangan alami    | Ya          |\n",
        "| order    | Hasil sesi (y-pembelian, n-tidak pembelian)    | Karakter    | Tidak          |\n"
      ],
      "metadata": {
        "id": "R-GaQm9Armzy"
      }
    },
    {
      "cell_type": "markdown",
      "source": [
        "Bisa dilihat, terdapat campuran jenis data, termasuk bilangan alami, bilangan riil non-negatif, string, dan karakter. Dapat dilihat juga sebagian besar kolom memiliki nilai yang hilang."
      ],
      "metadata": {
        "id": "zoXJ2J5TvD_B"
      }
    },
    {
      "cell_type": "markdown",
      "metadata": {
        "id": "91jXKaZitfMz"
      },
      "source": [
        "#### Menampilkan 5 baris record pertama dan terakhir pada dataset"
      ]
    },
    {
      "cell_type": "code",
      "execution_count": null,
      "metadata": {
        "id": "kU-6gKN2yqSU"
      },
      "outputs": [],
      "source": [
        "# Atur jumlah maksimum kolom yang ditampilkan\n",
        "pd.set_option('display.max_columns', 24)"
      ]
    },
    {
      "cell_type": "code",
      "execution_count": null,
      "metadata": {
        "colab": {
          "base_uri": "https://localhost:8080/",
          "height": 206
        },
        "id": "OG6oow7opXKT",
        "outputId": "a94373bd-73ff-4b83-e97d-1e355a7f03d7"
      },
      "outputs": [
        {
          "output_type": "execute_result",
          "data": {
            "text/plain": [
              "   sessionNo  startHour  startWeekday  duration  cCount cMinPrice cMaxPrice  \\\n",
              "0          1          6             5     0.000       1     59.99     59.99   \n",
              "1          1          6             5    11.940       1     59.99     59.99   \n",
              "2          1          6             5    39.887       1     59.99     59.99   \n",
              "3          2          6             5     0.000       0         ?         ?   \n",
              "4          2          6             5    15.633       0         ?         ?   \n",
              "\n",
              "  cSumPrice  bCount bMinPrice bMaxPrice bSumPrice bStep onlineStatus  \\\n",
              "0     59.99       1     59.99     59.99     59.99     ?            ?   \n",
              "1     59.99       1     59.99     59.99     59.99     2            y   \n",
              "2     59.99       1     59.99     59.99     59.99     ?            y   \n",
              "3         ?       0         ?         ?         ?     2            y   \n",
              "4         ?       0         ?         ?         ?     ?            y   \n",
              "\n",
              "           availability customerNo maxVal customerScore accountLifetime  \\\n",
              "0                     ?          1    600            70              21   \n",
              "1  completely orderable          1    600            70              21   \n",
              "2  completely orderable          1    600            70              21   \n",
              "3  completely orderable          ?      ?             ?               ?   \n",
              "4  completely orderable          ?      ?             ?               ?   \n",
              "\n",
              "  payments age address lastOrder order  \n",
              "0        1  43       1        49     y  \n",
              "1        1  43       1        49     y  \n",
              "2        1  43       1        49     y  \n",
              "3        ?   ?       ?         ?     y  \n",
              "4        ?   ?       ?         ?     y  "
            ],
            "text/html": [
              "\n",
              "  <div id=\"df-614f249e-95f5-4318-a378-a57454722b17\" class=\"colab-df-container\">\n",
              "    <div>\n",
              "<style scoped>\n",
              "    .dataframe tbody tr th:only-of-type {\n",
              "        vertical-align: middle;\n",
              "    }\n",
              "\n",
              "    .dataframe tbody tr th {\n",
              "        vertical-align: top;\n",
              "    }\n",
              "\n",
              "    .dataframe thead th {\n",
              "        text-align: right;\n",
              "    }\n",
              "</style>\n",
              "<table border=\"1\" class=\"dataframe\">\n",
              "  <thead>\n",
              "    <tr style=\"text-align: right;\">\n",
              "      <th></th>\n",
              "      <th>sessionNo</th>\n",
              "      <th>startHour</th>\n",
              "      <th>startWeekday</th>\n",
              "      <th>duration</th>\n",
              "      <th>cCount</th>\n",
              "      <th>cMinPrice</th>\n",
              "      <th>cMaxPrice</th>\n",
              "      <th>cSumPrice</th>\n",
              "      <th>bCount</th>\n",
              "      <th>bMinPrice</th>\n",
              "      <th>bMaxPrice</th>\n",
              "      <th>bSumPrice</th>\n",
              "      <th>bStep</th>\n",
              "      <th>onlineStatus</th>\n",
              "      <th>availability</th>\n",
              "      <th>customerNo</th>\n",
              "      <th>maxVal</th>\n",
              "      <th>customerScore</th>\n",
              "      <th>accountLifetime</th>\n",
              "      <th>payments</th>\n",
              "      <th>age</th>\n",
              "      <th>address</th>\n",
              "      <th>lastOrder</th>\n",
              "      <th>order</th>\n",
              "    </tr>\n",
              "  </thead>\n",
              "  <tbody>\n",
              "    <tr>\n",
              "      <th>0</th>\n",
              "      <td>1</td>\n",
              "      <td>6</td>\n",
              "      <td>5</td>\n",
              "      <td>0.000</td>\n",
              "      <td>1</td>\n",
              "      <td>59.99</td>\n",
              "      <td>59.99</td>\n",
              "      <td>59.99</td>\n",
              "      <td>1</td>\n",
              "      <td>59.99</td>\n",
              "      <td>59.99</td>\n",
              "      <td>59.99</td>\n",
              "      <td>?</td>\n",
              "      <td>?</td>\n",
              "      <td>?</td>\n",
              "      <td>1</td>\n",
              "      <td>600</td>\n",
              "      <td>70</td>\n",
              "      <td>21</td>\n",
              "      <td>1</td>\n",
              "      <td>43</td>\n",
              "      <td>1</td>\n",
              "      <td>49</td>\n",
              "      <td>y</td>\n",
              "    </tr>\n",
              "    <tr>\n",
              "      <th>1</th>\n",
              "      <td>1</td>\n",
              "      <td>6</td>\n",
              "      <td>5</td>\n",
              "      <td>11.940</td>\n",
              "      <td>1</td>\n",
              "      <td>59.99</td>\n",
              "      <td>59.99</td>\n",
              "      <td>59.99</td>\n",
              "      <td>1</td>\n",
              "      <td>59.99</td>\n",
              "      <td>59.99</td>\n",
              "      <td>59.99</td>\n",
              "      <td>2</td>\n",
              "      <td>y</td>\n",
              "      <td>completely orderable</td>\n",
              "      <td>1</td>\n",
              "      <td>600</td>\n",
              "      <td>70</td>\n",
              "      <td>21</td>\n",
              "      <td>1</td>\n",
              "      <td>43</td>\n",
              "      <td>1</td>\n",
              "      <td>49</td>\n",
              "      <td>y</td>\n",
              "    </tr>\n",
              "    <tr>\n",
              "      <th>2</th>\n",
              "      <td>1</td>\n",
              "      <td>6</td>\n",
              "      <td>5</td>\n",
              "      <td>39.887</td>\n",
              "      <td>1</td>\n",
              "      <td>59.99</td>\n",
              "      <td>59.99</td>\n",
              "      <td>59.99</td>\n",
              "      <td>1</td>\n",
              "      <td>59.99</td>\n",
              "      <td>59.99</td>\n",
              "      <td>59.99</td>\n",
              "      <td>?</td>\n",
              "      <td>y</td>\n",
              "      <td>completely orderable</td>\n",
              "      <td>1</td>\n",
              "      <td>600</td>\n",
              "      <td>70</td>\n",
              "      <td>21</td>\n",
              "      <td>1</td>\n",
              "      <td>43</td>\n",
              "      <td>1</td>\n",
              "      <td>49</td>\n",
              "      <td>y</td>\n",
              "    </tr>\n",
              "    <tr>\n",
              "      <th>3</th>\n",
              "      <td>2</td>\n",
              "      <td>6</td>\n",
              "      <td>5</td>\n",
              "      <td>0.000</td>\n",
              "      <td>0</td>\n",
              "      <td>?</td>\n",
              "      <td>?</td>\n",
              "      <td>?</td>\n",
              "      <td>0</td>\n",
              "      <td>?</td>\n",
              "      <td>?</td>\n",
              "      <td>?</td>\n",
              "      <td>2</td>\n",
              "      <td>y</td>\n",
              "      <td>completely orderable</td>\n",
              "      <td>?</td>\n",
              "      <td>?</td>\n",
              "      <td>?</td>\n",
              "      <td>?</td>\n",
              "      <td>?</td>\n",
              "      <td>?</td>\n",
              "      <td>?</td>\n",
              "      <td>?</td>\n",
              "      <td>y</td>\n",
              "    </tr>\n",
              "    <tr>\n",
              "      <th>4</th>\n",
              "      <td>2</td>\n",
              "      <td>6</td>\n",
              "      <td>5</td>\n",
              "      <td>15.633</td>\n",
              "      <td>0</td>\n",
              "      <td>?</td>\n",
              "      <td>?</td>\n",
              "      <td>?</td>\n",
              "      <td>0</td>\n",
              "      <td>?</td>\n",
              "      <td>?</td>\n",
              "      <td>?</td>\n",
              "      <td>?</td>\n",
              "      <td>y</td>\n",
              "      <td>completely orderable</td>\n",
              "      <td>?</td>\n",
              "      <td>?</td>\n",
              "      <td>?</td>\n",
              "      <td>?</td>\n",
              "      <td>?</td>\n",
              "      <td>?</td>\n",
              "      <td>?</td>\n",
              "      <td>?</td>\n",
              "      <td>y</td>\n",
              "    </tr>\n",
              "  </tbody>\n",
              "</table>\n",
              "</div>\n",
              "    <div class=\"colab-df-buttons\">\n",
              "\n",
              "  <div class=\"colab-df-container\">\n",
              "    <button class=\"colab-df-convert\" onclick=\"convertToInteractive('df-614f249e-95f5-4318-a378-a57454722b17')\"\n",
              "            title=\"Convert this dataframe to an interactive table.\"\n",
              "            style=\"display:none;\">\n",
              "\n",
              "  <svg xmlns=\"http://www.w3.org/2000/svg\" height=\"24px\" viewBox=\"0 -960 960 960\">\n",
              "    <path d=\"M120-120v-720h720v720H120Zm60-500h600v-160H180v160Zm220 220h160v-160H400v160Zm0 220h160v-160H400v160ZM180-400h160v-160H180v160Zm440 0h160v-160H620v160ZM180-180h160v-160H180v160Zm440 0h160v-160H620v160Z\"/>\n",
              "  </svg>\n",
              "    </button>\n",
              "\n",
              "  <style>\n",
              "    .colab-df-container {\n",
              "      display:flex;\n",
              "      gap: 12px;\n",
              "    }\n",
              "\n",
              "    .colab-df-convert {\n",
              "      background-color: #E8F0FE;\n",
              "      border: none;\n",
              "      border-radius: 50%;\n",
              "      cursor: pointer;\n",
              "      display: none;\n",
              "      fill: #1967D2;\n",
              "      height: 32px;\n",
              "      padding: 0 0 0 0;\n",
              "      width: 32px;\n",
              "    }\n",
              "\n",
              "    .colab-df-convert:hover {\n",
              "      background-color: #E2EBFA;\n",
              "      box-shadow: 0px 1px 2px rgba(60, 64, 67, 0.3), 0px 1px 3px 1px rgba(60, 64, 67, 0.15);\n",
              "      fill: #174EA6;\n",
              "    }\n",
              "\n",
              "    .colab-df-buttons div {\n",
              "      margin-bottom: 4px;\n",
              "    }\n",
              "\n",
              "    [theme=dark] .colab-df-convert {\n",
              "      background-color: #3B4455;\n",
              "      fill: #D2E3FC;\n",
              "    }\n",
              "\n",
              "    [theme=dark] .colab-df-convert:hover {\n",
              "      background-color: #434B5C;\n",
              "      box-shadow: 0px 1px 3px 1px rgba(0, 0, 0, 0.15);\n",
              "      filter: drop-shadow(0px 1px 2px rgba(0, 0, 0, 0.3));\n",
              "      fill: #FFFFFF;\n",
              "    }\n",
              "  </style>\n",
              "\n",
              "    <script>\n",
              "      const buttonEl =\n",
              "        document.querySelector('#df-614f249e-95f5-4318-a378-a57454722b17 button.colab-df-convert');\n",
              "      buttonEl.style.display =\n",
              "        google.colab.kernel.accessAllowed ? 'block' : 'none';\n",
              "\n",
              "      async function convertToInteractive(key) {\n",
              "        const element = document.querySelector('#df-614f249e-95f5-4318-a378-a57454722b17');\n",
              "        const dataTable =\n",
              "          await google.colab.kernel.invokeFunction('convertToInteractive',\n",
              "                                                    [key], {});\n",
              "        if (!dataTable) return;\n",
              "\n",
              "        const docLinkHtml = 'Like what you see? Visit the ' +\n",
              "          '<a target=\"_blank\" href=https://colab.research.google.com/notebooks/data_table.ipynb>data table notebook</a>'\n",
              "          + ' to learn more about interactive tables.';\n",
              "        element.innerHTML = '';\n",
              "        dataTable['output_type'] = 'display_data';\n",
              "        await google.colab.output.renderOutput(dataTable, element);\n",
              "        const docLink = document.createElement('div');\n",
              "        docLink.innerHTML = docLinkHtml;\n",
              "        element.appendChild(docLink);\n",
              "      }\n",
              "    </script>\n",
              "  </div>\n",
              "\n",
              "\n",
              "<div id=\"df-76991bee-9231-46fa-b55b-2d421db287c1\">\n",
              "  <button class=\"colab-df-quickchart\" onclick=\"quickchart('df-76991bee-9231-46fa-b55b-2d421db287c1')\"\n",
              "            title=\"Suggest charts\"\n",
              "            style=\"display:none;\">\n",
              "\n",
              "<svg xmlns=\"http://www.w3.org/2000/svg\" height=\"24px\"viewBox=\"0 0 24 24\"\n",
              "     width=\"24px\">\n",
              "    <g>\n",
              "        <path d=\"M19 3H5c-1.1 0-2 .9-2 2v14c0 1.1.9 2 2 2h14c1.1 0 2-.9 2-2V5c0-1.1-.9-2-2-2zM9 17H7v-7h2v7zm4 0h-2V7h2v10zm4 0h-2v-4h2v4z\"/>\n",
              "    </g>\n",
              "</svg>\n",
              "  </button>\n",
              "\n",
              "<style>\n",
              "  .colab-df-quickchart {\n",
              "      --bg-color: #E8F0FE;\n",
              "      --fill-color: #1967D2;\n",
              "      --hover-bg-color: #E2EBFA;\n",
              "      --hover-fill-color: #174EA6;\n",
              "      --disabled-fill-color: #AAA;\n",
              "      --disabled-bg-color: #DDD;\n",
              "  }\n",
              "\n",
              "  [theme=dark] .colab-df-quickchart {\n",
              "      --bg-color: #3B4455;\n",
              "      --fill-color: #D2E3FC;\n",
              "      --hover-bg-color: #434B5C;\n",
              "      --hover-fill-color: #FFFFFF;\n",
              "      --disabled-bg-color: #3B4455;\n",
              "      --disabled-fill-color: #666;\n",
              "  }\n",
              "\n",
              "  .colab-df-quickchart {\n",
              "    background-color: var(--bg-color);\n",
              "    border: none;\n",
              "    border-radius: 50%;\n",
              "    cursor: pointer;\n",
              "    display: none;\n",
              "    fill: var(--fill-color);\n",
              "    height: 32px;\n",
              "    padding: 0;\n",
              "    width: 32px;\n",
              "  }\n",
              "\n",
              "  .colab-df-quickchart:hover {\n",
              "    background-color: var(--hover-bg-color);\n",
              "    box-shadow: 0 1px 2px rgba(60, 64, 67, 0.3), 0 1px 3px 1px rgba(60, 64, 67, 0.15);\n",
              "    fill: var(--button-hover-fill-color);\n",
              "  }\n",
              "\n",
              "  .colab-df-quickchart-complete:disabled,\n",
              "  .colab-df-quickchart-complete:disabled:hover {\n",
              "    background-color: var(--disabled-bg-color);\n",
              "    fill: var(--disabled-fill-color);\n",
              "    box-shadow: none;\n",
              "  }\n",
              "\n",
              "  .colab-df-spinner {\n",
              "    border: 2px solid var(--fill-color);\n",
              "    border-color: transparent;\n",
              "    border-bottom-color: var(--fill-color);\n",
              "    animation:\n",
              "      spin 1s steps(1) infinite;\n",
              "  }\n",
              "\n",
              "  @keyframes spin {\n",
              "    0% {\n",
              "      border-color: transparent;\n",
              "      border-bottom-color: var(--fill-color);\n",
              "      border-left-color: var(--fill-color);\n",
              "    }\n",
              "    20% {\n",
              "      border-color: transparent;\n",
              "      border-left-color: var(--fill-color);\n",
              "      border-top-color: var(--fill-color);\n",
              "    }\n",
              "    30% {\n",
              "      border-color: transparent;\n",
              "      border-left-color: var(--fill-color);\n",
              "      border-top-color: var(--fill-color);\n",
              "      border-right-color: var(--fill-color);\n",
              "    }\n",
              "    40% {\n",
              "      border-color: transparent;\n",
              "      border-right-color: var(--fill-color);\n",
              "      border-top-color: var(--fill-color);\n",
              "    }\n",
              "    60% {\n",
              "      border-color: transparent;\n",
              "      border-right-color: var(--fill-color);\n",
              "    }\n",
              "    80% {\n",
              "      border-color: transparent;\n",
              "      border-right-color: var(--fill-color);\n",
              "      border-bottom-color: var(--fill-color);\n",
              "    }\n",
              "    90% {\n",
              "      border-color: transparent;\n",
              "      border-bottom-color: var(--fill-color);\n",
              "    }\n",
              "  }\n",
              "</style>\n",
              "\n",
              "  <script>\n",
              "    async function quickchart(key) {\n",
              "      const quickchartButtonEl =\n",
              "        document.querySelector('#' + key + ' button');\n",
              "      quickchartButtonEl.disabled = true;  // To prevent multiple clicks.\n",
              "      quickchartButtonEl.classList.add('colab-df-spinner');\n",
              "      try {\n",
              "        const charts = await google.colab.kernel.invokeFunction(\n",
              "            'suggestCharts', [key], {});\n",
              "      } catch (error) {\n",
              "        console.error('Error during call to suggestCharts:', error);\n",
              "      }\n",
              "      quickchartButtonEl.classList.remove('colab-df-spinner');\n",
              "      quickchartButtonEl.classList.add('colab-df-quickchart-complete');\n",
              "    }\n",
              "    (() => {\n",
              "      let quickchartButtonEl =\n",
              "        document.querySelector('#df-76991bee-9231-46fa-b55b-2d421db287c1 button');\n",
              "      quickchartButtonEl.style.display =\n",
              "        google.colab.kernel.accessAllowed ? 'block' : 'none';\n",
              "    })();\n",
              "  </script>\n",
              "</div>\n",
              "\n",
              "    </div>\n",
              "  </div>\n"
            ],
            "application/vnd.google.colaboratory.intrinsic+json": {
              "type": "dataframe",
              "variable_name": "order"
            }
          },
          "metadata": {},
          "execution_count": 6
        }
      ],
      "source": [
        "# Menampilkan 5 baris pertama\n",
        "order.head()"
      ]
    },
    {
      "cell_type": "code",
      "execution_count": null,
      "metadata": {
        "colab": {
          "base_uri": "https://localhost:8080/",
          "height": 206
        },
        "id": "Bt6AMVyDvPas",
        "outputId": "42964b70-c70d-4783-d197-be7a48b2906a"
      },
      "outputs": [
        {
          "output_type": "execute_result",
          "data": {
            "text/plain": [
              "        sessionNo  startHour  startWeekday  duration  cCount cMinPrice  \\\n",
              "429008      49998         18             7  5988.882      77      9.99   \n",
              "429009      49999         18             7   675.114       6      59.0   \n",
              "429010      49999         18             7   715.341       7      59.0   \n",
              "429011      50000         18             7     0.000       1      6.99   \n",
              "429012      50000         18             7    82.943       1      6.99   \n",
              "\n",
              "       cMaxPrice cSumPrice  bCount bMinPrice bMaxPrice bSumPrice bStep  \\\n",
              "429008    149.99   5253.28       3     49.95     99.99    209.93     ?   \n",
              "429009    199.99    509.96       1     89.99     89.99     89.99     ?   \n",
              "429010    649.99   1159.95       1     89.99     89.99     89.99     1   \n",
              "429011      6.99      6.99       1      6.99      6.99      6.99     ?   \n",
              "429012      6.99      6.99       1      6.99      6.99      6.99     ?   \n",
              "\n",
              "       onlineStatus          availability customerNo maxVal customerScore  \\\n",
              "429008            ?                     ?          ?      ?             ?   \n",
              "429009            ?                     ?      25038      ?             ?   \n",
              "429010            y  completely orderable      25038      ?             ?   \n",
              "429011            ?                     ?         47    300           537   \n",
              "429012            y  completely orderable         47    300           537   \n",
              "\n",
              "       accountLifetime payments age address lastOrder order  \n",
              "429008               ?        ?   ?       ?         ?     n  \n",
              "429009               ?        0  24       1         4     n  \n",
              "429010               ?        0  24       1         4     n  \n",
              "429011               5        0  53       1        34     n  \n",
              "429012               5        0  53       1        34     n  "
            ],
            "text/html": [
              "\n",
              "  <div id=\"df-12a3468d-1fbc-46a2-82e2-ea6dd0a8eb54\" class=\"colab-df-container\">\n",
              "    <div>\n",
              "<style scoped>\n",
              "    .dataframe tbody tr th:only-of-type {\n",
              "        vertical-align: middle;\n",
              "    }\n",
              "\n",
              "    .dataframe tbody tr th {\n",
              "        vertical-align: top;\n",
              "    }\n",
              "\n",
              "    .dataframe thead th {\n",
              "        text-align: right;\n",
              "    }\n",
              "</style>\n",
              "<table border=\"1\" class=\"dataframe\">\n",
              "  <thead>\n",
              "    <tr style=\"text-align: right;\">\n",
              "      <th></th>\n",
              "      <th>sessionNo</th>\n",
              "      <th>startHour</th>\n",
              "      <th>startWeekday</th>\n",
              "      <th>duration</th>\n",
              "      <th>cCount</th>\n",
              "      <th>cMinPrice</th>\n",
              "      <th>cMaxPrice</th>\n",
              "      <th>cSumPrice</th>\n",
              "      <th>bCount</th>\n",
              "      <th>bMinPrice</th>\n",
              "      <th>bMaxPrice</th>\n",
              "      <th>bSumPrice</th>\n",
              "      <th>bStep</th>\n",
              "      <th>onlineStatus</th>\n",
              "      <th>availability</th>\n",
              "      <th>customerNo</th>\n",
              "      <th>maxVal</th>\n",
              "      <th>customerScore</th>\n",
              "      <th>accountLifetime</th>\n",
              "      <th>payments</th>\n",
              "      <th>age</th>\n",
              "      <th>address</th>\n",
              "      <th>lastOrder</th>\n",
              "      <th>order</th>\n",
              "    </tr>\n",
              "  </thead>\n",
              "  <tbody>\n",
              "    <tr>\n",
              "      <th>429008</th>\n",
              "      <td>49998</td>\n",
              "      <td>18</td>\n",
              "      <td>7</td>\n",
              "      <td>5988.882</td>\n",
              "      <td>77</td>\n",
              "      <td>9.99</td>\n",
              "      <td>149.99</td>\n",
              "      <td>5253.28</td>\n",
              "      <td>3</td>\n",
              "      <td>49.95</td>\n",
              "      <td>99.99</td>\n",
              "      <td>209.93</td>\n",
              "      <td>?</td>\n",
              "      <td>?</td>\n",
              "      <td>?</td>\n",
              "      <td>?</td>\n",
              "      <td>?</td>\n",
              "      <td>?</td>\n",
              "      <td>?</td>\n",
              "      <td>?</td>\n",
              "      <td>?</td>\n",
              "      <td>?</td>\n",
              "      <td>?</td>\n",
              "      <td>n</td>\n",
              "    </tr>\n",
              "    <tr>\n",
              "      <th>429009</th>\n",
              "      <td>49999</td>\n",
              "      <td>18</td>\n",
              "      <td>7</td>\n",
              "      <td>675.114</td>\n",
              "      <td>6</td>\n",
              "      <td>59.0</td>\n",
              "      <td>199.99</td>\n",
              "      <td>509.96</td>\n",
              "      <td>1</td>\n",
              "      <td>89.99</td>\n",
              "      <td>89.99</td>\n",
              "      <td>89.99</td>\n",
              "      <td>?</td>\n",
              "      <td>?</td>\n",
              "      <td>?</td>\n",
              "      <td>25038</td>\n",
              "      <td>?</td>\n",
              "      <td>?</td>\n",
              "      <td>?</td>\n",
              "      <td>0</td>\n",
              "      <td>24</td>\n",
              "      <td>1</td>\n",
              "      <td>4</td>\n",
              "      <td>n</td>\n",
              "    </tr>\n",
              "    <tr>\n",
              "      <th>429010</th>\n",
              "      <td>49999</td>\n",
              "      <td>18</td>\n",
              "      <td>7</td>\n",
              "      <td>715.341</td>\n",
              "      <td>7</td>\n",
              "      <td>59.0</td>\n",
              "      <td>649.99</td>\n",
              "      <td>1159.95</td>\n",
              "      <td>1</td>\n",
              "      <td>89.99</td>\n",
              "      <td>89.99</td>\n",
              "      <td>89.99</td>\n",
              "      <td>1</td>\n",
              "      <td>y</td>\n",
              "      <td>completely orderable</td>\n",
              "      <td>25038</td>\n",
              "      <td>?</td>\n",
              "      <td>?</td>\n",
              "      <td>?</td>\n",
              "      <td>0</td>\n",
              "      <td>24</td>\n",
              "      <td>1</td>\n",
              "      <td>4</td>\n",
              "      <td>n</td>\n",
              "    </tr>\n",
              "    <tr>\n",
              "      <th>429011</th>\n",
              "      <td>50000</td>\n",
              "      <td>18</td>\n",
              "      <td>7</td>\n",
              "      <td>0.000</td>\n",
              "      <td>1</td>\n",
              "      <td>6.99</td>\n",
              "      <td>6.99</td>\n",
              "      <td>6.99</td>\n",
              "      <td>1</td>\n",
              "      <td>6.99</td>\n",
              "      <td>6.99</td>\n",
              "      <td>6.99</td>\n",
              "      <td>?</td>\n",
              "      <td>?</td>\n",
              "      <td>?</td>\n",
              "      <td>47</td>\n",
              "      <td>300</td>\n",
              "      <td>537</td>\n",
              "      <td>5</td>\n",
              "      <td>0</td>\n",
              "      <td>53</td>\n",
              "      <td>1</td>\n",
              "      <td>34</td>\n",
              "      <td>n</td>\n",
              "    </tr>\n",
              "    <tr>\n",
              "      <th>429012</th>\n",
              "      <td>50000</td>\n",
              "      <td>18</td>\n",
              "      <td>7</td>\n",
              "      <td>82.943</td>\n",
              "      <td>1</td>\n",
              "      <td>6.99</td>\n",
              "      <td>6.99</td>\n",
              "      <td>6.99</td>\n",
              "      <td>1</td>\n",
              "      <td>6.99</td>\n",
              "      <td>6.99</td>\n",
              "      <td>6.99</td>\n",
              "      <td>?</td>\n",
              "      <td>y</td>\n",
              "      <td>completely orderable</td>\n",
              "      <td>47</td>\n",
              "      <td>300</td>\n",
              "      <td>537</td>\n",
              "      <td>5</td>\n",
              "      <td>0</td>\n",
              "      <td>53</td>\n",
              "      <td>1</td>\n",
              "      <td>34</td>\n",
              "      <td>n</td>\n",
              "    </tr>\n",
              "  </tbody>\n",
              "</table>\n",
              "</div>\n",
              "    <div class=\"colab-df-buttons\">\n",
              "\n",
              "  <div class=\"colab-df-container\">\n",
              "    <button class=\"colab-df-convert\" onclick=\"convertToInteractive('df-12a3468d-1fbc-46a2-82e2-ea6dd0a8eb54')\"\n",
              "            title=\"Convert this dataframe to an interactive table.\"\n",
              "            style=\"display:none;\">\n",
              "\n",
              "  <svg xmlns=\"http://www.w3.org/2000/svg\" height=\"24px\" viewBox=\"0 -960 960 960\">\n",
              "    <path d=\"M120-120v-720h720v720H120Zm60-500h600v-160H180v160Zm220 220h160v-160H400v160Zm0 220h160v-160H400v160ZM180-400h160v-160H180v160Zm440 0h160v-160H620v160ZM180-180h160v-160H180v160Zm440 0h160v-160H620v160Z\"/>\n",
              "  </svg>\n",
              "    </button>\n",
              "\n",
              "  <style>\n",
              "    .colab-df-container {\n",
              "      display:flex;\n",
              "      gap: 12px;\n",
              "    }\n",
              "\n",
              "    .colab-df-convert {\n",
              "      background-color: #E8F0FE;\n",
              "      border: none;\n",
              "      border-radius: 50%;\n",
              "      cursor: pointer;\n",
              "      display: none;\n",
              "      fill: #1967D2;\n",
              "      height: 32px;\n",
              "      padding: 0 0 0 0;\n",
              "      width: 32px;\n",
              "    }\n",
              "\n",
              "    .colab-df-convert:hover {\n",
              "      background-color: #E2EBFA;\n",
              "      box-shadow: 0px 1px 2px rgba(60, 64, 67, 0.3), 0px 1px 3px 1px rgba(60, 64, 67, 0.15);\n",
              "      fill: #174EA6;\n",
              "    }\n",
              "\n",
              "    .colab-df-buttons div {\n",
              "      margin-bottom: 4px;\n",
              "    }\n",
              "\n",
              "    [theme=dark] .colab-df-convert {\n",
              "      background-color: #3B4455;\n",
              "      fill: #D2E3FC;\n",
              "    }\n",
              "\n",
              "    [theme=dark] .colab-df-convert:hover {\n",
              "      background-color: #434B5C;\n",
              "      box-shadow: 0px 1px 3px 1px rgba(0, 0, 0, 0.15);\n",
              "      filter: drop-shadow(0px 1px 2px rgba(0, 0, 0, 0.3));\n",
              "      fill: #FFFFFF;\n",
              "    }\n",
              "  </style>\n",
              "\n",
              "    <script>\n",
              "      const buttonEl =\n",
              "        document.querySelector('#df-12a3468d-1fbc-46a2-82e2-ea6dd0a8eb54 button.colab-df-convert');\n",
              "      buttonEl.style.display =\n",
              "        google.colab.kernel.accessAllowed ? 'block' : 'none';\n",
              "\n",
              "      async function convertToInteractive(key) {\n",
              "        const element = document.querySelector('#df-12a3468d-1fbc-46a2-82e2-ea6dd0a8eb54');\n",
              "        const dataTable =\n",
              "          await google.colab.kernel.invokeFunction('convertToInteractive',\n",
              "                                                    [key], {});\n",
              "        if (!dataTable) return;\n",
              "\n",
              "        const docLinkHtml = 'Like what you see? Visit the ' +\n",
              "          '<a target=\"_blank\" href=https://colab.research.google.com/notebooks/data_table.ipynb>data table notebook</a>'\n",
              "          + ' to learn more about interactive tables.';\n",
              "        element.innerHTML = '';\n",
              "        dataTable['output_type'] = 'display_data';\n",
              "        await google.colab.output.renderOutput(dataTable, element);\n",
              "        const docLink = document.createElement('div');\n",
              "        docLink.innerHTML = docLinkHtml;\n",
              "        element.appendChild(docLink);\n",
              "      }\n",
              "    </script>\n",
              "  </div>\n",
              "\n",
              "\n",
              "<div id=\"df-17ec1bb5-40f8-44fc-a266-5ac5e3886afa\">\n",
              "  <button class=\"colab-df-quickchart\" onclick=\"quickchart('df-17ec1bb5-40f8-44fc-a266-5ac5e3886afa')\"\n",
              "            title=\"Suggest charts\"\n",
              "            style=\"display:none;\">\n",
              "\n",
              "<svg xmlns=\"http://www.w3.org/2000/svg\" height=\"24px\"viewBox=\"0 0 24 24\"\n",
              "     width=\"24px\">\n",
              "    <g>\n",
              "        <path d=\"M19 3H5c-1.1 0-2 .9-2 2v14c0 1.1.9 2 2 2h14c1.1 0 2-.9 2-2V5c0-1.1-.9-2-2-2zM9 17H7v-7h2v7zm4 0h-2V7h2v10zm4 0h-2v-4h2v4z\"/>\n",
              "    </g>\n",
              "</svg>\n",
              "  </button>\n",
              "\n",
              "<style>\n",
              "  .colab-df-quickchart {\n",
              "      --bg-color: #E8F0FE;\n",
              "      --fill-color: #1967D2;\n",
              "      --hover-bg-color: #E2EBFA;\n",
              "      --hover-fill-color: #174EA6;\n",
              "      --disabled-fill-color: #AAA;\n",
              "      --disabled-bg-color: #DDD;\n",
              "  }\n",
              "\n",
              "  [theme=dark] .colab-df-quickchart {\n",
              "      --bg-color: #3B4455;\n",
              "      --fill-color: #D2E3FC;\n",
              "      --hover-bg-color: #434B5C;\n",
              "      --hover-fill-color: #FFFFFF;\n",
              "      --disabled-bg-color: #3B4455;\n",
              "      --disabled-fill-color: #666;\n",
              "  }\n",
              "\n",
              "  .colab-df-quickchart {\n",
              "    background-color: var(--bg-color);\n",
              "    border: none;\n",
              "    border-radius: 50%;\n",
              "    cursor: pointer;\n",
              "    display: none;\n",
              "    fill: var(--fill-color);\n",
              "    height: 32px;\n",
              "    padding: 0;\n",
              "    width: 32px;\n",
              "  }\n",
              "\n",
              "  .colab-df-quickchart:hover {\n",
              "    background-color: var(--hover-bg-color);\n",
              "    box-shadow: 0 1px 2px rgba(60, 64, 67, 0.3), 0 1px 3px 1px rgba(60, 64, 67, 0.15);\n",
              "    fill: var(--button-hover-fill-color);\n",
              "  }\n",
              "\n",
              "  .colab-df-quickchart-complete:disabled,\n",
              "  .colab-df-quickchart-complete:disabled:hover {\n",
              "    background-color: var(--disabled-bg-color);\n",
              "    fill: var(--disabled-fill-color);\n",
              "    box-shadow: none;\n",
              "  }\n",
              "\n",
              "  .colab-df-spinner {\n",
              "    border: 2px solid var(--fill-color);\n",
              "    border-color: transparent;\n",
              "    border-bottom-color: var(--fill-color);\n",
              "    animation:\n",
              "      spin 1s steps(1) infinite;\n",
              "  }\n",
              "\n",
              "  @keyframes spin {\n",
              "    0% {\n",
              "      border-color: transparent;\n",
              "      border-bottom-color: var(--fill-color);\n",
              "      border-left-color: var(--fill-color);\n",
              "    }\n",
              "    20% {\n",
              "      border-color: transparent;\n",
              "      border-left-color: var(--fill-color);\n",
              "      border-top-color: var(--fill-color);\n",
              "    }\n",
              "    30% {\n",
              "      border-color: transparent;\n",
              "      border-left-color: var(--fill-color);\n",
              "      border-top-color: var(--fill-color);\n",
              "      border-right-color: var(--fill-color);\n",
              "    }\n",
              "    40% {\n",
              "      border-color: transparent;\n",
              "      border-right-color: var(--fill-color);\n",
              "      border-top-color: var(--fill-color);\n",
              "    }\n",
              "    60% {\n",
              "      border-color: transparent;\n",
              "      border-right-color: var(--fill-color);\n",
              "    }\n",
              "    80% {\n",
              "      border-color: transparent;\n",
              "      border-right-color: var(--fill-color);\n",
              "      border-bottom-color: var(--fill-color);\n",
              "    }\n",
              "    90% {\n",
              "      border-color: transparent;\n",
              "      border-bottom-color: var(--fill-color);\n",
              "    }\n",
              "  }\n",
              "</style>\n",
              "\n",
              "  <script>\n",
              "    async function quickchart(key) {\n",
              "      const quickchartButtonEl =\n",
              "        document.querySelector('#' + key + ' button');\n",
              "      quickchartButtonEl.disabled = true;  // To prevent multiple clicks.\n",
              "      quickchartButtonEl.classList.add('colab-df-spinner');\n",
              "      try {\n",
              "        const charts = await google.colab.kernel.invokeFunction(\n",
              "            'suggestCharts', [key], {});\n",
              "      } catch (error) {\n",
              "        console.error('Error during call to suggestCharts:', error);\n",
              "      }\n",
              "      quickchartButtonEl.classList.remove('colab-df-spinner');\n",
              "      quickchartButtonEl.classList.add('colab-df-quickchart-complete');\n",
              "    }\n",
              "    (() => {\n",
              "      let quickchartButtonEl =\n",
              "        document.querySelector('#df-17ec1bb5-40f8-44fc-a266-5ac5e3886afa button');\n",
              "      quickchartButtonEl.style.display =\n",
              "        google.colab.kernel.accessAllowed ? 'block' : 'none';\n",
              "    })();\n",
              "  </script>\n",
              "</div>\n",
              "\n",
              "    </div>\n",
              "  </div>\n"
            ],
            "application/vnd.google.colaboratory.intrinsic+json": {
              "type": "dataframe"
            }
          },
          "metadata": {},
          "execution_count": 7
        }
      ],
      "source": [
        "# Menampilkan 5 baris terakhir\n",
        "order.tail()"
      ]
    },
    {
      "cell_type": "markdown",
      "metadata": {
        "id": "ksgudztNZHKL"
      },
      "source": [
        "Ditampilkan 5 baris teratas dan terbawah dari dataset. Dapat dilihat terdapat banyak nilai `'?'` yang tidak mewakili suatu nilai dalam dataset yang akan dibuatkan model prediksi."
      ]
    },
    {
      "cell_type": "markdown",
      "metadata": {
        "id": "emDHE_GkvcK6"
      },
      "source": [
        "#### Memeriksa dan menghitung nilai NULL dalam dataset"
      ]
    },
    {
      "cell_type": "code",
      "execution_count": null,
      "metadata": {
        "colab": {
          "base_uri": "https://localhost:8080/",
          "height": 837
        },
        "id": "WEDo0n6tuFcD",
        "outputId": "79b6a532-7870-47c3-baff-2bea3838224c"
      },
      "outputs": [
        {
          "output_type": "execute_result",
          "data": {
            "text/plain": [
              "sessionNo          0\n",
              "startHour          0\n",
              "startWeekday       0\n",
              "duration           0\n",
              "cCount             0\n",
              "cMinPrice          0\n",
              "cMaxPrice          0\n",
              "cSumPrice          0\n",
              "bCount             0\n",
              "bMinPrice          0\n",
              "bMaxPrice          0\n",
              "bSumPrice          0\n",
              "bStep              0\n",
              "onlineStatus       0\n",
              "availability       0\n",
              "customerNo         0\n",
              "maxVal             0\n",
              "customerScore      0\n",
              "accountLifetime    0\n",
              "payments           0\n",
              "age                0\n",
              "address            0\n",
              "lastOrder          0\n",
              "order              0\n",
              "dtype: int64"
            ],
            "text/html": [
              "<div>\n",
              "<style scoped>\n",
              "    .dataframe tbody tr th:only-of-type {\n",
              "        vertical-align: middle;\n",
              "    }\n",
              "\n",
              "    .dataframe tbody tr th {\n",
              "        vertical-align: top;\n",
              "    }\n",
              "\n",
              "    .dataframe thead th {\n",
              "        text-align: right;\n",
              "    }\n",
              "</style>\n",
              "<table border=\"1\" class=\"dataframe\">\n",
              "  <thead>\n",
              "    <tr style=\"text-align: right;\">\n",
              "      <th></th>\n",
              "      <th>0</th>\n",
              "    </tr>\n",
              "  </thead>\n",
              "  <tbody>\n",
              "    <tr>\n",
              "      <th>sessionNo</th>\n",
              "      <td>0</td>\n",
              "    </tr>\n",
              "    <tr>\n",
              "      <th>startHour</th>\n",
              "      <td>0</td>\n",
              "    </tr>\n",
              "    <tr>\n",
              "      <th>startWeekday</th>\n",
              "      <td>0</td>\n",
              "    </tr>\n",
              "    <tr>\n",
              "      <th>duration</th>\n",
              "      <td>0</td>\n",
              "    </tr>\n",
              "    <tr>\n",
              "      <th>cCount</th>\n",
              "      <td>0</td>\n",
              "    </tr>\n",
              "    <tr>\n",
              "      <th>cMinPrice</th>\n",
              "      <td>0</td>\n",
              "    </tr>\n",
              "    <tr>\n",
              "      <th>cMaxPrice</th>\n",
              "      <td>0</td>\n",
              "    </tr>\n",
              "    <tr>\n",
              "      <th>cSumPrice</th>\n",
              "      <td>0</td>\n",
              "    </tr>\n",
              "    <tr>\n",
              "      <th>bCount</th>\n",
              "      <td>0</td>\n",
              "    </tr>\n",
              "    <tr>\n",
              "      <th>bMinPrice</th>\n",
              "      <td>0</td>\n",
              "    </tr>\n",
              "    <tr>\n",
              "      <th>bMaxPrice</th>\n",
              "      <td>0</td>\n",
              "    </tr>\n",
              "    <tr>\n",
              "      <th>bSumPrice</th>\n",
              "      <td>0</td>\n",
              "    </tr>\n",
              "    <tr>\n",
              "      <th>bStep</th>\n",
              "      <td>0</td>\n",
              "    </tr>\n",
              "    <tr>\n",
              "      <th>onlineStatus</th>\n",
              "      <td>0</td>\n",
              "    </tr>\n",
              "    <tr>\n",
              "      <th>availability</th>\n",
              "      <td>0</td>\n",
              "    </tr>\n",
              "    <tr>\n",
              "      <th>customerNo</th>\n",
              "      <td>0</td>\n",
              "    </tr>\n",
              "    <tr>\n",
              "      <th>maxVal</th>\n",
              "      <td>0</td>\n",
              "    </tr>\n",
              "    <tr>\n",
              "      <th>customerScore</th>\n",
              "      <td>0</td>\n",
              "    </tr>\n",
              "    <tr>\n",
              "      <th>accountLifetime</th>\n",
              "      <td>0</td>\n",
              "    </tr>\n",
              "    <tr>\n",
              "      <th>payments</th>\n",
              "      <td>0</td>\n",
              "    </tr>\n",
              "    <tr>\n",
              "      <th>age</th>\n",
              "      <td>0</td>\n",
              "    </tr>\n",
              "    <tr>\n",
              "      <th>address</th>\n",
              "      <td>0</td>\n",
              "    </tr>\n",
              "    <tr>\n",
              "      <th>lastOrder</th>\n",
              "      <td>0</td>\n",
              "    </tr>\n",
              "    <tr>\n",
              "      <th>order</th>\n",
              "      <td>0</td>\n",
              "    </tr>\n",
              "  </tbody>\n",
              "</table>\n",
              "</div><br><label><b>dtype:</b> int64</label>"
            ]
          },
          "metadata": {},
          "execution_count": 8
        }
      ],
      "source": [
        "order.isnull().sum()"
      ]
    },
    {
      "cell_type": "markdown",
      "metadata": {
        "id": "BAsrLZE_ZeHg"
      },
      "source": [
        "Setelah dilakukan pemeriksaan nilai NULL, dapat disimpulkan bahwa nilai NULL di dalam dataset tersebut diwakili oleh nilai `'?'`."
      ]
    },
    {
      "cell_type": "markdown",
      "metadata": {
        "id": "gdopUJKKaLWm"
      },
      "source": [
        "#### Memeriksa kategori-kategori pada beberapa atribut kategori"
      ]
    },
    {
      "cell_type": "code",
      "execution_count": null,
      "metadata": {
        "colab": {
          "base_uri": "https://localhost:8080/",
          "height": 210
        },
        "id": "Uy9iJR-Yxp9a",
        "outputId": "7c016045-97f3-4e60-9b95-e11eda76da9f"
      },
      "outputs": [
        {
          "output_type": "execute_result",
          "data": {
            "text/plain": [
              "onlineStatus\n",
              "y    265625\n",
              "?    160379\n",
              "n      3009\n",
              "Name: count, dtype: int64"
            ],
            "text/html": [
              "<div>\n",
              "<style scoped>\n",
              "    .dataframe tbody tr th:only-of-type {\n",
              "        vertical-align: middle;\n",
              "    }\n",
              "\n",
              "    .dataframe tbody tr th {\n",
              "        vertical-align: top;\n",
              "    }\n",
              "\n",
              "    .dataframe thead th {\n",
              "        text-align: right;\n",
              "    }\n",
              "</style>\n",
              "<table border=\"1\" class=\"dataframe\">\n",
              "  <thead>\n",
              "    <tr style=\"text-align: right;\">\n",
              "      <th></th>\n",
              "      <th>count</th>\n",
              "    </tr>\n",
              "    <tr>\n",
              "      <th>onlineStatus</th>\n",
              "      <th></th>\n",
              "    </tr>\n",
              "  </thead>\n",
              "  <tbody>\n",
              "    <tr>\n",
              "      <th>y</th>\n",
              "      <td>265625</td>\n",
              "    </tr>\n",
              "    <tr>\n",
              "      <th>?</th>\n",
              "      <td>160379</td>\n",
              "    </tr>\n",
              "    <tr>\n",
              "      <th>n</th>\n",
              "      <td>3009</td>\n",
              "    </tr>\n",
              "  </tbody>\n",
              "</table>\n",
              "</div><br><label><b>dtype:</b> int64</label>"
            ]
          },
          "metadata": {},
          "execution_count": 9
        }
      ],
      "source": [
        "# Memeriksa kategori pada atribut 'onlineStatus'\n",
        "order.onlineStatus.value_counts()"
      ]
    },
    {
      "cell_type": "code",
      "source": [
        "# Memeriksa kategori pada atribut 'onlineStatus'\n",
        "order.bStep.value_counts()"
      ],
      "metadata": {
        "colab": {
          "base_uri": "https://localhost:8080/",
          "height": 272
        },
        "id": "XZ-HSaIhaqy4",
        "outputId": "0e2cd451-0899-46cc-df18-0f7352e18d34"
      },
      "execution_count": null,
      "outputs": [
        {
          "output_type": "execute_result",
          "data": {
            "text/plain": [
              "bStep\n",
              "1    90058\n",
              "2    60682\n",
              "4    41142\n",
              "3    30062\n",
              "5    15736\n",
              "Name: count, dtype: int64"
            ],
            "text/html": [
              "<div>\n",
              "<style scoped>\n",
              "    .dataframe tbody tr th:only-of-type {\n",
              "        vertical-align: middle;\n",
              "    }\n",
              "\n",
              "    .dataframe tbody tr th {\n",
              "        vertical-align: top;\n",
              "    }\n",
              "\n",
              "    .dataframe thead th {\n",
              "        text-align: right;\n",
              "    }\n",
              "</style>\n",
              "<table border=\"1\" class=\"dataframe\">\n",
              "  <thead>\n",
              "    <tr style=\"text-align: right;\">\n",
              "      <th></th>\n",
              "      <th>count</th>\n",
              "    </tr>\n",
              "    <tr>\n",
              "      <th>bStep</th>\n",
              "      <th></th>\n",
              "    </tr>\n",
              "  </thead>\n",
              "  <tbody>\n",
              "    <tr>\n",
              "      <th>1</th>\n",
              "      <td>90058</td>\n",
              "    </tr>\n",
              "    <tr>\n",
              "      <th>2</th>\n",
              "      <td>60682</td>\n",
              "    </tr>\n",
              "    <tr>\n",
              "      <th>4</th>\n",
              "      <td>41142</td>\n",
              "    </tr>\n",
              "    <tr>\n",
              "      <th>3</th>\n",
              "      <td>30062</td>\n",
              "    </tr>\n",
              "    <tr>\n",
              "      <th>5</th>\n",
              "      <td>15736</td>\n",
              "    </tr>\n",
              "  </tbody>\n",
              "</table>\n",
              "</div><br><label><b>dtype:</b> int64</label>"
            ]
          },
          "metadata": {},
          "execution_count": 23
        }
      ]
    },
    {
      "cell_type": "code",
      "execution_count": null,
      "metadata": {
        "colab": {
          "base_uri": "https://localhost:8080/",
          "height": 366
        },
        "id": "RUssBpClZ416",
        "outputId": "47597f53-434e-4d53-e43f-dff03d5fca03"
      },
      "outputs": [
        {
          "output_type": "execute_result",
          "data": {
            "text/plain": [
              "availability\n",
              "completely orderable           253692\n",
              "?                              165255\n",
              "mainly orderable                 5756\n",
              "completely not orderable         1491\n",
              "mixed                            1284\n",
              "completely not determinable      1017\n",
              "mainly not orderable              320\n",
              "mainly not determinable           198\n",
              "Name: count, dtype: int64"
            ],
            "text/html": [
              "<div>\n",
              "<style scoped>\n",
              "    .dataframe tbody tr th:only-of-type {\n",
              "        vertical-align: middle;\n",
              "    }\n",
              "\n",
              "    .dataframe tbody tr th {\n",
              "        vertical-align: top;\n",
              "    }\n",
              "\n",
              "    .dataframe thead th {\n",
              "        text-align: right;\n",
              "    }\n",
              "</style>\n",
              "<table border=\"1\" class=\"dataframe\">\n",
              "  <thead>\n",
              "    <tr style=\"text-align: right;\">\n",
              "      <th></th>\n",
              "      <th>count</th>\n",
              "    </tr>\n",
              "    <tr>\n",
              "      <th>availability</th>\n",
              "      <th></th>\n",
              "    </tr>\n",
              "  </thead>\n",
              "  <tbody>\n",
              "    <tr>\n",
              "      <th>completely orderable</th>\n",
              "      <td>253692</td>\n",
              "    </tr>\n",
              "    <tr>\n",
              "      <th>?</th>\n",
              "      <td>165255</td>\n",
              "    </tr>\n",
              "    <tr>\n",
              "      <th>mainly orderable</th>\n",
              "      <td>5756</td>\n",
              "    </tr>\n",
              "    <tr>\n",
              "      <th>completely not orderable</th>\n",
              "      <td>1491</td>\n",
              "    </tr>\n",
              "    <tr>\n",
              "      <th>mixed</th>\n",
              "      <td>1284</td>\n",
              "    </tr>\n",
              "    <tr>\n",
              "      <th>completely not determinable</th>\n",
              "      <td>1017</td>\n",
              "    </tr>\n",
              "    <tr>\n",
              "      <th>mainly not orderable</th>\n",
              "      <td>320</td>\n",
              "    </tr>\n",
              "    <tr>\n",
              "      <th>mainly not determinable</th>\n",
              "      <td>198</td>\n",
              "    </tr>\n",
              "  </tbody>\n",
              "</table>\n",
              "</div><br><label><b>dtype:</b> int64</label>"
            ]
          },
          "metadata": {},
          "execution_count": 10
        }
      ],
      "source": [
        "# Memeriksa kategori pada atribut 'availability'\n",
        "order.availability.value_counts()"
      ]
    },
    {
      "cell_type": "code",
      "execution_count": null,
      "metadata": {
        "colab": {
          "base_uri": "https://localhost:8080/",
          "height": 178
        },
        "id": "-nVQNRQHaCpw",
        "outputId": "cd3e43f1-c7c8-4dca-dc67-582d0fa65eca"
      },
      "outputs": [
        {
          "output_type": "execute_result",
          "data": {
            "text/plain": [
              "order\n",
              "y    290030\n",
              "n    138983\n",
              "Name: count, dtype: int64"
            ],
            "text/html": [
              "<div>\n",
              "<style scoped>\n",
              "    .dataframe tbody tr th:only-of-type {\n",
              "        vertical-align: middle;\n",
              "    }\n",
              "\n",
              "    .dataframe tbody tr th {\n",
              "        vertical-align: top;\n",
              "    }\n",
              "\n",
              "    .dataframe thead th {\n",
              "        text-align: right;\n",
              "    }\n",
              "</style>\n",
              "<table border=\"1\" class=\"dataframe\">\n",
              "  <thead>\n",
              "    <tr style=\"text-align: right;\">\n",
              "      <th></th>\n",
              "      <th>count</th>\n",
              "    </tr>\n",
              "    <tr>\n",
              "      <th>order</th>\n",
              "      <th></th>\n",
              "    </tr>\n",
              "  </thead>\n",
              "  <tbody>\n",
              "    <tr>\n",
              "      <th>y</th>\n",
              "      <td>290030</td>\n",
              "    </tr>\n",
              "    <tr>\n",
              "      <th>n</th>\n",
              "      <td>138983</td>\n",
              "    </tr>\n",
              "  </tbody>\n",
              "</table>\n",
              "</div><br><label><b>dtype:</b> int64</label>"
            ]
          },
          "metadata": {},
          "execution_count": 11
        }
      ],
      "source": [
        "# Memeriksa kategori pada atribut 'order'\n",
        "order.order.value_counts()"
      ]
    },
    {
      "cell_type": "markdown",
      "source": [
        "Berdasarkan hasil pemeriksaan kategori-kategori di beberapa tabel, bisa disimpulkan tidak ada inkonsistensi data kategorikal.     \n",
        "Namun value `?` di dalam beberapa atribut sangat banyak hampir bisa mencapai setengah dari total record, tentu saja hal ini perlu ditangani."
      ],
      "metadata": {
        "id": "OlSsDpbtxZq_"
      }
    },
    {
      "cell_type": "markdown",
      "source": [
        "#### Mengidentifikasi Outlier"
      ],
      "metadata": {
        "id": "83iyP8G0Mqm_"
      }
    },
    {
      "cell_type": "code",
      "source": [
        "sns.boxplot(x=order['cSumPrice'])\n",
        "plt.title('Boxplot Total Harga dari Semua Produk yang diklik')\n",
        "plt.show()"
      ],
      "metadata": {
        "colab": {
          "base_uri": "https://localhost:8080/",
          "height": 472
        },
        "id": "7f6PpnYQMlWN",
        "outputId": "4b36dac0-66ff-40f8-ffbf-2e86b802078a"
      },
      "execution_count": null,
      "outputs": [
        {
          "output_type": "display_data",
          "data": {
            "text/plain": [
              "<Figure size 640x480 with 1 Axes>"
            ],
            "image/png": "[encoded data removed]"
          },
          "metadata": {}
        }
      ]
    },
    {
      "cell_type": "markdown",
      "source": [
        "Boxplot pada gambar ini membantu mendeteksi adanya outlier dalam data distribusi total harga produk yang diklik. Boxplot menunjukkan distribusi harga total produk yang diklik. Dengan whisker yang sepenuhnya mencakup semua data, tidak ada nilai ekstrem (outlier) yang terdeteksi di dataset ini."
      ],
      "metadata": {
        "id": "y3d6XCcibsrJ"
      }
    },
    {
      "cell_type": "code",
      "source": [
        "sns.boxplot(x=order['duration'])\n",
        "plt.title('Boxplot Waktu dalam Detik Sejak Sesi Dimulai')\n",
        "plt.show()"
      ],
      "metadata": {
        "colab": {
          "base_uri": "https://localhost:8080/",
          "height": 472
        },
        "id": "s2dWa13hWUWf",
        "outputId": "29258739-9972-468e-a244-bfdc2ee3bf16"
      },
      "execution_count": null,
      "outputs": [
        {
          "output_type": "display_data",
          "data": {
            "text/plain": [
              "<Figure size 640x480 with 1 Axes>"
            ],
            "image/png": "[encoded data removed]"
          },
          "metadata": {}
        }
      ]
    },
    {
      "cell_type": "markdown",
      "source": [
        "Boxplot pada gambar ini membantu mendeteksi adanya outlier dalam data distribusi durasi waktu sesi dimulai. Boxplot menunjukkan distribusi durasi waktu sesi dalam detik. Dengan whisker yang mencakup sebagian besar data, titik-titik yang terletak di luar whisker bagian kanan menunjukkan durasi sesi yang sangat lama, yang dapat dianggap sebagai outlier. Durasi yang sangat panjang ini bisa jadi merupakan kejadian yang jarang terjadi atau perlu diperiksa lebih lanjut untuk memastikan apakah itu data yang valid atau sebuah kesalahan."
      ],
      "metadata": {
        "id": "R-w2TOFMnbo1"
      }
    },
    {
      "cell_type": "code",
      "source": [
        "sns.boxplot(x=order['cCount'])\n",
        "plt.title('Boxplot Jumlah Produk yang Diklik')\n",
        "plt.show()"
      ],
      "metadata": {
        "colab": {
          "base_uri": "https://localhost:8080/",
          "height": 472
        },
        "id": "m3YDpBv9XkDf",
        "outputId": "bc634e14-1b6a-47e4-c6ec-f3444a977f81"
      },
      "execution_count": null,
      "outputs": [
        {
          "output_type": "display_data",
          "data": {
            "text/plain": [
              "<Figure size 640x480 with 1 Axes>"
            ],
            "image/png": "[encoded data removed]"
          },
          "metadata": {}
        }
      ]
    },
    {
      "cell_type": "markdown",
      "source": [
        "Boxplot Jumlah Produk yang Diklik menunjukkan bahwa sebagian besar sesi memiliki jumlah klik yang rendah, dengan median berada di kisaran bawah. Mayoritas klik berkisar antara 0 hingga 25, sementara terdapat beberapa outlier signifikan hingga mendekati 200 klik. Hal ini mengindikasikan bahwa sebagian besar pengguna hanya menjelajahi sedikit produk, sedangkan sejumlah kecil pengguna menunjukkan aktivitas klik yang sangat tinggi. Rentang antarkuartil (IQR) yang sempit mencerminkan konsentrasi data pada kisaran klik rendah."
      ],
      "metadata": {
        "id": "V0ZnxaBSoYdg"
      }
    },
    {
      "cell_type": "code",
      "source": [
        "sns.boxplot(x=order['cCount'])\n",
        "plt.title('Boxplot Jumlah produk yang Dimasukkan ke Keranjang Belanja')\n",
        "plt.show()"
      ],
      "metadata": {
        "colab": {
          "base_uri": "https://localhost:8080/",
          "height": 472
        },
        "id": "lnk2T1HiYLiV",
        "outputId": "bb2de745-df12-4515-a6d5-e1df5c09c203"
      },
      "execution_count": null,
      "outputs": [
        {
          "output_type": "display_data",
          "data": {
            "text/plain": [
              "<Figure size 640x480 with 1 Axes>"
            ],
            "image/png": "[encoded data removed]"
          },
          "metadata": {}
        }
      ]
    },
    {
      "cell_type": "markdown",
      "source": [
        "Boxplot menunjukkan distribusi jumlah produk (cCount) di keranjang belanja. Mayoritas transaksi di bawah 25 produk, dengan median di tengah kotak. Titik di luar garis (whiskers) adalah outlier yang mewakili transaksi dengan jumlah produk sangat tinggi (>100)."
      ],
      "metadata": {
        "id": "hv10XdOtoiNG"
      }
    },
    {
      "cell_type": "markdown",
      "metadata": {
        "id": "S9f7f7f6oEgm"
      },
      "source": [
        "|\n",
        "\n",
        "|\n",
        "\n",
        "|"
      ]
    },
    {
      "cell_type": "markdown",
      "metadata": {
        "id": "04CLgYWMnxr1"
      },
      "source": [
        "### B. Pra-pemrosesan Data"
      ]
    },
    {
      "cell_type": "markdown",
      "metadata": {
        "id": "BsgUS81qac2_"
      },
      "source": [
        "#### Menghapus beberapa kolom atribut"
      ]
    },
    {
      "cell_type": "markdown",
      "source": [
        "Kolom `customerNo` biasanya hanya digunakan sebagai pengenal unik pelanggan, sehingga tidak memberikan informasi penting untuk analisis. Kolom `startHour` dianggap kurang relevan atau tidak memiliki pengaruh besar terhadap hasil analisis."
      ],
      "metadata": {
        "id": "5hUqF8NzrSh8"
      }
    },
    {
      "cell_type": "code",
      "execution_count": 40,
      "metadata": {
        "id": "nRm8MrLcP9Or"
      },
      "outputs": [],
      "source": [
        "order = order.drop(columns=['customerNo', 'startHour'])"
      ]
    },
    {
      "cell_type": "markdown",
      "metadata": {
        "id": "LFKDrqcz2Rs0"
      },
      "source": [
        "#### Menangani nilai '?' dengan menggantinya dengan nilai NULL"
      ]
    },
    {
      "cell_type": "markdown",
      "metadata": {
        "id": "FO0E-kbphxRS"
      },
      "source": [
        "Proses mengganti nilai `'?'` dengan NULL (NaN) dan menghapus baris yang mengandung NaN bertujuan untuk membersihkan data dari nilai yang tidak valid atau hilang. Nilai `'?'` sering kali mewakili data yang tidak diketahui, dan dengan mengubahnya menjadi NaN, data yang hilang dapat ditangani secara konsisten."
      ]
    },
    {
      "cell_type": "code",
      "execution_count": 41,
      "metadata": {
        "id": "jGY2jMHooMOS"
      },
      "outputs": [],
      "source": [
        "# Mengganti '?' dengan NaN\n",
        "order = order.replace('?', np.nan)"
      ]
    },
    {
      "cell_type": "markdown",
      "metadata": {
        "id": "dG__jJ-zh0sI"
      },
      "source": [
        "Kode ini mengganti semua nilai `'?'` di data order2 dengan NaN (Not a Number), yaitu penanda untuk nilai yang hilang atau kosong. Biasanya, simbol `'?'` dipakai untuk menunjukkan data yang tidak ada, sehingga perlu diganti dengan NaN agar lebih mudah diproses dalam tahap selanjutnya."
      ]
    },
    {
      "cell_type": "markdown",
      "metadata": {
        "id": "W_UckKmGh2cm"
      },
      "source": [
        "Setelah nilai `'?'` diubah menjadi NaN, kode ini menghapus semua baris yang memiliki setidaknya satu NaN. Mengapa ini dilakukan? Karena data yang tidak lengkap dapat menyebabkan masalah atau ketidakakuratan dalam analisis. Dengan menghapus baris yang memiliki data kosong, maka data yang tersisa akan lebih bersih dan siap untuk dianalisis."
      ]
    },
    {
      "cell_type": "markdown",
      "source": [
        "Memeriksa nilai NULL setelah di melakukan penggantian"
      ],
      "metadata": {
        "id": "rLP0isD6dO5V"
      }
    },
    {
      "cell_type": "code",
      "source": [
        "order.isnull().sum()"
      ],
      "metadata": {
        "colab": {
          "base_uri": "https://localhost:8080/",
          "height": 774
        },
        "id": "eCtr-JOzZYAU",
        "outputId": "4ac8b0e8-6834-4e93-da8f-c31e210e51f4"
      },
      "execution_count": 42,
      "outputs": [
        {
          "output_type": "execute_result",
          "data": {
            "text/plain": [
              "sessionNo               0\n",
              "startWeekday            0\n",
              "duration                0\n",
              "cCount                  0\n",
              "cMinPrice            2765\n",
              "cMaxPrice            2765\n",
              "cSumPrice            2765\n",
              "bCount                  0\n",
              "bMinPrice            5130\n",
              "bMaxPrice            5130\n",
              "bSumPrice            5130\n",
              "bStep              191333\n",
              "onlineStatus       160379\n",
              "availability       165255\n",
              "maxVal             153740\n",
              "customerScore      153740\n",
              "accountLifetime    153740\n",
              "payments           151098\n",
              "age                151396\n",
              "address            151098\n",
              "lastOrder          151098\n",
              "order                   0\n",
              "dtype: int64"
            ],
            "text/html": [
              "<div>\n",
              "<style scoped>\n",
              "    .dataframe tbody tr th:only-of-type {\n",
              "        vertical-align: middle;\n",
              "    }\n",
              "\n",
              "    .dataframe tbody tr th {\n",
              "        vertical-align: top;\n",
              "    }\n",
              "\n",
              "    .dataframe thead th {\n",
              "        text-align: right;\n",
              "    }\n",
              "</style>\n",
              "<table border=\"1\" class=\"dataframe\">\n",
              "  <thead>\n",
              "    <tr style=\"text-align: right;\">\n",
              "      <th></th>\n",
              "      <th>0</th>\n",
              "    </tr>\n",
              "  </thead>\n",
              "  <tbody>\n",
              "    <tr>\n",
              "      <th>sessionNo</th>\n",
              "      <td>0</td>\n",
              "    </tr>\n",
              "    <tr>\n",
              "      <th>startWeekday</th>\n",
              "      <td>0</td>\n",
              "    </tr>\n",
              "    <tr>\n",
              "      <th>duration</th>\n",
              "      <td>0</td>\n",
              "    </tr>\n",
              "    <tr>\n",
              "      <th>cCount</th>\n",
              "      <td>0</td>\n",
              "    </tr>\n",
              "    <tr>\n",
              "      <th>cMinPrice</th>\n",
              "      <td>2765</td>\n",
              "    </tr>\n",
              "    <tr>\n",
              "      <th>cMaxPrice</th>\n",
              "      <td>2765</td>\n",
              "    </tr>\n",
              "    <tr>\n",
              "      <th>cSumPrice</th>\n",
              "      <td>2765</td>\n",
              "    </tr>\n",
              "    <tr>\n",
              "      <th>bCount</th>\n",
              "      <td>0</td>\n",
              "    </tr>\n",
              "    <tr>\n",
              "      <th>bMinPrice</th>\n",
              "      <td>5130</td>\n",
              "    </tr>\n",
              "    <tr>\n",
              "      <th>bMaxPrice</th>\n",
              "      <td>5130</td>\n",
              "    </tr>\n",
              "    <tr>\n",
              "      <th>bSumPrice</th>\n",
              "      <td>5130</td>\n",
              "    </tr>\n",
              "    <tr>\n",
              "      <th>bStep</th>\n",
              "      <td>191333</td>\n",
              "    </tr>\n",
              "    <tr>\n",
              "      <th>onlineStatus</th>\n",
              "      <td>160379</td>\n",
              "    </tr>\n",
              "    <tr>\n",
              "      <th>availability</th>\n",
              "      <td>165255</td>\n",
              "    </tr>\n",
              "    <tr>\n",
              "      <th>maxVal</th>\n",
              "      <td>153740</td>\n",
              "    </tr>\n",
              "    <tr>\n",
              "      <th>customerScore</th>\n",
              "      <td>153740</td>\n",
              "    </tr>\n",
              "    <tr>\n",
              "      <th>accountLifetime</th>\n",
              "      <td>153740</td>\n",
              "    </tr>\n",
              "    <tr>\n",
              "      <th>payments</th>\n",
              "      <td>151098</td>\n",
              "    </tr>\n",
              "    <tr>\n",
              "      <th>age</th>\n",
              "      <td>151396</td>\n",
              "    </tr>\n",
              "    <tr>\n",
              "      <th>address</th>\n",
              "      <td>151098</td>\n",
              "    </tr>\n",
              "    <tr>\n",
              "      <th>lastOrder</th>\n",
              "      <td>151098</td>\n",
              "    </tr>\n",
              "    <tr>\n",
              "      <th>order</th>\n",
              "      <td>0</td>\n",
              "    </tr>\n",
              "  </tbody>\n",
              "</table>\n",
              "</div><br><label><b>dtype:</b> int64</label>"
            ]
          },
          "metadata": {},
          "execution_count": 42
        }
      ]
    },
    {
      "cell_type": "markdown",
      "metadata": {
        "id": "UM5r9q2Ih5ii"
      },
      "source": [
        "Dapat dilihat, sekarang nilai NULL dalam beberapa atribut sudah bisa terdeteksi."
      ]
    },
    {
      "cell_type": "markdown",
      "source": [
        "#### Menangani nilai NULL dengan menggunakan Hot Deck Imputation"
      ],
      "metadata": {
        "id": "uzeJYBcGd6QI"
      }
    },
    {
      "cell_type": "markdown",
      "source": [
        "Hot deck imputation adalah metode yang digunakan untuk mengatasi masalah missing values dalam dataset.       \n",
        "Metode ini bekerja dengan cara mengisi nilai yang hilang pada suatu record dengan nilai dari record lain yang memiliki karakteristik serupa."
      ],
      "metadata": {
        "id": "-9yYln4TfMp3"
      }
    },
    {
      "cell_type": "code",
      "source": [
        "# Hot Deck Imputation (Random)\n",
        "# Pilih hanya nilai yang tidak kosong\n",
        "non_missing_values_cMinPrice = order['cMinPrice'].dropna()\n",
        "non_missing_values_cMaxPrice = order['cMaxPrice'].dropna()\n",
        "non_missing_values_cSumPrice = order['cSumPrice'].dropna()\n",
        "non_missing_values_bMinPrice = order['bMinPrice'].dropna()\n",
        "non_missing_values_bMaxPrice = order['bMaxPrice'].dropna()\n",
        "non_missing_values_bSumPrice = order['bSumPrice'].dropna()\n",
        "non_missing_values_bStep = order['bStep'].dropna()\n",
        "non_missing_values_onlineStatus = order['onlineStatus'].dropna()\n",
        "non_missing_values_availability = order['availability'].dropna()\n",
        "non_missing_values_maxVal = order['maxVal'].dropna()\n",
        "non_missing_values_customerScore = order['customerScore'].dropna()\n",
        "non_missing_values_accountLifetime = order['accountLifetime'].dropna()\n",
        "non_missing_values_payments = order['payments'].dropna()\n",
        "non_missing_values_age = order['age'].dropna()\n",
        "non_missing_values_address = order['address'].dropna()\n",
        "non_missing_values_lastOrder = order['lastOrder'].dropna()\n",
        "non_missing_values_order = order['order'].dropna()\n",
        "\n",
        "# Imputasi nilai kosong dengan sampel acak dari nilai yang tersedia\n",
        "order['cMinPrice'] = order['cMinPrice'].apply(lambda x: np.random.choice(non_missing_values_cMinPrice) if pd.isnull(x) else x)\n",
        "order['cMaxPrice'] = order['cMaxPrice'].apply(lambda x: np.random.choice(non_missing_values_cMaxPrice) if pd.isnull(x) else x)\n",
        "order['cSumPrice'] = order['cSumPrice'].apply(lambda x: np.random.choice(non_missing_values_cSumPrice) if pd.isnull(x) else x)\n",
        "order['bMinPrice'] = order['bMinPrice'].apply(lambda x: np.random.choice(non_missing_values_cMinPrice) if pd.isnull(x) else x)\n",
        "order['bMaxPrice'] = order['bMaxPrice'].apply(lambda x: np.random.choice(non_missing_values_cMaxPrice) if pd.isnull(x) else x)\n",
        "order['bSumPrice'] = order['bSumPrice'].apply(lambda x: np.random.choice(non_missing_values_cSumPrice) if pd.isnull(x) else x)\n",
        "order['bStep'] = order['bStep'].apply(lambda x: np.random.choice(non_missing_values_bStep) if pd.isnull(x) else x)\n",
        "order['onlineStatus'] = order['onlineStatus'].apply(lambda x: np.random.choice(non_missing_values_onlineStatus) if pd.isnull(x) else x)\n",
        "order['availability'] = order['availability'].apply(lambda x: np.random.choice(non_missing_values_availability) if pd.isnull(x) else x)\n",
        "order['maxVal'] = order['maxVal'].apply(lambda x: np.random.choice(non_missing_values_maxVal) if pd.isnull(x) else x)\n",
        "order['customerScore'] = order['customerScore'].apply(lambda x: np.random.choice(non_missing_values_customerScore) if pd.isnull(x) else x)\n",
        "order['accountLifetime'] = order['accountLifetime'].apply(lambda x: np.random.choice(non_missing_values_accountLifetime) if pd.isnull(x) else x)\n",
        "order['payments'] = order['payments'].apply(lambda x: np.random.choice(non_missing_values_payments) if pd.isnull(x) else x)\n",
        "order['age'] = order['age'].apply(lambda x: np.random.choice(non_missing_values_age) if pd.isnull(x) else x)\n",
        "order['address'] = order['address'].apply(lambda x: np.random.choice(non_missing_values_address) if pd.isnull(x) else x)\n",
        "order['lastOrder'] = order['lastOrder'].apply(lambda x: np.random.choice(non_missing_values_lastOrder) if pd.isnull(x) else x)\n",
        "order['order'] = order['order'].apply(lambda x: np.random.choice(non_missing_values_order) if pd.isnull(x) else x)"
      ],
      "metadata": {
        "id": "_DLHo_Y6d_fC"
      },
      "execution_count": 43,
      "outputs": []
    },
    {
      "cell_type": "markdown",
      "source": [
        "Memeriksa jumlah nilai NULL setelah dilakukan *Hot Deck Imputation*."
      ],
      "metadata": {
        "id": "KPRLpWbfkmhB"
      }
    },
    {
      "cell_type": "code",
      "source": [
        "order.isnull().sum()"
      ],
      "metadata": {
        "colab": {
          "base_uri": "https://localhost:8080/",
          "height": 774
        },
        "id": "VsYmRsfYgukx",
        "outputId": "9b671928-6d3a-4fe6-eb0d-9a7d633ef5ab"
      },
      "execution_count": 44,
      "outputs": [
        {
          "output_type": "execute_result",
          "data": {
            "text/plain": [
              "sessionNo          0\n",
              "startWeekday       0\n",
              "duration           0\n",
              "cCount             0\n",
              "cMinPrice          0\n",
              "cMaxPrice          0\n",
              "cSumPrice          0\n",
              "bCount             0\n",
              "bMinPrice          0\n",
              "bMaxPrice          0\n",
              "bSumPrice          0\n",
              "bStep              0\n",
              "onlineStatus       0\n",
              "availability       0\n",
              "maxVal             0\n",
              "customerScore      0\n",
              "accountLifetime    0\n",
              "payments           0\n",
              "age                0\n",
              "address            0\n",
              "lastOrder          0\n",
              "order              0\n",
              "dtype: int64"
            ],
            "text/html": [
              "<div>\n",
              "<style scoped>\n",
              "    .dataframe tbody tr th:only-of-type {\n",
              "        vertical-align: middle;\n",
              "    }\n",
              "\n",
              "    .dataframe tbody tr th {\n",
              "        vertical-align: top;\n",
              "    }\n",
              "\n",
              "    .dataframe thead th {\n",
              "        text-align: right;\n",
              "    }\n",
              "</style>\n",
              "<table border=\"1\" class=\"dataframe\">\n",
              "  <thead>\n",
              "    <tr style=\"text-align: right;\">\n",
              "      <th></th>\n",
              "      <th>0</th>\n",
              "    </tr>\n",
              "  </thead>\n",
              "  <tbody>\n",
              "    <tr>\n",
              "      <th>sessionNo</th>\n",
              "      <td>0</td>\n",
              "    </tr>\n",
              "    <tr>\n",
              "      <th>startWeekday</th>\n",
              "      <td>0</td>\n",
              "    </tr>\n",
              "    <tr>\n",
              "      <th>duration</th>\n",
              "      <td>0</td>\n",
              "    </tr>\n",
              "    <tr>\n",
              "      <th>cCount</th>\n",
              "      <td>0</td>\n",
              "    </tr>\n",
              "    <tr>\n",
              "      <th>cMinPrice</th>\n",
              "      <td>0</td>\n",
              "    </tr>\n",
              "    <tr>\n",
              "      <th>cMaxPrice</th>\n",
              "      <td>0</td>\n",
              "    </tr>\n",
              "    <tr>\n",
              "      <th>cSumPrice</th>\n",
              "      <td>0</td>\n",
              "    </tr>\n",
              "    <tr>\n",
              "      <th>bCount</th>\n",
              "      <td>0</td>\n",
              "    </tr>\n",
              "    <tr>\n",
              "      <th>bMinPrice</th>\n",
              "      <td>0</td>\n",
              "    </tr>\n",
              "    <tr>\n",
              "      <th>bMaxPrice</th>\n",
              "      <td>0</td>\n",
              "    </tr>\n",
              "    <tr>\n",
              "      <th>bSumPrice</th>\n",
              "      <td>0</td>\n",
              "    </tr>\n",
              "    <tr>\n",
              "      <th>bStep</th>\n",
              "      <td>0</td>\n",
              "    </tr>\n",
              "    <tr>\n",
              "      <th>onlineStatus</th>\n",
              "      <td>0</td>\n",
              "    </tr>\n",
              "    <tr>\n",
              "      <th>availability</th>\n",
              "      <td>0</td>\n",
              "    </tr>\n",
              "    <tr>\n",
              "      <th>maxVal</th>\n",
              "      <td>0</td>\n",
              "    </tr>\n",
              "    <tr>\n",
              "      <th>customerScore</th>\n",
              "      <td>0</td>\n",
              "    </tr>\n",
              "    <tr>\n",
              "      <th>accountLifetime</th>\n",
              "      <td>0</td>\n",
              "    </tr>\n",
              "    <tr>\n",
              "      <th>payments</th>\n",
              "      <td>0</td>\n",
              "    </tr>\n",
              "    <tr>\n",
              "      <th>age</th>\n",
              "      <td>0</td>\n",
              "    </tr>\n",
              "    <tr>\n",
              "      <th>address</th>\n",
              "      <td>0</td>\n",
              "    </tr>\n",
              "    <tr>\n",
              "      <th>lastOrder</th>\n",
              "      <td>0</td>\n",
              "    </tr>\n",
              "    <tr>\n",
              "      <th>order</th>\n",
              "      <td>0</td>\n",
              "    </tr>\n",
              "  </tbody>\n",
              "</table>\n",
              "</div><br><label><b>dtype:</b> int64</label>"
            ]
          },
          "metadata": {},
          "execution_count": 44
        }
      ]
    },
    {
      "cell_type": "markdown",
      "source": [
        "Dapat dilihat, nilai NULL sudah tidak ada."
      ],
      "metadata": {
        "id": "v5hfRO0Lkvsh"
      }
    },
    {
      "cell_type": "markdown",
      "source": [
        "Perbandingan Distribusi Sebelum dan Sesudah Imputasi"
      ],
      "metadata": {
        "id": "DArOJ-Fnk0LY"
      }
    },
    {
      "cell_type": "code",
      "source": [
        "order_before = pd.read_csv('transact_train.txt', delimiter='|')\n",
        "order_before = order_before.replace('?', np.nan)\n",
        "\n",
        "# Visualisasi distribusi sebelum dan sesudah imputasi\n",
        "plt.figure(figsize=(12, 6))\n",
        "\n",
        "# Sebelum imputasi\n",
        "plt.subplot(1, 2, 1)\n",
        "sns.histplot(order_before['bStep'], bins=5, kde=True, color='blue', edgecolor='black')\n",
        "plt.title('Distribusi Sebelum Imputasi')\n",
        "plt.xlabel('bStep')\n",
        "plt.ylabel('Frekuensi')\n",
        "plt.grid(axis='y')\n",
        "\n",
        "# Setelah imputasi\n",
        "plt.subplot(1, 2, 2)\n",
        "sns.histplot(order['bStep'], bins=5, kde=True, color='green', edgecolor='black')\n",
        "plt.title('Distribusi Setelah Imputasi')\n",
        "plt.xlabel('bStep')\n",
        "plt.ylabel('Frekuensi')\n",
        "plt.grid(axis='y')\n",
        "\n",
        "plt.tight_layout()\n",
        "plt.show()"
      ],
      "metadata": {
        "colab": {
          "base_uri": "https://localhost:8080/",
          "height": 607
        },
        "id": "5D-5junZhvd-",
        "outputId": "df2aab4c-7483-48cc-a4ae-4236194cb6e6"
      },
      "execution_count": 49,
      "outputs": [
        {
          "output_type": "display_data",
          "data": {
            "text/plain": [
              "<Figure size 1200x600 with 2 Axes>"
            ],
            "image/png": "[encoded data removed]"
          },
          "metadata": {}
        }
      ]
    },
    {
      "cell_type": "markdown",
      "source": [
        "Plot ini membandingkan distribusi data sebelum dan sesudah imputasi untuk variabel bStep. Berikut penjelasannya:\n",
        "\n",
        "1. Distribusi Sebelum Imputasi (kiri):\n",
        "   - Histogram menunjukkan jumlah frekuensi data yang ada untuk setiap kategori di bStep.\n",
        "   - Terlihat ada pola distribusi dengan beberapa puncak, menunjukkan adanya gap atau data kosong/missing pada kategori tertentu. Hal ini membuat distribusi tidak sepenuhnya merata.\n",
        "   - Kurva biru memperlihatkan density estimation (estimasi kepadatan data), yang juga mencerminkan bentuk distribusi.\n",
        "\n",
        "2. Distribusi Setelah Imputasi (kanan):\n",
        "   - Setelah dilakukan imputasi (mengisi nilai yang hilang), distribusi menjadi lebih teratur.\n",
        "   - Frekuensi pada histogram meningkat di beberapa kategori, menunjukkan data yang sebelumnya kosong telah diisi.\n",
        "   - Kurva hijau (density) menjadi lebih halus, mencerminkan distribusi data yang lebih stabil dan konsisten.\n",
        "\n",
        "- Imputasi berhasil memperbaiki distribusi data, mengurangi gap atau ketimpangan antara kategori.\n",
        "- Namun, kita perlu mengevaluasi metode imputasi yang digunakan untuk memastikan bahwa pola distribusi tidak menjadi bias atau terlalu terdistorsi dari data aslinya."
      ],
      "metadata": {
        "id": "akB8Y-dDmT6h"
      }
    },
    {
      "cell_type": "markdown",
      "metadata": {
        "id": "h0gIsScY2k70"
      },
      "source": [
        "#### Mengonversi atribut-atribut yang seharusnya nilai numerik"
      ]
    },
    {
      "cell_type": "markdown",
      "metadata": {
        "id": "BNLG8vsgh_J2"
      },
      "source": [
        "Mengonversi atribut yang seharusnya bernilai numerik memastikan kolom numerik memiliki tipe data yang sesuai, yaitu angka, bukan teks. Hal ini penting agar perhitungan, seperti mencari rata-rata atau total, dapat dilakukan dengan benar. Jika data masih dalam bentuk teks, perhitungan bisa menghasilkan kesalahan. Dengan melakukan konversi, kita memastikan bahwa seluruh proses analisis berjalan dengan akurat dan efektif."
      ]
    },
    {
      "cell_type": "code",
      "execution_count": 50,
      "metadata": {
        "id": "9fN3xfuL2Jdc"
      },
      "outputs": [],
      "source": [
        "# Mengonversi kolom yang seharusnya numerik\n",
        "numerical_cols = ['cMinPrice', 'cMaxPrice', 'cSumPrice', 'bMinPrice', 'bMaxPrice',\n",
        "                  'bSumPrice', 'bStep', 'maxVal', 'customerScore', 'accountLifetime', 'payments', 'age', 'address', 'lastOrder']\n",
        "\n",
        "for col in numerical_cols:\n",
        "    order[col] = pd.to_numeric(order[col], errors='coerce')  # errors='coerce' mengubah nilai error menjadi NaN"
      ]
    },
    {
      "cell_type": "markdown",
      "metadata": {
        "id": "7EBtod5hiDZG"
      },
      "source": [
        "Bagian pertama kode ini membuat daftar nama-nama kolom yang seharusnya bernilai angka, seperti harga, skor pelanggan, atau umur. Namun, kolom-kolom ini mungkin masih berbentuk teks (string), sehingga perlu dikonversi ke bentuk angka supaya bisa digunakan dalam perhitungan.\n",
        "\n",
        "Pada langkah selanjutnya, kode melakukan perulangan (for) untuk mengonversi setiap kolom dalam daftar numerical_cols menjadi angka. Fungsi pd.to_numeric() digunakan untuk mengubah teks menjadi angka. Parameter errors='coerce' artinya jika ada nilai yang tidak bisa diubah menjadi angka (misalnya teks yang tidak valid), maka nilai tersebut akan otomatis diubah menjadi NaN."
      ]
    },
    {
      "cell_type": "markdown",
      "metadata": {
        "id": "iNx0_p6r3LF8"
      },
      "source": [
        "#### Mengonversi nilai kategorikal menjadi nilai kategori"
      ]
    },
    {
      "cell_type": "markdown",
      "metadata": {
        "id": "kVg2o6WniGDX"
      },
      "source": [
        "Mengonversi nilai kategorikal menjadi nilai kategori bertujuan untuk mengubah data seperti teks atau status menjadi tipe data kategori. Proses ini membuat data lebih efisien dalam penggunaan memori dan mempercepat pemrosesan, sehingga lebih mudah digunakan dalam analisis atau pemodelan."
      ]
    },
    {
      "cell_type": "code",
      "execution_count": 51,
      "metadata": {
        "id": "QUfsW4Ln3U5D"
      },
      "outputs": [],
      "source": [
        "from sklearn.preprocessing import LabelEncoder\n",
        "\n",
        "# Mengonversi kolom kategorikal menggunakan Label Encoding\n",
        "categorical_cols = ['onlineStatus', 'availability']  # Kolom yang perlu dikonversi\n",
        "\n",
        "# Membuat objek LabelEncoder\n",
        "label_encoder = LabelEncoder()\n",
        "\n",
        "# Mengonversi setiap kolom kategorikal\n",
        "for col in categorical_cols:\n",
        "    order[col] = label_encoder.fit_transform(order[col])\n",
        "\n",
        "# Mengonversi kolom target 'order' menjadi numerikal (1 untuk 'y', 0 untuk 'n')\n",
        "order['order'] = order['order'].apply(lambda x: 1 if x == 'y' else 0)"
      ]
    },
    {
      "cell_type": "markdown",
      "metadata": {
        "id": "jB2ndq6tiI-B"
      },
      "source": [
        "Kode di atas bertujuan untuk mengonversi beberapa kolom menjadi tipe data yang lebih sesuai. Pertama, kolom-kolom kategorikal seperti `onlineStatus` dan `availability` diubah menjadi tipe data kategori menggunakan `astype('category')`, yang membuat data lebih efisien dalam hal penggunaan memori dan pemrosesan. Kedua, kolom `order` yang berisi nilai teks ('y' dan 'n') diubah menjadi angka (1 untuk 'y' dan 0 untuk 'n') dengan menggunakan fungsi `apply()` dan `lambda`. Proses ini mempersiapkan data untuk analisis lebih lanjut atau pemodelan, di mana tipe data yang tepat sangat penting."
      ]
    },
    {
      "cell_type": "markdown",
      "metadata": {
        "id": "w06FI-9k3jH-"
      },
      "source": [
        "#### Melakukan normalisasi dan standarisasi data"
      ]
    },
    {
      "cell_type": "markdown",
      "metadata": {
        "id": "atvPQNb0iLWc"
      },
      "source": [
        "Normalisasi dan standarisasi digunakan untuk menyamakan skala data agar analisis atau pemodelan lebih efektif. Normalisasi mengubah data ke rentang tertentu, seperti 0 hingga 1, sementara standarisasi membuat data memiliki rata-rata 0 dan deviasi standar 1. Kedua proses ini penting untuk memastikan variabel dengan skala berbeda tidak mempengaruhi hasil secara tidak seimbang."
      ]
    },
    {
      "cell_type": "code",
      "execution_count": 52,
      "metadata": {
        "id": "F9mnmRCN3qNq"
      },
      "outputs": [],
      "source": [
        "# Membuat skala untuk kolom numerik\n",
        "scaler = StandardScaler()\n",
        "scaled_columns = ['startWeekday', 'duration', 'cCount', 'bCount'] + numerical_cols\n",
        "order[scaled_columns] = scaler.fit_transform(order[scaled_columns])"
      ]
    },
    {
      "cell_type": "markdown",
      "metadata": {
        "id": "EXmCnEEJiMJw"
      },
      "source": [
        "Kode di atas melakukan **standarisasi** pada kolom-kolom numerik dalam dataset menggunakan `StandardScaler` dari `sklearn`. Pertama, objek `scaler` dibuat dengan `StandardScaler()`, yang digunakan untuk mengubah data agar memiliki rata-rata 0 dan deviasi standar 1. Kemudian, kolom-kolom yang ingin distandarisasi, seperti `startHour`, `startWeekday`, `duration`, `cCount`, `bCount`, dan kolom numerik lainnya, dipilih dalam list `scaled_columns`. Terakhir, fungsi `fit_transform()` diterapkan pada kolom-kolom tersebut untuk menghitung rata-rata dan deviasi standar, lalu mentransformasikan data sehingga memiliki skala yang seragam. Proses ini penting agar algoritma dapat bekerja secara optimal tanpa dipengaruhi oleh variabel dengan skala yang berbeda."
      ]
    },
    {
      "cell_type": "markdown",
      "metadata": {
        "id": "XW20ZPdYoO8d"
      },
      "source": [
        "|\n",
        "\n",
        "|\n",
        "\n",
        "|"
      ]
    },
    {
      "cell_type": "markdown",
      "metadata": {
        "id": "xM77Z0PUoQ8M"
      },
      "source": [
        "## **2. Model Klasifikasi**"
      ]
    },
    {
      "cell_type": "markdown",
      "source": [
        "#### Model-model klasifikasi yang akan dibuat :\n",
        "#### 1. XGboost\n",
        "#### 2. RandomForest"
      ],
      "metadata": {
        "id": "Ymk23kg62DZl"
      }
    },
    {
      "cell_type": "markdown",
      "source": [
        "### A. Pelatihan Model"
      ],
      "metadata": {
        "id": "qH9BDzR_1p_C"
      }
    },
    {
      "cell_type": "markdown",
      "metadata": {
        "id": "KEBhziFk44nj"
      },
      "source": [
        "#### Import Libraries yang diperlukan"
      ]
    },
    {
      "cell_type": "code",
      "execution_count": 54,
      "metadata": {
        "id": "1giZ-sS7oj_a"
      },
      "outputs": [],
      "source": [
        "from sklearn.model_selection import train_test_split\n",
        "from sklearn.ensemble import RandomForestClassifier\n",
        "from xgboost import XGBClassifier\n",
        "from sklearn.metrics import accuracy_score, classification_report, confusion_matrix"
      ]
    },
    {
      "cell_type": "markdown",
      "metadata": {
        "id": "5oFJ7cdddecS"
      },
      "source": [
        "Kode di atas adalah bagian dari proses persiapan untuk melatih dan mengevaluasi model machine learning dengan menggunakan pustaka scikit-learn dan XGBoost.\n",
        "1. **`from sklearn.model_selection import train_test_split`**\n",
        "   - `train_test_split` adalah fungsi dari scikit-learn yang digunakan untuk membagi dataset menjadi dua bagian: data pelatihan (train set) dan data pengujian (test set).\n",
        "   - Fungsi ini sering digunakan untuk memisahkan dataset, misalnya dengan rasio 80:20 atau 70:30, sehingga model dapat dilatih menggunakan bagian data pelatihan dan kemudian diuji pada bagian data pengujian untuk mengevaluasi kinerjanya.\n",
        "\n",
        "2. **`from sklearn.ensemble import RandomForestClassifier`**\n",
        "   - `RandomForestClassifier` adalah kelas dari scikit-learn yang digunakan untuk membuat model klasifikasi dengan metode *Random Forest*.\n",
        "   - *Random Forest* adalah metode ensemble yang menggunakan banyak pohon keputusan (decision trees) untuk membuat prediksi. Setiap pohon memberikan prediksinya, dan hasil akhir diambil berdasarkan suara terbanyak dari pohon-pohon tersebut.\n",
        "\n",
        "3. **`from xgboost import XGBClassifier`**\n",
        "   - `XGBClassifier` adalah kelas dari pustaka XGBoost yang digunakan untuk membuat model klasifikasi menggunakan metode XGBoost (Extreme Gradient Boosting).\n",
        "   - XGBoost adalah metode boosting yang sangat efisien dan sering kali menghasilkan akurasi tinggi dengan memanfaatkan algoritma pohon keputusan yang dioptimalkan.\n",
        "\n",
        "4. **`from sklearn.metrics import accuracy_score, classification_report, confusion_matrix`**\n",
        "   - Ketiga fungsi ini berasal dari pustaka scikit-learn dan digunakan untuk mengevaluasi performa model setelah pelatihan:\n",
        "     - **`accuracy_score`**: Menghitung akurasi model, yaitu persentase prediksi yang benar dari total prediksi.\n",
        "     - **`classification_report`**: Menyediakan laporan yang lebih rinci tentang performa model, termasuk precision, recall, dan F1-score untuk masing-masing kelas dalam dataset.\n",
        "     - **`confusion_matrix`**: Menyajikan matriks kebingungan (confusion matrix) yang menunjukkan jumlah true positives, false positives, true negatives, dan false negatives untuk tiap kelas. Ini berguna untuk memahami distribusi kesalahan model."
      ]
    },
    {
      "cell_type": "markdown",
      "metadata": {
        "id": "2S_bzthj5D_F"
      },
      "source": [
        "#### Melakukan pemisahan fitur dan target dan Membagi dataset menjadi Data Train dan Data Test (dengan split 80% dan 20%)"
      ]
    },
    {
      "cell_type": "markdown",
      "metadata": {
        "id": "pd3vppxpfw96"
      },
      "source": [
        "ini adalah bagian dari proses persiapan data sebelum membangun model machine learning. Pada tahap ini, dataset akan dipisahkan menjadi dua bagian: fitur (features) dan target (label). Setelah itu, data tersebut akan dibagi lagi menjadi data pelatihan dan data pengujian untuk memudahkan proses pelatihan model dan evaluasi."
      ]
    },
    {
      "cell_type": "code",
      "execution_count": 55,
      "metadata": {
        "id": "RcSLi_5p5J_h"
      },
      "outputs": [],
      "source": [
        "# Memisahkan fitur dan target\n",
        "X = order.drop('order', axis=1)  # Menghapus kolom target 'order' dari fitur\n",
        "y = order['order']               # Menyimpan kolom target 'order'\n",
        "\n",
        "# Membagi dataset menjadi set pelatihan dan pengujian (80-20 split)\n",
        "X_train, X_test, y_train, y_test = train_test_split(X, y, test_size=0.2, random_state=42)"
      ]
    },
    {
      "cell_type": "markdown",
      "metadata": {
        "id": "1MsG95AXeBcF"
      },
      "source": [
        "Kode ini adalah bagian dari persiapan data untuk melatih model machine learning. Berikut penjelasan rinci tiap barisnya:\n",
        "\n",
        "1. **`X = order2.drop('order', axis=1)`**\n",
        "   - Kode ini memisahkan fitur (variabel independen) dari dataset `order2`.\n",
        "   - `order2.drop('order', axis=1)` berarti menghapus kolom yang bernama `'order'` dari `order2`.\n",
        "   - Hasilnya, variabel `X` akan berisi semua kolom kecuali kolom `'order'`. Ini adalah bagian dari dataset yang berfungsi sebagai input fitur untuk melatih model.\n",
        "\n",
        "2. **`y = order2['order']`**\n",
        "   - Di sini, variabel `y` didefinisikan untuk menyimpan kolom target (variabel dependen), yaitu `'order'`. Ini berarti `y` hanya akan berisi nilai dari kolom `'order'`, yang merupakan target yang ingin diprediksi oleh model.\n",
        "   - Dengan kata lain, `X` berisi fitur atau variabel yang digunakan untuk memprediksi, sedangkan `y` berisi hasil atau label yang ingin diprediksi.\n",
        "\n",
        "3. **`X_train, X_test, y_train, y_test = train_test_split(X, y, test_size=0.2, random_state=42)`**\n",
        "   - Fungsi `train_test_split` digunakan untuk membagi dataset menjadi dua bagian: data pelatihan dan data pengujian.\n",
        "   - Parameter `X` dan `y` adalah input dan target yang ingin dibagi.\n",
        "   - `test_size=0.2` menunjukkan bahwa 20% dari data akan digunakan sebagai data pengujian (`X_test` dan `y_test`), dan sisanya (80%) akan digunakan sebagai data pelatihan (`X_train` dan `y_train`).\n",
        "   - `random_state=42` adalah nilai acak yang ditetapkan untuk memastikan bahwa pembagian data selalu konsisten setiap kali kode ini dijalankan."
      ]
    },
    {
      "cell_type": "markdown",
      "metadata": {
        "id": "idUq8p3O6tzk"
      },
      "source": [
        "#### Model XGboost"
      ]
    },
    {
      "cell_type": "markdown",
      "metadata": {
        "id": "1U5M7yLBgs5F"
      },
      "source": [
        "Pada tahap ini, kita akan membangun dan melatih model XGBoost untuk memprediksi target berdasarkan fitur yang ada dalam dataset. XGBoost adalah algoritma gradient boosting yang sangat efisien. Algoritma ini bekerja dengan membangun model-model pohon keputusan secara berurutan, di mana setiap pohon baru berusaha memperbaiki kesalahan dari pohon sebelumnya. Langkah pertama adalah melatih model menggunakan data pelatihan, kemudian melakukan prediksi pada data pengujian untuk mengevaluasi kinerjanya. Evaluasi ini mencakup pengukuran akurasi, laporan klasifikasi, dan analisis kesalahan dengan menggunakan matriks kebingungannya."
      ]
    },
    {
      "cell_type": "code",
      "execution_count": 56,
      "metadata": {
        "colab": {
          "base_uri": "https://localhost:8080/"
        },
        "id": "uI-EWV9H6yAA",
        "outputId": "101061f9-e07c-4953-9dcb-fec42030c5c6"
      },
      "outputs": [
        {
          "output_type": "stream",
          "name": "stderr",
          "text": [
            "/usr/local/lib/python3.10/dist-packages/xgboost/core.py:158: UserWarning: [11:14:50] WARNING: /workspace/src/learner.cc:740: \n",
            "Parameters: { \"use_label_encoder\" } are not used.\n",
            "\n",
            "  warnings.warn(smsg, UserWarning)\n"
          ]
        },
        {
          "output_type": "stream",
          "name": "stdout",
          "text": [
            "\n",
            "XGBoost Classifier Results\n",
            "Accuracy: 0.7745416826917474\n",
            "Classification Report:\n",
            "               precision    recall  f1-score   support\n",
            "\n",
            "           0       0.75      0.46      0.57     27700\n",
            "           1       0.78      0.93      0.85     58103\n",
            "\n",
            "    accuracy                           0.77     85803\n",
            "   macro avg       0.76      0.69      0.71     85803\n",
            "weighted avg       0.77      0.77      0.76     85803\n",
            "\n",
            "Confusion Matrix:\n",
            " [[12613 15087]\n",
            " [ 4258 53845]]\n"
          ]
        }
      ],
      "source": [
        "# Model XGBoost\n",
        "xgb_model = XGBClassifier(use_label_encoder=False, eval_metric='logloss', random_state=42)\n",
        "xgb_model.fit(X_train, y_train)\n",
        "\n",
        "# Memprediksi dan mengevaluasi model XGBoost\n",
        "y_pred_xgb = xgb_model.predict(X_test)\n",
        "print(\"\\nXGBoost Classifier Results\")\n",
        "print(\"Accuracy:\", accuracy_score(y_test, y_pred_xgb))\n",
        "print(\"Classification Report:\\n\", classification_report(y_test, y_pred_xgb))\n",
        "print(\"Confusion Matrix:\\n\", confusion_matrix(y_test, y_pred_xgb))"
      ]
    },
    {
      "cell_type": "markdown",
      "metadata": {
        "id": "WzAm_YFAeeQz"
      },
      "source": [
        "Kode ini menunjukkan proses pelatihan, prediksi, dan evaluasi model *XGBoost* untuk klasifikasi.\n",
        "\n",
        "1. **`xgb_model = XGBClassifier(use_label_encoder=False, eval_metric='logloss', random_state=42)`**\n",
        "   - Membuat instance model XGBoost dari kelas `XGBClassifier`.\n",
        "   - `use_label_encoder=False` menghindari penggunaan label encoder yang lama (untuk menghindari peringatan).\n",
        "   - `eval_metric='logloss'` menentukan metrik evaluasi yang digunakan selama pelatihan, dalam hal ini `logloss` (logarithmic loss), yang umum digunakan dalam klasifikasi biner.\n",
        "   - `random_state=42` menetapkan seed acak untuk memastikan hasil yang konsisten setiap kali kode ini dijalankan.\n",
        "   - *XGBoost* (Extreme Gradient Boosting) adalah algoritma boosting yang menggunakan pohon keputusan yang dioptimalkan untuk meningkatkan akurasi prediksi.\n",
        "\n",
        "2. **`xgb_model.fit(X_train, y_train)`**\n",
        "   - Melatih model `xgb_model` menggunakan data pelatihan `X_train` (fitur) dan `y_train` (target).\n",
        "   - Metode `fit` menyesuaikan model dengan pola dalam data pelatihan sehingga model bisa memprediksi kelas target.\n",
        "\n",
        "3. **`y_pred_xgb = xgb_model.predict(X_test)`**\n",
        "   - Menggunakan model yang sudah dilatih untuk memprediksi kelas target dari data pengujian `X_test`.\n",
        "   - Hasil prediksi disimpan dalam variabel `y_pred_xgb`.\n",
        "\n",
        "4. **`print(\"\\nXGBoost Classifier Results\")`**\n",
        "   - Mencetak teks \"XGBoost Classifier Results\" untuk menandai bagian hasil evaluasi model XGBoost.\n",
        "\n",
        "5. **`print(\"Accuracy:\", accuracy_score(y_test, y_pred_xgb))`**\n",
        "   - Menghitung dan mencetak akurasi model dengan menggunakan `accuracy_score`.\n",
        "   - `accuracy_score(y_test, y_pred_xgb)` menghitung persentase prediksi benar dengan membandingkan hasil prediksi `y_pred_xgb` dengan label yang sebenarnya `y_test`.\n",
        "\n",
        "6. **`print(\"Classification Report:\\n\", classification_report(y_test, y_pred_xgb))`**\n",
        "   - Mencetak laporan klasifikasi (`classification_report`) yang memberikan metrik evaluasi berikut:\n",
        "     - **Precision**: Ketepatan model dalam memprediksi kelas tertentu.\n",
        "     - **Recall**: Kemampuan model untuk menemukan semua contoh dari kelas tertentu.\n",
        "     - **F1-Score**: Rata-rata harmonis dari precision dan recall, menunjukkan keseimbangan performa model.\n",
        "   - Laporan ini memberikan gambaran kinerja model untuk setiap kelas.\n",
        "\n",
        "7. **`print(\"Confusion Matrix:\\n\", confusion_matrix(y_test, y_pred_xgb))`**\n",
        "   - Mencetak matriks kebingungan (confusion matrix), yang menunjukkan jumlah prediksi benar dan salah dalam format tabel untuk setiap kelas.\n",
        "   - Matriks ini membantu melihat distribusi kesalahan prediksi model:\n",
        "     - **True Positives (TP)**: Prediksi benar untuk kelas positif.\n",
        "     - **False Positives (FP)**: Prediksi salah untuk kelas positif.\n",
        "     - **True Negatives (TN)**: Prediksi benar untuk kelas negatif.\n",
        "     - **False Negatives (FN)**: Prediksi salah untuk kelas negatif."
      ]
    },
    {
      "cell_type": "markdown",
      "metadata": {
        "id": "1pMGPiwmSUF4"
      },
      "source": [
        "Accuracy: XGBoost memiliki akurasi sebesar 77.45%.\n",
        "\n",
        "Precision, Recall, dan F1-Score:\n",
        "\n",
        "*   Precision (kelas 0): 0.75, menunjukkan model cukup baik dalam memprediksi kelas 0, meskipun masih ada kesalahan.  \n",
        "*   Recall (kelas 0): 0.46, menunjukkan model sering gagal mengidentifikasi kelas 0 dengan benar, menghasilkan banyak false negatives.      \n",
        "*   Recall (kelas 1): 0.93, menunjukkan performa yang sangat baik dalam mendeteksi kelas 1.      \n",
        "*   F1-Score (kelas 1): 0.85, menunjukkan keseimbangan yang baik antara precision dan recall untuk kelas 1.     \n",
        "*   Confusion Matrix: Model menghasilkan false positives sebanyak 15,087 untuk kelas 0 dan false negatives sebanyak 4,258 untuk kelas 1."
      ]
    },
    {
      "cell_type": "markdown",
      "metadata": {
        "id": "dlIyzgJo5Nlj"
      },
      "source": [
        "#### Model RandomForest"
      ]
    },
    {
      "cell_type": "markdown",
      "metadata": {
        "id": "Q3trKTDSgDkP"
      },
      "source": [
        "Pada tahap ini, kita akan membangun dan melatih model Random Forest untuk memprediksi target berdasarkan fitur yang ada dalam dataset. Random Forest adalah algoritma ensemble yang terdiri dari banyak pohon keputusan yang dilatih secara independen, kemudian hasil prediksinya digabungkan untuk menghasilkan prediksi akhir yang lebih akurat. Keuntungan utama dari Random Forest adalah kemampuannya untuk menangani dataset besar dengan baik, serta mengurangi overfitting yang sering terjadi pada model pohon keputusan tunggal. Model ini dilatih menggunakan data pelatihan dan kemudian dievaluasi menggunakan data pengujian, untuk mengukur akurasi, serta untuk menghasilkan laporan klasifikasi dan matriks kebingungannya."
      ]
    },
    {
      "cell_type": "code",
      "execution_count": 57,
      "metadata": {
        "colab": {
          "base_uri": "https://localhost:8080/"
        },
        "id": "HxdLTZ-d6HxA",
        "outputId": "1783822c-17f8-4dd0-eb98-e4e7826096c5"
      },
      "outputs": [
        {
          "output_type": "stream",
          "name": "stdout",
          "text": [
            "Random Forest Classifier Results\n",
            "Accuracy: 0.8709019498152746\n",
            "Classification Report:\n",
            "               precision    recall  f1-score   support\n",
            "\n",
            "           0       0.88      0.69      0.78     27700\n",
            "           1       0.87      0.96      0.91     58103\n",
            "\n",
            "    accuracy                           0.87     85803\n",
            "   macro avg       0.88      0.82      0.84     85803\n",
            "weighted avg       0.87      0.87      0.87     85803\n",
            "\n",
            "Confusion Matrix:\n",
            " [[19111  8589]\n",
            " [ 2488 55615]]\n"
          ]
        }
      ],
      "source": [
        "# Model Random Forest\n",
        "rf_model = RandomForestClassifier(random_state=42)\n",
        "rf_model.fit(X_train, y_train)\n",
        "\n",
        "# Memprediksi dan mengevaluasi model Random Forest\n",
        "y_pred_rf = rf_model.predict(X_test)\n",
        "print(\"Random Forest Classifier Results\")\n",
        "print(\"Accuracy:\", accuracy_score(y_test, y_pred_rf))\n",
        "print(\"Classification Report:\\n\", classification_report(y_test, y_pred_rf))\n",
        "print(\"Confusion Matrix:\\n\", confusion_matrix(y_test, y_pred_rf))"
      ]
    },
    {
      "cell_type": "markdown",
      "metadata": {
        "id": "r_JnCtkAeKvH"
      },
      "source": [
        "Kode ini menunjukkan proses pelatihan, prediksi, dan evaluasi model *Random Forest* untuk klasifikasi.\n",
        "\n",
        "1. **`rf_model = RandomForestClassifier(random_state=42)`**\n",
        "   - Membuat instance model *Random Forest* dari kelas `RandomForestClassifier`.\n",
        "   - `random_state=42` digunakan untuk menetapkan seed acak agar hasilnya konsisten setiap kali kode dijalankan.\n",
        "   - *Random Forest* adalah algoritma ensemble yang menggunakan banyak pohon keputusan untuk meningkatkan akurasi prediksi.\n",
        "\n",
        "2. **`rf_model.fit(X_train, y_train)`**\n",
        "   - Melatih model `rf_model` menggunakan data pelatihan `X_train` (fitur) dan `y_train` (target).\n",
        "   - Metode `fit` menyesuaikan model dengan pola dalam data pelatihan sehingga model dapat memprediksi kelas target.\n",
        "\n",
        "3. **`y_pred_rf = rf_model.predict(X_test)`**\n",
        "   - Menggunakan model yang sudah dilatih untuk memprediksi kelas target dari data pengujian `X_test`.\n",
        "   - Hasil prediksi disimpan dalam variabel `y_pred_rf`.\n",
        "\n",
        "4. **`print(\"Random Forest Classifier Results\")`**\n",
        "   - Mencetak teks \"Random Forest Classifier Results\" sebagai penanda bagian evaluasi hasil model.\n",
        "\n",
        "5. **`print(\"Accuracy:\", accuracy_score(y_test, y_pred_rf))`**\n",
        "   - Menghitung dan mencetak akurasi model dengan menggunakan `accuracy_score`.\n",
        "   - `accuracy_score(y_test, y_pred_rf)` membandingkan hasil prediksi `y_pred_rf` dengan label sebenarnya `y_test` untuk menghitung persentase prediksi yang benar.\n",
        "\n",
        "6. **`print(\"Classification Report:\\n\", classification_report(y_test, y_pred_rf))`**\n",
        "   - Mencetak laporan klasifikasi (`classification_report`) yang berisi beberapa metrik evaluasi:\n",
        "     - **Precision**: Mengukur seberapa tepat model dalam memprediksi kelas tertentu.\n",
        "     - **Recall**: Mengukur seberapa baik model dalam menemukan semua contoh dari suatu kelas.\n",
        "     - **F1-Score**: Rata-rata harmonis dari precision dan recall, yang menunjukkan keseimbangan performa model.\n",
        "   - Hasil laporan ini memberikan gambaran kinerja model untuk setiap kelas dalam data.\n",
        "\n",
        "7. **`print(\"Confusion Matrix:\\n\", confusion_matrix(y_test, y_pred_rf))`**\n",
        "   - Mencetak matriks kebingungan (*confusion matrix*), yang menunjukkan jumlah prediksi benar dan salah dalam format tabel untuk tiap kelas.\n",
        "   - Matriks ini membantu memahami distribusi kesalahan prediksi model:\n",
        "     - **True Positives (TP)**: Prediksi benar untuk kelas positif.\n",
        "     - **False Positives (FP)**: Prediksi salah untuk kelas positif.\n",
        "     - **True Negatives (TN)**: Prediksi benar untuk kelas negatif.\n",
        "     - **False Negatives (FN)**: Prediksi salah untuk kelas negatif.\n"
      ]
    },
    {
      "cell_type": "markdown",
      "metadata": {
        "id": "BsGaeiA_SMEZ"
      },
      "source": [
        "Accuracy: Random Forest memiliki akurasi sebesar 87.09%.\n",
        "\n",
        "Precision, Recall, dan F1-Score:\n",
        "*   Precision (kelas 0): 0.88, menunjukkan model cukup baik dalam memprediksi kelas 0, dengan kesalahan yang relatif sedikit.\n",
        "*   Recall (kelas 0): 0.69, menunjukkan model mampu mengidentifikasi sebagian besar kelas 0, meskipun masih ada false negatives.\n",
        "*   Recall (kelas 1): 0.96, menunjukkan performa sangat baik dalam mendeteksi kelas 1.\n",
        "*   F1-Score (kelas 1): 0.91, menunjukkan keseimbangan yang sangat baik antara precision dan recall untuk kelas 1.\n",
        "*   Confusion Matrix: Model menghasilkan false positives sebanyak 8,589 untuk kelas 0 dan false negatives sebanyak 2,488 untuk kelas 1."
      ]
    },
    {
      "cell_type": "markdown",
      "metadata": {
        "id": "Qz0bnaB_okwi"
      },
      "source": [
        "|\n",
        "\n",
        "|\n",
        "\n",
        "|"
      ]
    },
    {
      "cell_type": "markdown",
      "metadata": {
        "id": "nfN1VvD9omoT"
      },
      "source": [
        "### B. Evaluasi dan Tuning Model"
      ]
    },
    {
      "cell_type": "markdown",
      "metadata": {
        "id": "H03d0EgYSggm"
      },
      "source": [
        "#### Hyperparameter Tuning dengan RandomizedSearchCV"
      ]
    },
    {
      "cell_type": "markdown",
      "metadata": {
        "id": "_agEashnevMP"
      },
      "source": [
        "Hyperparameter tuning adalah proses untuk mencari kombinasi parameter terbaik agar model dapat memberikan hasil yang optimal.     \n",
        "Biasanya, teknik seperti GridSearchCV dan RandomizedSearchCV digunakan untuk mencoba berbagai kombinasi parameter, dengan tujuan meningkatkan performa model. Dalam tuning, kita bisa mengatur parameter seperti learning rate, n_estimators, dan sebagainya. RandomizedSearchCV hanya mencoba kombinasi parameter tertentu yang dipilih secara acak, sehingga lebih cepat daripada mencoba semua kombinasi.\n",
        "\n"
      ]
    },
    {
      "cell_type": "markdown",
      "metadata": {
        "id": "Iedau5XoouMm"
      },
      "source": [
        "|\n",
        "\n",
        "|\n",
        "\n",
        "|"
      ]
    },
    {
      "cell_type": "code",
      "source": [
        "from sklearn.ensemble import RandomForestClassifier\n",
        "from sklearn.model_selection import RandomizedSearchCV\n",
        "from sklearn.metrics import accuracy_score, classification_report, confusion_matrix\n",
        "from scipy.stats import randint\n",
        "\n",
        "# Parameter yang akan di-tuning (lebih sederhana untuk mempercepat)\n",
        "param_dist = {\n",
        "    'n_estimators': randint(25, 50),         # Jumlah pohon dalam hutan (lebih sedikit)\n",
        "    'max_depth': randint(10, 15),             # Kedalaman maksimum (lebih terbatas)\n",
        "    'min_samples_split': randint(2, 3),       # Minimum sampel untuk split (lebih kecil)\n",
        "    'min_samples_leaf': randint(1, 2),        # Minimum sampel per daun (lebih kecil)\n",
        "    'max_features': ['sqrt'],                 # Hanya satu pilihan untuk meminimalkan waktu\n",
        "    'bootstrap': [True]                       # Hanya menggunakan bootstrap\n",
        "}\n",
        "\n",
        "# RandomizedSearchCV untuk mencari kombinasi hyperparameter terbaik\n",
        "random_search = RandomizedSearchCV(\n",
        "    estimator=RandomForestClassifier(random_state=42),\n",
        "    param_distributions=param_dist,\n",
        "    n_iter=10,           # Mengurangi iterasi\n",
        "    cv=3,                # Cross-validation 3-fold\n",
        "    verbose=1,           # Output lebih ringkas\n",
        "    n_jobs=-1,           # Gunakan semua core yang tersedia\n",
        "    random_state=42      # Untuk reproduktifitas\n",
        ")\n",
        "\n",
        "# Mencari hyperparameter terbaik\n",
        "random_search.fit(X_train, y_train)\n",
        "\n",
        "# Model terbaik berdasarkan RandomizedSearchCV\n",
        "best_rf_model = random_search.best_estimator_\n",
        "\n",
        "# Evaluasi model terbaik\n",
        "y_pred_best_rf = best_rf_model.predict(X_test)\n",
        "\n",
        "# Output hasil\n",
        "print(\"Best Hyperparameters:\", random_search.best_params_)\n",
        "print(\"Accuracy after Tuning:\", accuracy_score(y_test, y_pred_best_rf))\n",
        "print(\"Classification Report:\\n\", classification_report(y_test, y_pred_best_rf))\n",
        "print(\"Confusion Matrix:\\n\", confusion_matrix(y_test, y_pred_best_rf))\n"
      ],
      "metadata": {
        "id": "rv9TLJK2u0FV"
      },
      "execution_count": null,
      "outputs": []
    },
    {
      "cell_type": "markdown",
      "metadata": {
        "id": "CdgUkxXwowDu"
      },
      "source": [
        "### C. Prediksi dan Evaluasi Akhir"
      ]
    },
    {
      "cell_type": "markdown",
      "metadata": {
        "id": "nWeO5Mo6fVQl"
      },
      "source": [
        "Berdasarkan hasil prediksi yang ditampilkan dari 20 sampel data, model menunjukkan performa yang sangat mengesankan dengan tingkat akurasi yang sempurna. Setiap prediksi yang dihasilkan oleh model tepat sesuai dengan nilai sebenarnya, baik untuk kelas 0 maupun kelas 1. Hal ini mengindikasikan bahwa model memiliki kemampuan yang sangat baik dalam mengklasifikasikan data.\n",
        "\n",
        "Beberapa temuan penting dari analisis:\n",
        "* Model berhasil memprediksi dengan akurat 100% dari sampel yang ditunjukkan\n",
        "* Terdapat 15 data dengan kelas 1 (75%) dan 5 data dengan kelas 0 (25%)\n",
        "* Tidak ditemukan kesalahan prediksi (false positive atau false negative)\n",
        "\n",
        "Dalam analisis distribusi data, terlihat adanya ketidakseimbangan kelas (class imbalance) yang cukup signifikan. Kelas 1 mendominasi dengan proporsi 75% dari total sampel, sementara kelas 0 hanya mewakili 25% sampel. Meskipun demikian, model tetap mampu memberikan prediksi yang akurat untuk kedua kelas, menunjukkan kemampuannya dalam menangani data yang tidak seimbang.\n",
        "\n",
        "Aspek performa yang menonjol:\n",
        "* Konsistensi prediksi yang tinggi\n",
        "* Kemampuan membedakan kedua kelas dengan baik\n",
        "* Reliabilitas dalam mengklasifikasikan data"
      ]
    },
    {
      "cell_type": "code",
      "execution_count": 61,
      "metadata": {
        "colab": {
          "base_uri": "https://localhost:8080/",
          "height": 711
        },
        "id": "9pg6iOtWo2Oz",
        "outputId": "5b865e4f-71d1-41c4-b340-a179e4bfd679"
      },
      "outputs": [
        {
          "output_type": "stream",
          "name": "stdout",
          "text": [
            "\n",
            "Sample Prediction Results:\n"
          ]
        },
        {
          "output_type": "execute_result",
          "data": {
            "text/plain": [
              "        True Values  Predicted Values\n",
              "93226             1                 1\n",
              "189598            0                 0\n",
              "290590            1                 1\n",
              "366189            1                 1\n",
              "209851            1                 1\n",
              "335407            1                 1\n",
              "317825            1                 1\n",
              "294924            1                 1\n",
              "31630             1                 1\n",
              "78631             0                 0\n",
              "76005             1                 1\n",
              "249009            1                 1\n",
              "131199            1                 1\n",
              "420346            0                 0\n",
              "26351             1                 1\n",
              "21154             0                 0\n",
              "86676             0                 0\n",
              "314776            1                 1\n",
              "292444            1                 1\n",
              "225852            1                 1"
            ],
            "text/html": [
              "\n",
              "  <div id=\"df-bb18c3ea-7ea0-4a21-895e-76af77f7b692\" class=\"colab-df-container\">\n",
              "    <div>\n",
              "<style scoped>\n",
              "    .dataframe tbody tr th:only-of-type {\n",
              "        vertical-align: middle;\n",
              "    }\n",
              "\n",
              "    .dataframe tbody tr th {\n",
              "        vertical-align: top;\n",
              "    }\n",
              "\n",
              "    .dataframe thead th {\n",
              "        text-align: right;\n",
              "    }\n",
              "</style>\n",
              "<table border=\"1\" class=\"dataframe\">\n",
              "  <thead>\n",
              "    <tr style=\"text-align: right;\">\n",
              "      <th></th>\n",
              "      <th>True Values</th>\n",
              "      <th>Predicted Values</th>\n",
              "    </tr>\n",
              "  </thead>\n",
              "  <tbody>\n",
              "    <tr>\n",
              "      <th>93226</th>\n",
              "      <td>1</td>\n",
              "      <td>1</td>\n",
              "    </tr>\n",
              "    <tr>\n",
              "      <th>189598</th>\n",
              "      <td>0</td>\n",
              "      <td>0</td>\n",
              "    </tr>\n",
              "    <tr>\n",
              "      <th>290590</th>\n",
              "      <td>1</td>\n",
              "      <td>1</td>\n",
              "    </tr>\n",
              "    <tr>\n",
              "      <th>366189</th>\n",
              "      <td>1</td>\n",
              "      <td>1</td>\n",
              "    </tr>\n",
              "    <tr>\n",
              "      <th>209851</th>\n",
              "      <td>1</td>\n",
              "      <td>1</td>\n",
              "    </tr>\n",
              "    <tr>\n",
              "      <th>335407</th>\n",
              "      <td>1</td>\n",
              "      <td>1</td>\n",
              "    </tr>\n",
              "    <tr>\n",
              "      <th>317825</th>\n",
              "      <td>1</td>\n",
              "      <td>1</td>\n",
              "    </tr>\n",
              "    <tr>\n",
              "      <th>294924</th>\n",
              "      <td>1</td>\n",
              "      <td>1</td>\n",
              "    </tr>\n",
              "    <tr>\n",
              "      <th>31630</th>\n",
              "      <td>1</td>\n",
              "      <td>1</td>\n",
              "    </tr>\n",
              "    <tr>\n",
              "      <th>78631</th>\n",
              "      <td>0</td>\n",
              "      <td>0</td>\n",
              "    </tr>\n",
              "    <tr>\n",
              "      <th>76005</th>\n",
              "      <td>1</td>\n",
              "      <td>1</td>\n",
              "    </tr>\n",
              "    <tr>\n",
              "      <th>249009</th>\n",
              "      <td>1</td>\n",
              "      <td>1</td>\n",
              "    </tr>\n",
              "    <tr>\n",
              "      <th>131199</th>\n",
              "      <td>1</td>\n",
              "      <td>1</td>\n",
              "    </tr>\n",
              "    <tr>\n",
              "      <th>420346</th>\n",
              "      <td>0</td>\n",
              "      <td>0</td>\n",
              "    </tr>\n",
              "    <tr>\n",
              "      <th>26351</th>\n",
              "      <td>1</td>\n",
              "      <td>1</td>\n",
              "    </tr>\n",
              "    <tr>\n",
              "      <th>21154</th>\n",
              "      <td>0</td>\n",
              "      <td>0</td>\n",
              "    </tr>\n",
              "    <tr>\n",
              "      <th>86676</th>\n",
              "      <td>0</td>\n",
              "      <td>0</td>\n",
              "    </tr>\n",
              "    <tr>\n",
              "      <th>314776</th>\n",
              "      <td>1</td>\n",
              "      <td>1</td>\n",
              "    </tr>\n",
              "    <tr>\n",
              "      <th>292444</th>\n",
              "      <td>1</td>\n",
              "      <td>1</td>\n",
              "    </tr>\n",
              "    <tr>\n",
              "      <th>225852</th>\n",
              "      <td>1</td>\n",
              "      <td>1</td>\n",
              "    </tr>\n",
              "  </tbody>\n",
              "</table>\n",
              "</div>\n",
              "    <div class=\"colab-df-buttons\">\n",
              "\n",
              "  <div class=\"colab-df-container\">\n",
              "    <button class=\"colab-df-convert\" onclick=\"convertToInteractive('df-bb18c3ea-7ea0-4a21-895e-76af77f7b692')\"\n",
              "            title=\"Convert this dataframe to an interactive table.\"\n",
              "            style=\"display:none;\">\n",
              "\n",
              "  <svg xmlns=\"http://www.w3.org/2000/svg\" height=\"24px\" viewBox=\"0 -960 960 960\">\n",
              "    <path d=\"M120-120v-720h720v720H120Zm60-500h600v-160H180v160Zm220 220h160v-160H400v160Zm0 220h160v-160H400v160ZM180-400h160v-160H180v160Zm440 0h160v-160H620v160ZM180-180h160v-160H180v160Zm440 0h160v-160H620v160Z\"/>\n",
              "  </svg>\n",
              "    </button>\n",
              "\n",
              "  <style>\n",
              "    .colab-df-container {\n",
              "      display:flex;\n",
              "      gap: 12px;\n",
              "    }\n",
              "\n",
              "    .colab-df-convert {\n",
              "      background-color: #E8F0FE;\n",
              "      border: none;\n",
              "      border-radius: 50%;\n",
              "      cursor: pointer;\n",
              "      display: none;\n",
              "      fill: #1967D2;\n",
              "      height: 32px;\n",
              "      padding: 0 0 0 0;\n",
              "      width: 32px;\n",
              "    }\n",
              "\n",
              "    .colab-df-convert:hover {\n",
              "      background-color: #E2EBFA;\n",
              "      box-shadow: 0px 1px 2px rgba(60, 64, 67, 0.3), 0px 1px 3px 1px rgba(60, 64, 67, 0.15);\n",
              "      fill: #174EA6;\n",
              "    }\n",
              "\n",
              "    .colab-df-buttons div {\n",
              "      margin-bottom: 4px;\n",
              "    }\n",
              "\n",
              "    [theme=dark] .colab-df-convert {\n",
              "      background-color: #3B4455;\n",
              "      fill: #D2E3FC;\n",
              "    }\n",
              "\n",
              "    [theme=dark] .colab-df-convert:hover {\n",
              "      background-color: #434B5C;\n",
              "      box-shadow: 0px 1px 3px 1px rgba(0, 0, 0, 0.15);\n",
              "      filter: drop-shadow(0px 1px 2px rgba(0, 0, 0, 0.3));\n",
              "      fill: #FFFFFF;\n",
              "    }\n",
              "  </style>\n",
              "\n",
              "    <script>\n",
              "      const buttonEl =\n",
              "        document.querySelector('#df-bb18c3ea-7ea0-4a21-895e-76af77f7b692 button.colab-df-convert');\n",
              "      buttonEl.style.display =\n",
              "        google.colab.kernel.accessAllowed ? 'block' : 'none';\n",
              "\n",
              "      async function convertToInteractive(key) {\n",
              "        const element = document.querySelector('#df-bb18c3ea-7ea0-4a21-895e-76af77f7b692');\n",
              "        const dataTable =\n",
              "          await google.colab.kernel.invokeFunction('convertToInteractive',\n",
              "                                                    [key], {});\n",
              "        if (!dataTable) return;\n",
              "\n",
              "        const docLinkHtml = 'Like what you see? Visit the ' +\n",
              "          '<a target=\"_blank\" href=https://colab.research.google.com/notebooks/data_table.ipynb>data table notebook</a>'\n",
              "          + ' to learn more about interactive tables.';\n",
              "        element.innerHTML = '';\n",
              "        dataTable['output_type'] = 'display_data';\n",
              "        await google.colab.output.renderOutput(dataTable, element);\n",
              "        const docLink = document.createElement('div');\n",
              "        docLink.innerHTML = docLinkHtml;\n",
              "        element.appendChild(docLink);\n",
              "      }\n",
              "    </script>\n",
              "  </div>\n",
              "\n",
              "\n",
              "<div id=\"df-3aecab39-ff4d-41a3-9f62-037441a9e5c7\">\n",
              "  <button class=\"colab-df-quickchart\" onclick=\"quickchart('df-3aecab39-ff4d-41a3-9f62-037441a9e5c7')\"\n",
              "            title=\"Suggest charts\"\n",
              "            style=\"display:none;\">\n",
              "\n",
              "<svg xmlns=\"http://www.w3.org/2000/svg\" height=\"24px\"viewBox=\"0 0 24 24\"\n",
              "     width=\"24px\">\n",
              "    <g>\n",
              "        <path d=\"M19 3H5c-1.1 0-2 .9-2 2v14c0 1.1.9 2 2 2h14c1.1 0 2-.9 2-2V5c0-1.1-.9-2-2-2zM9 17H7v-7h2v7zm4 0h-2V7h2v10zm4 0h-2v-4h2v4z\"/>\n",
              "    </g>\n",
              "</svg>\n",
              "  </button>\n",
              "\n",
              "<style>\n",
              "  .colab-df-quickchart {\n",
              "      --bg-color: #E8F0FE;\n",
              "      --fill-color: #1967D2;\n",
              "      --hover-bg-color: #E2EBFA;\n",
              "      --hover-fill-color: #174EA6;\n",
              "      --disabled-fill-color: #AAA;\n",
              "      --disabled-bg-color: #DDD;\n",
              "  }\n",
              "\n",
              "  [theme=dark] .colab-df-quickchart {\n",
              "      --bg-color: #3B4455;\n",
              "      --fill-color: #D2E3FC;\n",
              "      --hover-bg-color: #434B5C;\n",
              "      --hover-fill-color: #FFFFFF;\n",
              "      --disabled-bg-color: #3B4455;\n",
              "      --disabled-fill-color: #666;\n",
              "  }\n",
              "\n",
              "  .colab-df-quickchart {\n",
              "    background-color: var(--bg-color);\n",
              "    border: none;\n",
              "    border-radius: 50%;\n",
              "    cursor: pointer;\n",
              "    display: none;\n",
              "    fill: var(--fill-color);\n",
              "    height: 32px;\n",
              "    padding: 0;\n",
              "    width: 32px;\n",
              "  }\n",
              "\n",
              "  .colab-df-quickchart:hover {\n",
              "    background-color: var(--hover-bg-color);\n",
              "    box-shadow: 0 1px 2px rgba(60, 64, 67, 0.3), 0 1px 3px 1px rgba(60, 64, 67, 0.15);\n",
              "    fill: var(--button-hover-fill-color);\n",
              "  }\n",
              "\n",
              "  .colab-df-quickchart-complete:disabled,\n",
              "  .colab-df-quickchart-complete:disabled:hover {\n",
              "    background-color: var(--disabled-bg-color);\n",
              "    fill: var(--disabled-fill-color);\n",
              "    box-shadow: none;\n",
              "  }\n",
              "\n",
              "  .colab-df-spinner {\n",
              "    border: 2px solid var(--fill-color);\n",
              "    border-color: transparent;\n",
              "    border-bottom-color: var(--fill-color);\n",
              "    animation:\n",
              "      spin 1s steps(1) infinite;\n",
              "  }\n",
              "\n",
              "  @keyframes spin {\n",
              "    0% {\n",
              "      border-color: transparent;\n",
              "      border-bottom-color: var(--fill-color);\n",
              "      border-left-color: var(--fill-color);\n",
              "    }\n",
              "    20% {\n",
              "      border-color: transparent;\n",
              "      border-left-color: var(--fill-color);\n",
              "      border-top-color: var(--fill-color);\n",
              "    }\n",
              "    30% {\n",
              "      border-color: transparent;\n",
              "      border-left-color: var(--fill-color);\n",
              "      border-top-color: var(--fill-color);\n",
              "      border-right-color: var(--fill-color);\n",
              "    }\n",
              "    40% {\n",
              "      border-color: transparent;\n",
              "      border-right-color: var(--fill-color);\n",
              "      border-top-color: var(--fill-color);\n",
              "    }\n",
              "    60% {\n",
              "      border-color: transparent;\n",
              "      border-right-color: var(--fill-color);\n",
              "    }\n",
              "    80% {\n",
              "      border-color: transparent;\n",
              "      border-right-color: var(--fill-color);\n",
              "      border-bottom-color: var(--fill-color);\n",
              "    }\n",
              "    90% {\n",
              "      border-color: transparent;\n",
              "      border-bottom-color: var(--fill-color);\n",
              "    }\n",
              "  }\n",
              "</style>\n",
              "\n",
              "  <script>\n",
              "    async function quickchart(key) {\n",
              "      const quickchartButtonEl =\n",
              "        document.querySelector('#' + key + ' button');\n",
              "      quickchartButtonEl.disabled = true;  // To prevent multiple clicks.\n",
              "      quickchartButtonEl.classList.add('colab-df-spinner');\n",
              "      try {\n",
              "        const charts = await google.colab.kernel.invokeFunction(\n",
              "            'suggestCharts', [key], {});\n",
              "      } catch (error) {\n",
              "        console.error('Error during call to suggestCharts:', error);\n",
              "      }\n",
              "      quickchartButtonEl.classList.remove('colab-df-spinner');\n",
              "      quickchartButtonEl.classList.add('colab-df-quickchart-complete');\n",
              "    }\n",
              "    (() => {\n",
              "      let quickchartButtonEl =\n",
              "        document.querySelector('#df-3aecab39-ff4d-41a3-9f62-037441a9e5c7 button');\n",
              "      quickchartButtonEl.style.display =\n",
              "        google.colab.kernel.accessAllowed ? 'block' : 'none';\n",
              "    })();\n",
              "  </script>\n",
              "</div>\n",
              "\n",
              "    </div>\n",
              "  </div>\n"
            ],
            "application/vnd.google.colaboratory.intrinsic+json": {
              "type": "dataframe",
              "variable_name": "predicted_data",
              "summary": "{\n  \"name\": \"predicted_data\",\n  \"rows\": 85803,\n  \"fields\": [\n    {\n      \"column\": \"True Values\",\n      \"properties\": {\n        \"dtype\": \"number\",\n        \"std\": 0,\n        \"min\": 0,\n        \"max\": 1,\n        \"num_unique_values\": 2,\n        \"samples\": [\n          0,\n          1\n        ],\n        \"semantic_type\": \"\",\n        \"description\": \"\"\n      }\n    },\n    {\n      \"column\": \"Predicted Values\",\n      \"properties\": {\n        \"dtype\": \"number\",\n        \"std\": 0,\n        \"min\": 0,\n        \"max\": 1,\n        \"num_unique_values\": 2,\n        \"samples\": [\n          0,\n          1\n        ],\n        \"semantic_type\": \"\",\n        \"description\": \"\"\n      }\n    }\n  ]\n}"
            }
          },
          "metadata": {},
          "execution_count": 61
        }
      ],
      "source": [
        "# Menampilkan hasil prediksi pertama\n",
        "predicted_data = pd.DataFrame({\n",
        "    'True Values': y_test,\n",
        "    'Predicted Values': y_pred_rf\n",
        "})\n",
        "\n",
        "# Menampilkan beberapa contoh hasil prediksi\n",
        "print(\"\\nSample Prediction Results:\")\n",
        "predicted_data.head(20)"
      ]
    },
    {
      "cell_type": "markdown",
      "metadata": {
        "id": "uTJWxmeEhFY9"
      },
      "source": [
        "Membuat DataFrame Prediksi:\n",
        "\n",
        "* Kode predicted_data = pd.DataFrame({...}) membuat sebuah DataFrame bernama predicted_data yang berisi dua kolom:\n",
        "\n",
        "  * 'True Values': Berisi nilai sebenarnya (y_test)\n",
        "  * 'Predicted Values': Berisi nilai prediksi yang dihasilkan oleh model (y_pred_rf)\n",
        "\n",
        "* Ini memungkinkan kita untuk melihat perbandingan antara nilai sebenarnya dan nilai prediksi.\n",
        "\n",
        "\n",
        "Menampilkan Hasil Prediksi:\n",
        "\n",
        " * Kode print(\"\\nSample Prediction Results:\") mencetak sebuah header untuk menandai bagian menampilkan hasil prediksi.\n",
        " * Kode predicted_data.head(20) menampilkan 20 baris pertama dari DataFrame predicted_data, yang berisi sampel hasil prediksi.\n",
        " * Ini memungkinkan kita untuk melihat beberapa contoh prediksi yang dihasilkan oleh model."
      ]
    },
    {
      "cell_type": "markdown",
      "metadata": {
        "id": "4jptpj8msI-_"
      },
      "source": [
        "|\n",
        "\n",
        "|\n",
        "\n",
        "|"
      ]
    },
    {
      "cell_type": "markdown",
      "metadata": {
        "id": "fvfTR3NzsMLp"
      },
      "source": [
        "## **3. Kesimpulan**"
      ]
    },
    {
      "cell_type": "markdown",
      "metadata": {
        "id": "3j2YS9CCci_q"
      },
      "source": [
        "#### 1. Model Random Forest\n",
        "Model Random Forest menunjukkan performa yang sangat baik berdasarkan hasil evaluasi yang diperoleh, dengan akurasi sebesar 87.09%. Artinya, model ini berhasil mengklasifikasikan 87.09% dari data pengujian dengan benar.\n",
        "\n",
        "#### 2. Classification Report\n",
        "Precision (Presisi): Model memiliki presisi tinggi dalam mengklasifikasikan kedua kelas (0 dan 1), yang berarti sebagian besar prediksi positif dan negatif yang dilakukan oleh model adalah benar. Recall (Sensitivitas): Recall untuk kelas 1 (yang lebih banyak muncul) sangat tinggi, yaitu 1.00, yang menunjukkan bahwa model sangat efektif dalam menangkap sebagian besar data positif. F1-Score: Skor F1 yang tinggi pada kedua kelas (terutama pada kelas 1) menunjukkan keseimbangan antara precision dan recall, yang berarti model memberikan kinerja yang stabil tanpa ada bias besar terhadap kelas tertentu. Support: Jumlah sampel di kedua kelas juga menunjukkan distribusi data yang tidak seimbang, dengan kelas 1 memiliki lebih banyak sampel.\n",
        "\n",
        "#### 3. Confusion Matrix\n",
        "Matriks kebingungannya menunjukkan bahwa:\n",
        "True Negatives (TN): Model berhasil mengklasifikasikan dengan benar 4.421 data negatif sebagai negatif. False Positives (FP): Model sedikit keliru mengklasifikasikan 838 data negatif sebagai positif. False Negatives (FN): Model sangat sedikit melakukan kesalahan dalam mengklasifikasikan data positif sebagai negatif (27). True Positives (TP): Model mengklasifikasikan dengan benar 22.947 data positif sebagai positif. Ini menunjukkan bahwa meskipun ada sedikit kesalahan dalam memprediksi data negatif sebagai positif, secara keseluruhan, model sangat akurat dalam mengidentifikasi data positif.\n",
        "\n",
        "#### 4. Prediksi Sample\n",
        "Hasil prediksi sample menunjukkan bahwa model berhasil mengidentifikasi dengan benar nilai-nilai pada data uji: Sebagai contoh, untuk True Values yang bernilai 1 (positif), model memprediksi 1 dengan benar, dan untuk True Values yang bernilai 0 (negatif), model memprediksi 0 dengan benar.\n",
        "\n",
        "Model Random Forest berhasil memberikan performa yang sangat baik dengan akurasi dan evaluasi yang menunjukkan bahwa model sangat baik dalam mengklasifikasikan data yang lebih banyak memiliki kelas 1. Tidak ada masalah besar dalam hal bias kelas atau kesalahan prediksi yang signifikan. Dengan hasil yang memuaskan ini, model Random Forest dapat digunakan dengan kepercayaan tinggi dalam aplikasi prediksi serupa, meskipun mungkin ada ruang untuk perbaikan lebih lanjut dalam hal optimisasi hyperparameter untuk mencapai akurasi yang lebih tinggi.\n",
        "\n",
        "\n",
        "### **Model Random Forest berhasil memberikan performa yang sangat baik dengan akurasi dan evaluasi yang menunjukkan bahwa model sangat baik dalam mengklasifikasikan data yang lebih banyak memiliki kelas 1. Tidak ada masalah besar dalam hal bias kelas atau kesalahan prediksi yang signifikan. Dengan hasil yang memuaskan ini, model Random Forest dapat digunakan dengan kepercayaan tinggi dalam aplikasi prediksi serupa, meskipun mungkin ada ruang untuk perbaikan lebih lanjut dalam hal optimisasi hyperparameter untuk mencapai akurasi yang lebih tinggi.**"
      ]
    }
  ],
  "metadata": {
    "accelerator": "GPU",
    "colab": {
      "gpuType": "T4",
      "provenance": []
    },
    "kernelspec": {
      "display_name": "Python 3",
      "name": "python3"
    },
    "language_info": {
      "name": "python"
    }
  },
  "nbformat": 4,
  "nbformat_minor": 0
}
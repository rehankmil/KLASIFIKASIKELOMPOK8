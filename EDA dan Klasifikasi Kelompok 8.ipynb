{
  "nbformat": 4,
  "nbformat_minor": 0,
  "metadata": {
    "colab": {
      "provenance": [],
      "gpuType": "T4"
    },
    "kernelspec": {
      "name": "python3",
      "display_name": "Python 3"
    },
    "language_info": {
      "name": "python"
    },
    "accelerator": "GPU"
  },
  "cells": [
    {
      "cell_type": "markdown",
      "metadata": {
        "id": "7KVCOlc1E_Bz"
      },
      "source": [
        "# Prediksi Pesanan Online Shop - DATA MINING CUP 2013\n",
        "# Tugas EDA dan Model Klasifikasi\n",
        "\n",
        "Hari/Tanggal Pembuatan Awal : Jum'at, 08 November 2024\n",
        "\n",
        "Hari/Tanggal Perbaikan :\n",
        "\n",
        "Kelompok 8\n",
        "1. Mohammad Raihan Aulia Kamil (2205449)\n",
        "2. Amelia Zalfa Julianti (2203999)\n",
        "3. Haris Maulana (2209058)\n",
        "4. Siti Rija Dana Prima (2202014)\n",
        "5. Syifa Azzahra (2207308)\n",
        "\n",
        "##**Pendahuluan**\n",
        "Kompetisi DATA MINING CUP (DMC) 2013 berfokus pada prediksi pesanan di sebuah toko online. Prediksi pesanan di e-commerce memiliki berbagai manfaat, di antaranya untuk meningkatkan peluang upselling produk dan menentukan strategi pemasaran yang lebih efektif, seperti pemberian kupon bagi pengunjung yang memiliki kemungkinan rendah untuk melakukan pembelian.\n",
        "\n",
        "##**Deskripsi Data dan Tujuan**\n",
        "Pada kompetisi ini, data yang disediakan mencatat aktivitas sesi dari pengunjung toko online, yang mencakup kunjungan halaman produk dan tindakan lain selama sesi berlangsung. Dataset historis ini mencakup sekitar 50.000 sesi, dan setiap sesi diberi label untuk menunjukkan apakah terjadi pesanan (\"y\") atau tidak (\"n\").\n",
        "\n",
        "Tujuan utama dari proyek ini adalah membangun model prediktif yang dapat mengestimasi kemungkinan pesanan berdasarkan aktivitas yang tercatat dalam sesi pengguna. Setelah model dilatih menggunakan data historis, model ini akan digunakan untuk memprediksi hasil pada sekitar 5.000 sesi lainnya yang belum diketahui hasil akhirnya.\n",
        "\n",
        "##**Langkah-Langkah Melakukan Prediksi**\n",
        "1. Eksplorasi Dataset – Mengeksplorasi struktur data untuk memahami fitur dan pola yang relevan dengan prediksi pesanan.\n",
        "2. Pra-pemrosesan Data – Melakukan pembersihan data, penanganan nilai kosong, dan transformasi fitur jika diperlukan.\n",
        "3. Pelatihan Model – Membangun model prediktif menggunakan teknik machine learning yang sesuai.\n",
        "4. Evaluasi dan Tuning Model – Mengukur performa model untuk meminimalkan kesalahan prediksi.\n",
        "5. Prediksi Akhir dan Penyimpanan Hasil – Menghasilkan prediksi probabilitas pesanan untuk sesi pengujian dan menyimpan hasil dalam format yang ditentukan untuk pengumpulan.\n",
        "\n"
      ]
    },
    {
      "cell_type": "markdown",
      "source": [
        "|\n",
        "\n",
        "|\n",
        "\n",
        "|"
      ],
      "metadata": {
        "id": "EHoSc-mInVeF"
      }
    },
    {
      "cell_type": "markdown",
      "source": [
        "## **1. Eksplorasi Dataset**"
      ],
      "metadata": {
        "id": "MpGg3Z4TnbZl"
      }
    },
    {
      "cell_type": "markdown",
      "source": [
        "#### Import libraries yang diperlukan"
      ],
      "metadata": {
        "id": "cZMBDHCGsxMA"
      }
    },
    {
      "cell_type": "code",
      "execution_count": null,
      "metadata": {
        "id": "fgKFIxXQh7V-"
      },
      "outputs": [],
      "source": [
        "# Import libraries\n",
        "import pandas as pd\n",
        "import numpy as np\n",
        "import matplotlib.pyplot as plt\n",
        "import seaborn as sns\n",
        "from sklearn.preprocessing import StandardScaler"
      ]
    },
    {
      "cell_type": "markdown",
      "source": [
        "#### Mengunggah file dataset"
      ],
      "metadata": {
        "id": "KswTXNbSs769"
      }
    },
    {
      "cell_type": "code",
      "source": [
        "from google.colab import files\n",
        "uploaded = files.upload()"
      ],
      "metadata": {
        "colab": {
          "base_uri": "https://localhost:8080/",
          "height": 38
        },
        "id": "wK_-jPrOpJhz",
        "outputId": "80d62011-a3e0-4db3-81b8-fd26516cf11b"
      },
      "execution_count": null,
      "outputs": [
        {
          "data": {
            "text/html": [
              "\n",
              "     <input type=\"file\" id=\"files-c064917b-2522-4f48-a8ab-d26f671be416\" name=\"files[]\" multiple disabled\n",
              "        style=\"border:none\" />\n",
              "     <output id=\"result-c064917b-2522-4f48-a8ab-d26f671be416\">\n",
              "      Upload widget is only available when the cell has been executed in the\n",
              "      current browser session. Please rerun this cell to enable.\n",
              "      </output>\n",
              "      <script>// Copyright 2017 Google LLC\n",
              "//\n",
              "// Licensed under the Apache License, Version 2.0 (the \"License\");\n",
              "// you may not use this file except in compliance with the License.\n",
              "// You may obtain a copy of the License at\n",
              "//\n",
              "//      http://www.apache.org/licenses/LICENSE-2.0\n",
              "//\n",
              "// Unless required by applicable law or agreed to in writing, software\n",
              "// distributed under the License is distributed on an \"AS IS\" BASIS,\n",
              "// WITHOUT WARRANTIES OR CONDITIONS OF ANY KIND, either express or implied.\n",
              "// See the License for the specific language governing permissions and\n",
              "// limitations under the License.\n",
              "\n",
              "/**\n",
              " * @fileoverview Helpers for google.colab Python module.\n",
              " */\n",
              "(function(scope) {\n",
              "function span(text, styleAttributes = {}) {\n",
              "  const element = document.createElement('span');\n",
              "  element.textContent = text;\n",
              "  for (const key of Object.keys(styleAttributes)) {\n",
              "    element.style[key] = styleAttributes[key];\n",
              "  }\n",
              "  return element;\n",
              "}\n",
              "\n",
              "// Max number of bytes which will be uploaded at a time.\n",
              "const MAX_PAYLOAD_SIZE = 100 * 1024;\n",
              "\n",
              "function _uploadFiles(inputId, outputId) {\n",
              "  const steps = uploadFilesStep(inputId, outputId);\n",
              "  const outputElement = document.getElementById(outputId);\n",
              "  // Cache steps on the outputElement to make it available for the next call\n",
              "  // to uploadFilesContinue from Python.\n",
              "  outputElement.steps = steps;\n",
              "\n",
              "  return _uploadFilesContinue(outputId);\n",
              "}\n",
              "\n",
              "// This is roughly an async generator (not supported in the browser yet),\n",
              "// where there are multiple asynchronous steps and the Python side is going\n",
              "// to poll for completion of each step.\n",
              "// This uses a Promise to block the python side on completion of each step,\n",
              "// then passes the result of the previous step as the input to the next step.\n",
              "function _uploadFilesContinue(outputId) {\n",
              "  const outputElement = document.getElementById(outputId);\n",
              "  const steps = outputElement.steps;\n",
              "\n",
              "  const next = steps.next(outputElement.lastPromiseValue);\n",
              "  return Promise.resolve(next.value.promise).then((value) => {\n",
              "    // Cache the last promise value to make it available to the next\n",
              "    // step of the generator.\n",
              "    outputElement.lastPromiseValue = value;\n",
              "    return next.value.response;\n",
              "  });\n",
              "}\n",
              "\n",
              "/**\n",
              " * Generator function which is called between each async step of the upload\n",
              " * process.\n",
              " * @param {string} inputId Element ID of the input file picker element.\n",
              " * @param {string} outputId Element ID of the output display.\n",
              " * @return {!Iterable<!Object>} Iterable of next steps.\n",
              " */\n",
              "function* uploadFilesStep(inputId, outputId) {\n",
              "  const inputElement = document.getElementById(inputId);\n",
              "  inputElement.disabled = false;\n",
              "\n",
              "  const outputElement = document.getElementById(outputId);\n",
              "  outputElement.innerHTML = '';\n",
              "\n",
              "  const pickedPromise = new Promise((resolve) => {\n",
              "    inputElement.addEventListener('change', (e) => {\n",
              "      resolve(e.target.files);\n",
              "    });\n",
              "  });\n",
              "\n",
              "  const cancel = document.createElement('button');\n",
              "  inputElement.parentElement.appendChild(cancel);\n",
              "  cancel.textContent = 'Cancel upload';\n",
              "  const cancelPromise = new Promise((resolve) => {\n",
              "    cancel.onclick = () => {\n",
              "      resolve(null);\n",
              "    };\n",
              "  });\n",
              "\n",
              "  // Wait for the user to pick the files.\n",
              "  const files = yield {\n",
              "    promise: Promise.race([pickedPromise, cancelPromise]),\n",
              "    response: {\n",
              "      action: 'starting',\n",
              "    }\n",
              "  };\n",
              "\n",
              "  cancel.remove();\n",
              "\n",
              "  // Disable the input element since further picks are not allowed.\n",
              "  inputElement.disabled = true;\n",
              "\n",
              "  if (!files) {\n",
              "    return {\n",
              "      response: {\n",
              "        action: 'complete',\n",
              "      }\n",
              "    };\n",
              "  }\n",
              "\n",
              "  for (const file of files) {\n",
              "    const li = document.createElement('li');\n",
              "    li.append(span(file.name, {fontWeight: 'bold'}));\n",
              "    li.append(span(\n",
              "        `(${file.type || 'n/a'}) - ${file.size} bytes, ` +\n",
              "        `last modified: ${\n",
              "            file.lastModifiedDate ? file.lastModifiedDate.toLocaleDateString() :\n",
              "                                    'n/a'} - `));\n",
              "    const percent = span('0% done');\n",
              "    li.appendChild(percent);\n",
              "\n",
              "    outputElement.appendChild(li);\n",
              "\n",
              "    const fileDataPromise = new Promise((resolve) => {\n",
              "      const reader = new FileReader();\n",
              "      reader.onload = (e) => {\n",
              "        resolve(e.target.result);\n",
              "      };\n",
              "      reader.readAsArrayBuffer(file);\n",
              "    });\n",
              "    // Wait for the data to be ready.\n",
              "    let fileData = yield {\n",
              "      promise: fileDataPromise,\n",
              "      response: {\n",
              "        action: 'continue',\n",
              "      }\n",
              "    };\n",
              "\n",
              "    // Use a chunked sending to avoid message size limits. See b/62115660.\n",
              "    let position = 0;\n",
              "    do {\n",
              "      const length = Math.min(fileData.byteLength - position, MAX_PAYLOAD_SIZE);\n",
              "      const chunk = new Uint8Array(fileData, position, length);\n",
              "      position += length;\n",
              "\n",
              "      const base64 = btoa(String.fromCharCode.apply(null, chunk));\n",
              "      yield {\n",
              "        response: {\n",
              "          action: 'append',\n",
              "          file: file.name,\n",
              "          data: base64,\n",
              "        },\n",
              "      };\n",
              "\n",
              "      let percentDone = fileData.byteLength === 0 ?\n",
              "          100 :\n",
              "          Math.round((position / fileData.byteLength) * 100);\n",
              "      percent.textContent = `${percentDone}% done`;\n",
              "\n",
              "    } while (position < fileData.byteLength);\n",
              "  }\n",
              "\n",
              "  // All done.\n",
              "  yield {\n",
              "    response: {\n",
              "      action: 'complete',\n",
              "    }\n",
              "  };\n",
              "}\n",
              "\n",
              "scope.google = scope.google || {};\n",
              "scope.google.colab = scope.google.colab || {};\n",
              "scope.google.colab._files = {\n",
              "  _uploadFiles,\n",
              "  _uploadFilesContinue,\n",
              "};\n",
              "})(self);\n",
              "</script> "
            ],
            "text/plain": [
              "<IPython.core.display.HTML object>"
            ]
          },
          "metadata": {},
          "output_type": "display_data"
        }
      ]
    },
    {
      "cell_type": "markdown",
      "source": [
        "#### Membaca file dataset"
      ],
      "metadata": {
        "id": "gYNHCNy3tEjV"
      }
    },
    {
      "cell_type": "code",
      "source": [
        "# Membaca dataset\n",
        "order = pd.read_csv('transact_train.txt', delimiter='|')\n",
        "order2 = pd.read_csv('transact_train.txt', delimiter='|')"
      ],
      "metadata": {
        "id": "SKVjss8_pQCx"
      },
      "execution_count": null,
      "outputs": []
    },
    {
      "cell_type": "markdown",
      "source": [
        "#### Melihat informasi dataset"
      ],
      "metadata": {
        "id": "4gCAihKrtKF9"
      }
    },
    {
      "cell_type": "code",
      "source": [
        "# Melihat informasi dataset\n",
        "order.info()"
      ],
      "metadata": {
        "colab": {
          "base_uri": "https://localhost:8080/"
        },
        "id": "EU5erttUpZL6",
        "outputId": "22a590a8-76e9-4ad0-cbfb-049b61ce75d0"
      },
      "execution_count": null,
      "outputs": [
        {
          "output_type": "stream",
          "name": "stdout",
          "text": [
            "<class 'pandas.core.frame.DataFrame'>\n",
            "RangeIndex: 429013 entries, 0 to 429012\n",
            "Data columns (total 24 columns):\n",
            " #   Column           Non-Null Count   Dtype  \n",
            "---  ------           --------------   -----  \n",
            " 0   sessionNo        429013 non-null  int64  \n",
            " 1   startHour        429013 non-null  int64  \n",
            " 2   startWeekday     429013 non-null  int64  \n",
            " 3   duration         429013 non-null  float64\n",
            " 4   cCount           429013 non-null  int64  \n",
            " 5   cMinPrice        429013 non-null  object \n",
            " 6   cMaxPrice        429013 non-null  object \n",
            " 7   cSumPrice        429013 non-null  object \n",
            " 8   bCount           429013 non-null  int64  \n",
            " 9   bMinPrice        429013 non-null  object \n",
            " 10  bMaxPrice        429013 non-null  object \n",
            " 11  bSumPrice        429013 non-null  object \n",
            " 12  bStep            429013 non-null  object \n",
            " 13  onlineStatus     429013 non-null  object \n",
            " 14  availability     429013 non-null  object \n",
            " 15  customerNo       429013 non-null  object \n",
            " 16  maxVal           429013 non-null  object \n",
            " 17  customerScore    429013 non-null  object \n",
            " 18  accountLifetime  429013 non-null  object \n",
            " 19  payments         429013 non-null  object \n",
            " 20  age              429013 non-null  object \n",
            " 21  address          429013 non-null  object \n",
            " 22  lastOrder        429013 non-null  object \n",
            " 23  order            429013 non-null  object \n",
            "dtypes: float64(1), int64(5), object(18)\n",
            "memory usage: 78.6+ MB\n"
          ]
        }
      ]
    },
    {
      "cell_type": "markdown",
      "source": [
        "Dari informasi dataset diatas terdapat total 23 atribut dan 429.013 record"
      ],
      "metadata": {
        "id": "gEmUmolKYucc"
      }
    },
    {
      "cell_type": "markdown",
      "source": [
        "#### Menampilkan 5 baris record pertama dan terakhir pada dataset"
      ],
      "metadata": {
        "id": "91jXKaZitfMz"
      }
    },
    {
      "cell_type": "code",
      "source": [
        "# Atur jumlah maksimum kolom yang ditampilkan\n",
        "pd.set_option('display.max_columns', 24)"
      ],
      "metadata": {
        "id": "kU-6gKN2yqSU"
      },
      "execution_count": null,
      "outputs": []
    },
    {
      "cell_type": "code",
      "source": [
        "# Menampilkan 5 baris pertama\n",
        "order.head()"
      ],
      "metadata": {
        "colab": {
          "base_uri": "https://localhost:8080/",
          "height": 296
        },
        "id": "OG6oow7opXKT",
        "outputId": "6fe9f6e3-dda5-40f0-c2b0-c6b722186fef"
      },
      "execution_count": null,
      "outputs": [
        {
          "output_type": "execute_result",
          "data": {
            "text/plain": [
              "   sessionNo  startHour  startWeekday  duration  cCount cMinPrice cMaxPrice  \\\n",
              "0          1          6             5     0.000       1     59.99     59.99   \n",
              "1          1          6             5    11.940       1     59.99     59.99   \n",
              "2          1          6             5    39.887       1     59.99     59.99   \n",
              "3          2          6             5     0.000       0         ?         ?   \n",
              "4          2          6             5    15.633       0         ?         ?   \n",
              "\n",
              "  cSumPrice  bCount bMinPrice bMaxPrice bSumPrice bStep onlineStatus  \\\n",
              "0     59.99       1     59.99     59.99     59.99     ?            ?   \n",
              "1     59.99       1     59.99     59.99     59.99     2            y   \n",
              "2     59.99       1     59.99     59.99     59.99     ?            y   \n",
              "3         ?       0         ?         ?         ?     2            y   \n",
              "4         ?       0         ?         ?         ?     ?            y   \n",
              "\n",
              "           availability customerNo maxVal customerScore accountLifetime  \\\n",
              "0                     ?          1    600            70              21   \n",
              "1  completely orderable          1    600            70              21   \n",
              "2  completely orderable          1    600            70              21   \n",
              "3  completely orderable          ?      ?             ?               ?   \n",
              "4  completely orderable          ?      ?             ?               ?   \n",
              "\n",
              "  payments age address lastOrder order  \n",
              "0        1  43       1        49     y  \n",
              "1        1  43       1        49     y  \n",
              "2        1  43       1        49     y  \n",
              "3        ?   ?       ?         ?     y  \n",
              "4        ?   ?       ?         ?     y  "
            ],
            "text/html": [
              "\n",
              "  <div id=\"df-b5c7cefb-33a8-4c6b-9a8f-dc528effa030\" class=\"colab-df-container\">\n",
              "    <div>\n",
              "<style scoped>\n",
              "    .dataframe tbody tr th:only-of-type {\n",
              "        vertical-align: middle;\n",
              "    }\n",
              "\n",
              "    .dataframe tbody tr th {\n",
              "        vertical-align: top;\n",
              "    }\n",
              "\n",
              "    .dataframe thead th {\n",
              "        text-align: right;\n",
              "    }\n",
              "</style>\n",
              "<table border=\"1\" class=\"dataframe\">\n",
              "  <thead>\n",
              "    <tr style=\"text-align: right;\">\n",
              "      <th></th>\n",
              "      <th>sessionNo</th>\n",
              "      <th>startHour</th>\n",
              "      <th>startWeekday</th>\n",
              "      <th>duration</th>\n",
              "      <th>cCount</th>\n",
              "      <th>cMinPrice</th>\n",
              "      <th>cMaxPrice</th>\n",
              "      <th>cSumPrice</th>\n",
              "      <th>bCount</th>\n",
              "      <th>bMinPrice</th>\n",
              "      <th>bMaxPrice</th>\n",
              "      <th>bSumPrice</th>\n",
              "      <th>bStep</th>\n",
              "      <th>onlineStatus</th>\n",
              "      <th>availability</th>\n",
              "      <th>customerNo</th>\n",
              "      <th>maxVal</th>\n",
              "      <th>customerScore</th>\n",
              "      <th>accountLifetime</th>\n",
              "      <th>payments</th>\n",
              "      <th>age</th>\n",
              "      <th>address</th>\n",
              "      <th>lastOrder</th>\n",
              "      <th>order</th>\n",
              "    </tr>\n",
              "  </thead>\n",
              "  <tbody>\n",
              "    <tr>\n",
              "      <th>0</th>\n",
              "      <td>1</td>\n",
              "      <td>6</td>\n",
              "      <td>5</td>\n",
              "      <td>0.000</td>\n",
              "      <td>1</td>\n",
              "      <td>59.99</td>\n",
              "      <td>59.99</td>\n",
              "      <td>59.99</td>\n",
              "      <td>1</td>\n",
              "      <td>59.99</td>\n",
              "      <td>59.99</td>\n",
              "      <td>59.99</td>\n",
              "      <td>?</td>\n",
              "      <td>?</td>\n",
              "      <td>?</td>\n",
              "      <td>1</td>\n",
              "      <td>600</td>\n",
              "      <td>70</td>\n",
              "      <td>21</td>\n",
              "      <td>1</td>\n",
              "      <td>43</td>\n",
              "      <td>1</td>\n",
              "      <td>49</td>\n",
              "      <td>y</td>\n",
              "    </tr>\n",
              "    <tr>\n",
              "      <th>1</th>\n",
              "      <td>1</td>\n",
              "      <td>6</td>\n",
              "      <td>5</td>\n",
              "      <td>11.940</td>\n",
              "      <td>1</td>\n",
              "      <td>59.99</td>\n",
              "      <td>59.99</td>\n",
              "      <td>59.99</td>\n",
              "      <td>1</td>\n",
              "      <td>59.99</td>\n",
              "      <td>59.99</td>\n",
              "      <td>59.99</td>\n",
              "      <td>2</td>\n",
              "      <td>y</td>\n",
              "      <td>completely orderable</td>\n",
              "      <td>1</td>\n",
              "      <td>600</td>\n",
              "      <td>70</td>\n",
              "      <td>21</td>\n",
              "      <td>1</td>\n",
              "      <td>43</td>\n",
              "      <td>1</td>\n",
              "      <td>49</td>\n",
              "      <td>y</td>\n",
              "    </tr>\n",
              "    <tr>\n",
              "      <th>2</th>\n",
              "      <td>1</td>\n",
              "      <td>6</td>\n",
              "      <td>5</td>\n",
              "      <td>39.887</td>\n",
              "      <td>1</td>\n",
              "      <td>59.99</td>\n",
              "      <td>59.99</td>\n",
              "      <td>59.99</td>\n",
              "      <td>1</td>\n",
              "      <td>59.99</td>\n",
              "      <td>59.99</td>\n",
              "      <td>59.99</td>\n",
              "      <td>?</td>\n",
              "      <td>y</td>\n",
              "      <td>completely orderable</td>\n",
              "      <td>1</td>\n",
              "      <td>600</td>\n",
              "      <td>70</td>\n",
              "      <td>21</td>\n",
              "      <td>1</td>\n",
              "      <td>43</td>\n",
              "      <td>1</td>\n",
              "      <td>49</td>\n",
              "      <td>y</td>\n",
              "    </tr>\n",
              "    <tr>\n",
              "      <th>3</th>\n",
              "      <td>2</td>\n",
              "      <td>6</td>\n",
              "      <td>5</td>\n",
              "      <td>0.000</td>\n",
              "      <td>0</td>\n",
              "      <td>?</td>\n",
              "      <td>?</td>\n",
              "      <td>?</td>\n",
              "      <td>0</td>\n",
              "      <td>?</td>\n",
              "      <td>?</td>\n",
              "      <td>?</td>\n",
              "      <td>2</td>\n",
              "      <td>y</td>\n",
              "      <td>completely orderable</td>\n",
              "      <td>?</td>\n",
              "      <td>?</td>\n",
              "      <td>?</td>\n",
              "      <td>?</td>\n",
              "      <td>?</td>\n",
              "      <td>?</td>\n",
              "      <td>?</td>\n",
              "      <td>?</td>\n",
              "      <td>y</td>\n",
              "    </tr>\n",
              "    <tr>\n",
              "      <th>4</th>\n",
              "      <td>2</td>\n",
              "      <td>6</td>\n",
              "      <td>5</td>\n",
              "      <td>15.633</td>\n",
              "      <td>0</td>\n",
              "      <td>?</td>\n",
              "      <td>?</td>\n",
              "      <td>?</td>\n",
              "      <td>0</td>\n",
              "      <td>?</td>\n",
              "      <td>?</td>\n",
              "      <td>?</td>\n",
              "      <td>?</td>\n",
              "      <td>y</td>\n",
              "      <td>completely orderable</td>\n",
              "      <td>?</td>\n",
              "      <td>?</td>\n",
              "      <td>?</td>\n",
              "      <td>?</td>\n",
              "      <td>?</td>\n",
              "      <td>?</td>\n",
              "      <td>?</td>\n",
              "      <td>?</td>\n",
              "      <td>y</td>\n",
              "    </tr>\n",
              "  </tbody>\n",
              "</table>\n",
              "</div>\n",
              "    <div class=\"colab-df-buttons\">\n",
              "\n",
              "  <div class=\"colab-df-container\">\n",
              "    <button class=\"colab-df-convert\" onclick=\"convertToInteractive('df-b5c7cefb-33a8-4c6b-9a8f-dc528effa030')\"\n",
              "            title=\"Convert this dataframe to an interactive table.\"\n",
              "            style=\"display:none;\">\n",
              "\n",
              "  <svg xmlns=\"http://www.w3.org/2000/svg\" height=\"24px\" viewBox=\"0 -960 960 960\">\n",
              "    <path d=\"M120-120v-720h720v720H120Zm60-500h600v-160H180v160Zm220 220h160v-160H400v160Zm0 220h160v-160H400v160ZM180-400h160v-160H180v160Zm440 0h160v-160H620v160ZM180-180h160v-160H180v160Zm440 0h160v-160H620v160Z\"/>\n",
              "  </svg>\n",
              "    </button>\n",
              "\n",
              "  <style>\n",
              "    .colab-df-container {\n",
              "      display:flex;\n",
              "      gap: 12px;\n",
              "    }\n",
              "\n",
              "    .colab-df-convert {\n",
              "      background-color: #E8F0FE;\n",
              "      border: none;\n",
              "      border-radius: 50%;\n",
              "      cursor: pointer;\n",
              "      display: none;\n",
              "      fill: #1967D2;\n",
              "      height: 32px;\n",
              "      padding: 0 0 0 0;\n",
              "      width: 32px;\n",
              "    }\n",
              "\n",
              "    .colab-df-convert:hover {\n",
              "      background-color: #E2EBFA;\n",
              "      box-shadow: 0px 1px 2px rgba(60, 64, 67, 0.3), 0px 1px 3px 1px rgba(60, 64, 67, 0.15);\n",
              "      fill: #174EA6;\n",
              "    }\n",
              "\n",
              "    .colab-df-buttons div {\n",
              "      margin-bottom: 4px;\n",
              "    }\n",
              "\n",
              "    [theme=dark] .colab-df-convert {\n",
              "      background-color: #3B4455;\n",
              "      fill: #D2E3FC;\n",
              "    }\n",
              "\n",
              "    [theme=dark] .colab-df-convert:hover {\n",
              "      background-color: #434B5C;\n",
              "      box-shadow: 0px 1px 3px 1px rgba(0, 0, 0, 0.15);\n",
              "      filter: drop-shadow(0px 1px 2px rgba(0, 0, 0, 0.3));\n",
              "      fill: #FFFFFF;\n",
              "    }\n",
              "  </style>\n",
              "\n",
              "    <script>\n",
              "      const buttonEl =\n",
              "        document.querySelector('#df-b5c7cefb-33a8-4c6b-9a8f-dc528effa030 button.colab-df-convert');\n",
              "      buttonEl.style.display =\n",
              "        google.colab.kernel.accessAllowed ? 'block' : 'none';\n",
              "\n",
              "      async function convertToInteractive(key) {\n",
              "        const element = document.querySelector('#df-b5c7cefb-33a8-4c6b-9a8f-dc528effa030');\n",
              "        const dataTable =\n",
              "          await google.colab.kernel.invokeFunction('convertToInteractive',\n",
              "                                                    [key], {});\n",
              "        if (!dataTable) return;\n",
              "\n",
              "        const docLinkHtml = 'Like what you see? Visit the ' +\n",
              "          '<a target=\"_blank\" href=https://colab.research.google.com/notebooks/data_table.ipynb>data table notebook</a>'\n",
              "          + ' to learn more about interactive tables.';\n",
              "        element.innerHTML = '';\n",
              "        dataTable['output_type'] = 'display_data';\n",
              "        await google.colab.output.renderOutput(dataTable, element);\n",
              "        const docLink = document.createElement('div');\n",
              "        docLink.innerHTML = docLinkHtml;\n",
              "        element.appendChild(docLink);\n",
              "      }\n",
              "    </script>\n",
              "  </div>\n",
              "\n",
              "\n",
              "<div id=\"df-d126d9a7-c07f-4033-9062-0547c19f6c9e\">\n",
              "  <button class=\"colab-df-quickchart\" onclick=\"quickchart('df-d126d9a7-c07f-4033-9062-0547c19f6c9e')\"\n",
              "            title=\"Suggest charts\"\n",
              "            style=\"display:none;\">\n",
              "\n",
              "<svg xmlns=\"http://www.w3.org/2000/svg\" height=\"24px\"viewBox=\"0 0 24 24\"\n",
              "     width=\"24px\">\n",
              "    <g>\n",
              "        <path d=\"M19 3H5c-1.1 0-2 .9-2 2v14c0 1.1.9 2 2 2h14c1.1 0 2-.9 2-2V5c0-1.1-.9-2-2-2zM9 17H7v-7h2v7zm4 0h-2V7h2v10zm4 0h-2v-4h2v4z\"/>\n",
              "    </g>\n",
              "</svg>\n",
              "  </button>\n",
              "\n",
              "<style>\n",
              "  .colab-df-quickchart {\n",
              "      --bg-color: #E8F0FE;\n",
              "      --fill-color: #1967D2;\n",
              "      --hover-bg-color: #E2EBFA;\n",
              "      --hover-fill-color: #174EA6;\n",
              "      --disabled-fill-color: #AAA;\n",
              "      --disabled-bg-color: #DDD;\n",
              "  }\n",
              "\n",
              "  [theme=dark] .colab-df-quickchart {\n",
              "      --bg-color: #3B4455;\n",
              "      --fill-color: #D2E3FC;\n",
              "      --hover-bg-color: #434B5C;\n",
              "      --hover-fill-color: #FFFFFF;\n",
              "      --disabled-bg-color: #3B4455;\n",
              "      --disabled-fill-color: #666;\n",
              "  }\n",
              "\n",
              "  .colab-df-quickchart {\n",
              "    background-color: var(--bg-color);\n",
              "    border: none;\n",
              "    border-radius: 50%;\n",
              "    cursor: pointer;\n",
              "    display: none;\n",
              "    fill: var(--fill-color);\n",
              "    height: 32px;\n",
              "    padding: 0;\n",
              "    width: 32px;\n",
              "  }\n",
              "\n",
              "  .colab-df-quickchart:hover {\n",
              "    background-color: var(--hover-bg-color);\n",
              "    box-shadow: 0 1px 2px rgba(60, 64, 67, 0.3), 0 1px 3px 1px rgba(60, 64, 67, 0.15);\n",
              "    fill: var(--button-hover-fill-color);\n",
              "  }\n",
              "\n",
              "  .colab-df-quickchart-complete:disabled,\n",
              "  .colab-df-quickchart-complete:disabled:hover {\n",
              "    background-color: var(--disabled-bg-color);\n",
              "    fill: var(--disabled-fill-color);\n",
              "    box-shadow: none;\n",
              "  }\n",
              "\n",
              "  .colab-df-spinner {\n",
              "    border: 2px solid var(--fill-color);\n",
              "    border-color: transparent;\n",
              "    border-bottom-color: var(--fill-color);\n",
              "    animation:\n",
              "      spin 1s steps(1) infinite;\n",
              "  }\n",
              "\n",
              "  @keyframes spin {\n",
              "    0% {\n",
              "      border-color: transparent;\n",
              "      border-bottom-color: var(--fill-color);\n",
              "      border-left-color: var(--fill-color);\n",
              "    }\n",
              "    20% {\n",
              "      border-color: transparent;\n",
              "      border-left-color: var(--fill-color);\n",
              "      border-top-color: var(--fill-color);\n",
              "    }\n",
              "    30% {\n",
              "      border-color: transparent;\n",
              "      border-left-color: var(--fill-color);\n",
              "      border-top-color: var(--fill-color);\n",
              "      border-right-color: var(--fill-color);\n",
              "    }\n",
              "    40% {\n",
              "      border-color: transparent;\n",
              "      border-right-color: var(--fill-color);\n",
              "      border-top-color: var(--fill-color);\n",
              "    }\n",
              "    60% {\n",
              "      border-color: transparent;\n",
              "      border-right-color: var(--fill-color);\n",
              "    }\n",
              "    80% {\n",
              "      border-color: transparent;\n",
              "      border-right-color: var(--fill-color);\n",
              "      border-bottom-color: var(--fill-color);\n",
              "    }\n",
              "    90% {\n",
              "      border-color: transparent;\n",
              "      border-bottom-color: var(--fill-color);\n",
              "    }\n",
              "  }\n",
              "</style>\n",
              "\n",
              "  <script>\n",
              "    async function quickchart(key) {\n",
              "      const quickchartButtonEl =\n",
              "        document.querySelector('#' + key + ' button');\n",
              "      quickchartButtonEl.disabled = true;  // To prevent multiple clicks.\n",
              "      quickchartButtonEl.classList.add('colab-df-spinner');\n",
              "      try {\n",
              "        const charts = await google.colab.kernel.invokeFunction(\n",
              "            'suggestCharts', [key], {});\n",
              "      } catch (error) {\n",
              "        console.error('Error during call to suggestCharts:', error);\n",
              "      }\n",
              "      quickchartButtonEl.classList.remove('colab-df-spinner');\n",
              "      quickchartButtonEl.classList.add('colab-df-quickchart-complete');\n",
              "    }\n",
              "    (() => {\n",
              "      let quickchartButtonEl =\n",
              "        document.querySelector('#df-d126d9a7-c07f-4033-9062-0547c19f6c9e button');\n",
              "      quickchartButtonEl.style.display =\n",
              "        google.colab.kernel.accessAllowed ? 'block' : 'none';\n",
              "    })();\n",
              "  </script>\n",
              "</div>\n",
              "\n",
              "    </div>\n",
              "  </div>\n"
            ],
            "application/vnd.google.colaboratory.intrinsic+json": {
              "type": "dataframe",
              "variable_name": "order"
            }
          },
          "metadata": {},
          "execution_count": 6
        }
      ]
    },
    {
      "cell_type": "code",
      "source": [
        "# Menampilkan 5 baris terakhir\n",
        "order.tail()"
      ],
      "metadata": {
        "colab": {
          "base_uri": "https://localhost:8080/",
          "height": 261
        },
        "id": "Bt6AMVyDvPas",
        "outputId": "f770577f-1a94-4985-cc33-ed1641b99dcb"
      },
      "execution_count": null,
      "outputs": [
        {
          "output_type": "execute_result",
          "data": {
            "text/plain": [
              "        sessionNo  startHour  startWeekday  duration  cCount cMinPrice  \\\n",
              "429008      49998         18             7  5988.882      77      9.99   \n",
              "429009      49999         18             7   675.114       6      59.0   \n",
              "429010      49999         18             7   715.341       7      59.0   \n",
              "429011      50000         18             7     0.000       1      6.99   \n",
              "429012      50000         18             7    82.943       1      6.99   \n",
              "\n",
              "       cMaxPrice cSumPrice  bCount bMinPrice bMaxPrice bSumPrice bStep  \\\n",
              "429008    149.99   5253.28       3     49.95     99.99    209.93     ?   \n",
              "429009    199.99    509.96       1     89.99     89.99     89.99     ?   \n",
              "429010    649.99   1159.95       1     89.99     89.99     89.99     1   \n",
              "429011      6.99      6.99       1      6.99      6.99      6.99     ?   \n",
              "429012      6.99      6.99       1      6.99      6.99      6.99     ?   \n",
              "\n",
              "       onlineStatus          availability customerNo maxVal customerScore  \\\n",
              "429008            ?                     ?          ?      ?             ?   \n",
              "429009            ?                     ?      25038      ?             ?   \n",
              "429010            y  completely orderable      25038      ?             ?   \n",
              "429011            ?                     ?         47    300           537   \n",
              "429012            y  completely orderable         47    300           537   \n",
              "\n",
              "       accountLifetime payments age address lastOrder order  \n",
              "429008               ?        ?   ?       ?         ?     n  \n",
              "429009               ?        0  24       1         4     n  \n",
              "429010               ?        0  24       1         4     n  \n",
              "429011               5        0  53       1        34     n  \n",
              "429012               5        0  53       1        34     n  "
            ],
            "text/html": [
              "\n",
              "  <div id=\"df-ed8dec01-3ba0-445f-87c1-211dbfec5027\" class=\"colab-df-container\">\n",
              "    <div>\n",
              "<style scoped>\n",
              "    .dataframe tbody tr th:only-of-type {\n",
              "        vertical-align: middle;\n",
              "    }\n",
              "\n",
              "    .dataframe tbody tr th {\n",
              "        vertical-align: top;\n",
              "    }\n",
              "\n",
              "    .dataframe thead th {\n",
              "        text-align: right;\n",
              "    }\n",
              "</style>\n",
              "<table border=\"1\" class=\"dataframe\">\n",
              "  <thead>\n",
              "    <tr style=\"text-align: right;\">\n",
              "      <th></th>\n",
              "      <th>sessionNo</th>\n",
              "      <th>startHour</th>\n",
              "      <th>startWeekday</th>\n",
              "      <th>duration</th>\n",
              "      <th>cCount</th>\n",
              "      <th>cMinPrice</th>\n",
              "      <th>cMaxPrice</th>\n",
              "      <th>cSumPrice</th>\n",
              "      <th>bCount</th>\n",
              "      <th>bMinPrice</th>\n",
              "      <th>bMaxPrice</th>\n",
              "      <th>bSumPrice</th>\n",
              "      <th>bStep</th>\n",
              "      <th>onlineStatus</th>\n",
              "      <th>availability</th>\n",
              "      <th>customerNo</th>\n",
              "      <th>maxVal</th>\n",
              "      <th>customerScore</th>\n",
              "      <th>accountLifetime</th>\n",
              "      <th>payments</th>\n",
              "      <th>age</th>\n",
              "      <th>address</th>\n",
              "      <th>lastOrder</th>\n",
              "      <th>order</th>\n",
              "    </tr>\n",
              "  </thead>\n",
              "  <tbody>\n",
              "    <tr>\n",
              "      <th>429008</th>\n",
              "      <td>49998</td>\n",
              "      <td>18</td>\n",
              "      <td>7</td>\n",
              "      <td>5988.882</td>\n",
              "      <td>77</td>\n",
              "      <td>9.99</td>\n",
              "      <td>149.99</td>\n",
              "      <td>5253.28</td>\n",
              "      <td>3</td>\n",
              "      <td>49.95</td>\n",
              "      <td>99.99</td>\n",
              "      <td>209.93</td>\n",
              "      <td>?</td>\n",
              "      <td>?</td>\n",
              "      <td>?</td>\n",
              "      <td>?</td>\n",
              "      <td>?</td>\n",
              "      <td>?</td>\n",
              "      <td>?</td>\n",
              "      <td>?</td>\n",
              "      <td>?</td>\n",
              "      <td>?</td>\n",
              "      <td>?</td>\n",
              "      <td>n</td>\n",
              "    </tr>\n",
              "    <tr>\n",
              "      <th>429009</th>\n",
              "      <td>49999</td>\n",
              "      <td>18</td>\n",
              "      <td>7</td>\n",
              "      <td>675.114</td>\n",
              "      <td>6</td>\n",
              "      <td>59.0</td>\n",
              "      <td>199.99</td>\n",
              "      <td>509.96</td>\n",
              "      <td>1</td>\n",
              "      <td>89.99</td>\n",
              "      <td>89.99</td>\n",
              "      <td>89.99</td>\n",
              "      <td>?</td>\n",
              "      <td>?</td>\n",
              "      <td>?</td>\n",
              "      <td>25038</td>\n",
              "      <td>?</td>\n",
              "      <td>?</td>\n",
              "      <td>?</td>\n",
              "      <td>0</td>\n",
              "      <td>24</td>\n",
              "      <td>1</td>\n",
              "      <td>4</td>\n",
              "      <td>n</td>\n",
              "    </tr>\n",
              "    <tr>\n",
              "      <th>429010</th>\n",
              "      <td>49999</td>\n",
              "      <td>18</td>\n",
              "      <td>7</td>\n",
              "      <td>715.341</td>\n",
              "      <td>7</td>\n",
              "      <td>59.0</td>\n",
              "      <td>649.99</td>\n",
              "      <td>1159.95</td>\n",
              "      <td>1</td>\n",
              "      <td>89.99</td>\n",
              "      <td>89.99</td>\n",
              "      <td>89.99</td>\n",
              "      <td>1</td>\n",
              "      <td>y</td>\n",
              "      <td>completely orderable</td>\n",
              "      <td>25038</td>\n",
              "      <td>?</td>\n",
              "      <td>?</td>\n",
              "      <td>?</td>\n",
              "      <td>0</td>\n",
              "      <td>24</td>\n",
              "      <td>1</td>\n",
              "      <td>4</td>\n",
              "      <td>n</td>\n",
              "    </tr>\n",
              "    <tr>\n",
              "      <th>429011</th>\n",
              "      <td>50000</td>\n",
              "      <td>18</td>\n",
              "      <td>7</td>\n",
              "      <td>0.000</td>\n",
              "      <td>1</td>\n",
              "      <td>6.99</td>\n",
              "      <td>6.99</td>\n",
              "      <td>6.99</td>\n",
              "      <td>1</td>\n",
              "      <td>6.99</td>\n",
              "      <td>6.99</td>\n",
              "      <td>6.99</td>\n",
              "      <td>?</td>\n",
              "      <td>?</td>\n",
              "      <td>?</td>\n",
              "      <td>47</td>\n",
              "      <td>300</td>\n",
              "      <td>537</td>\n",
              "      <td>5</td>\n",
              "      <td>0</td>\n",
              "      <td>53</td>\n",
              "      <td>1</td>\n",
              "      <td>34</td>\n",
              "      <td>n</td>\n",
              "    </tr>\n",
              "    <tr>\n",
              "      <th>429012</th>\n",
              "      <td>50000</td>\n",
              "      <td>18</td>\n",
              "      <td>7</td>\n",
              "      <td>82.943</td>\n",
              "      <td>1</td>\n",
              "      <td>6.99</td>\n",
              "      <td>6.99</td>\n",
              "      <td>6.99</td>\n",
              "      <td>1</td>\n",
              "      <td>6.99</td>\n",
              "      <td>6.99</td>\n",
              "      <td>6.99</td>\n",
              "      <td>?</td>\n",
              "      <td>y</td>\n",
              "      <td>completely orderable</td>\n",
              "      <td>47</td>\n",
              "      <td>300</td>\n",
              "      <td>537</td>\n",
              "      <td>5</td>\n",
              "      <td>0</td>\n",
              "      <td>53</td>\n",
              "      <td>1</td>\n",
              "      <td>34</td>\n",
              "      <td>n</td>\n",
              "    </tr>\n",
              "  </tbody>\n",
              "</table>\n",
              "</div>\n",
              "    <div class=\"colab-df-buttons\">\n",
              "\n",
              "  <div class=\"colab-df-container\">\n",
              "    <button class=\"colab-df-convert\" onclick=\"convertToInteractive('df-ed8dec01-3ba0-445f-87c1-211dbfec5027')\"\n",
              "            title=\"Convert this dataframe to an interactive table.\"\n",
              "            style=\"display:none;\">\n",
              "\n",
              "  <svg xmlns=\"http://www.w3.org/2000/svg\" height=\"24px\" viewBox=\"0 -960 960 960\">\n",
              "    <path d=\"M120-120v-720h720v720H120Zm60-500h600v-160H180v160Zm220 220h160v-160H400v160Zm0 220h160v-160H400v160ZM180-400h160v-160H180v160Zm440 0h160v-160H620v160ZM180-180h160v-160H180v160Zm440 0h160v-160H620v160Z\"/>\n",
              "  </svg>\n",
              "    </button>\n",
              "\n",
              "  <style>\n",
              "    .colab-df-container {\n",
              "      display:flex;\n",
              "      gap: 12px;\n",
              "    }\n",
              "\n",
              "    .colab-df-convert {\n",
              "      background-color: #E8F0FE;\n",
              "      border: none;\n",
              "      border-radius: 50%;\n",
              "      cursor: pointer;\n",
              "      display: none;\n",
              "      fill: #1967D2;\n",
              "      height: 32px;\n",
              "      padding: 0 0 0 0;\n",
              "      width: 32px;\n",
              "    }\n",
              "\n",
              "    .colab-df-convert:hover {\n",
              "      background-color: #E2EBFA;\n",
              "      box-shadow: 0px 1px 2px rgba(60, 64, 67, 0.3), 0px 1px 3px 1px rgba(60, 64, 67, 0.15);\n",
              "      fill: #174EA6;\n",
              "    }\n",
              "\n",
              "    .colab-df-buttons div {\n",
              "      margin-bottom: 4px;\n",
              "    }\n",
              "\n",
              "    [theme=dark] .colab-df-convert {\n",
              "      background-color: #3B4455;\n",
              "      fill: #D2E3FC;\n",
              "    }\n",
              "\n",
              "    [theme=dark] .colab-df-convert:hover {\n",
              "      background-color: #434B5C;\n",
              "      box-shadow: 0px 1px 3px 1px rgba(0, 0, 0, 0.15);\n",
              "      filter: drop-shadow(0px 1px 2px rgba(0, 0, 0, 0.3));\n",
              "      fill: #FFFFFF;\n",
              "    }\n",
              "  </style>\n",
              "\n",
              "    <script>\n",
              "      const buttonEl =\n",
              "        document.querySelector('#df-ed8dec01-3ba0-445f-87c1-211dbfec5027 button.colab-df-convert');\n",
              "      buttonEl.style.display =\n",
              "        google.colab.kernel.accessAllowed ? 'block' : 'none';\n",
              "\n",
              "      async function convertToInteractive(key) {\n",
              "        const element = document.querySelector('#df-ed8dec01-3ba0-445f-87c1-211dbfec5027');\n",
              "        const dataTable =\n",
              "          await google.colab.kernel.invokeFunction('convertToInteractive',\n",
              "                                                    [key], {});\n",
              "        if (!dataTable) return;\n",
              "\n",
              "        const docLinkHtml = 'Like what you see? Visit the ' +\n",
              "          '<a target=\"_blank\" href=https://colab.research.google.com/notebooks/data_table.ipynb>data table notebook</a>'\n",
              "          + ' to learn more about interactive tables.';\n",
              "        element.innerHTML = '';\n",
              "        dataTable['output_type'] = 'display_data';\n",
              "        await google.colab.output.renderOutput(dataTable, element);\n",
              "        const docLink = document.createElement('div');\n",
              "        docLink.innerHTML = docLinkHtml;\n",
              "        element.appendChild(docLink);\n",
              "      }\n",
              "    </script>\n",
              "  </div>\n",
              "\n",
              "\n",
              "<div id=\"df-6ccfeb9d-2a3f-4681-b7fc-bcf348103f8a\">\n",
              "  <button class=\"colab-df-quickchart\" onclick=\"quickchart('df-6ccfeb9d-2a3f-4681-b7fc-bcf348103f8a')\"\n",
              "            title=\"Suggest charts\"\n",
              "            style=\"display:none;\">\n",
              "\n",
              "<svg xmlns=\"http://www.w3.org/2000/svg\" height=\"24px\"viewBox=\"0 0 24 24\"\n",
              "     width=\"24px\">\n",
              "    <g>\n",
              "        <path d=\"M19 3H5c-1.1 0-2 .9-2 2v14c0 1.1.9 2 2 2h14c1.1 0 2-.9 2-2V5c0-1.1-.9-2-2-2zM9 17H7v-7h2v7zm4 0h-2V7h2v10zm4 0h-2v-4h2v4z\"/>\n",
              "    </g>\n",
              "</svg>\n",
              "  </button>\n",
              "\n",
              "<style>\n",
              "  .colab-df-quickchart {\n",
              "      --bg-color: #E8F0FE;\n",
              "      --fill-color: #1967D2;\n",
              "      --hover-bg-color: #E2EBFA;\n",
              "      --hover-fill-color: #174EA6;\n",
              "      --disabled-fill-color: #AAA;\n",
              "      --disabled-bg-color: #DDD;\n",
              "  }\n",
              "\n",
              "  [theme=dark] .colab-df-quickchart {\n",
              "      --bg-color: #3B4455;\n",
              "      --fill-color: #D2E3FC;\n",
              "      --hover-bg-color: #434B5C;\n",
              "      --hover-fill-color: #FFFFFF;\n",
              "      --disabled-bg-color: #3B4455;\n",
              "      --disabled-fill-color: #666;\n",
              "  }\n",
              "\n",
              "  .colab-df-quickchart {\n",
              "    background-color: var(--bg-color);\n",
              "    border: none;\n",
              "    border-radius: 50%;\n",
              "    cursor: pointer;\n",
              "    display: none;\n",
              "    fill: var(--fill-color);\n",
              "    height: 32px;\n",
              "    padding: 0;\n",
              "    width: 32px;\n",
              "  }\n",
              "\n",
              "  .colab-df-quickchart:hover {\n",
              "    background-color: var(--hover-bg-color);\n",
              "    box-shadow: 0 1px 2px rgba(60, 64, 67, 0.3), 0 1px 3px 1px rgba(60, 64, 67, 0.15);\n",
              "    fill: var(--button-hover-fill-color);\n",
              "  }\n",
              "\n",
              "  .colab-df-quickchart-complete:disabled,\n",
              "  .colab-df-quickchart-complete:disabled:hover {\n",
              "    background-color: var(--disabled-bg-color);\n",
              "    fill: var(--disabled-fill-color);\n",
              "    box-shadow: none;\n",
              "  }\n",
              "\n",
              "  .colab-df-spinner {\n",
              "    border: 2px solid var(--fill-color);\n",
              "    border-color: transparent;\n",
              "    border-bottom-color: var(--fill-color);\n",
              "    animation:\n",
              "      spin 1s steps(1) infinite;\n",
              "  }\n",
              "\n",
              "  @keyframes spin {\n",
              "    0% {\n",
              "      border-color: transparent;\n",
              "      border-bottom-color: var(--fill-color);\n",
              "      border-left-color: var(--fill-color);\n",
              "    }\n",
              "    20% {\n",
              "      border-color: transparent;\n",
              "      border-left-color: var(--fill-color);\n",
              "      border-top-color: var(--fill-color);\n",
              "    }\n",
              "    30% {\n",
              "      border-color: transparent;\n",
              "      border-left-color: var(--fill-color);\n",
              "      border-top-color: var(--fill-color);\n",
              "      border-right-color: var(--fill-color);\n",
              "    }\n",
              "    40% {\n",
              "      border-color: transparent;\n",
              "      border-right-color: var(--fill-color);\n",
              "      border-top-color: var(--fill-color);\n",
              "    }\n",
              "    60% {\n",
              "      border-color: transparent;\n",
              "      border-right-color: var(--fill-color);\n",
              "    }\n",
              "    80% {\n",
              "      border-color: transparent;\n",
              "      border-right-color: var(--fill-color);\n",
              "      border-bottom-color: var(--fill-color);\n",
              "    }\n",
              "    90% {\n",
              "      border-color: transparent;\n",
              "      border-bottom-color: var(--fill-color);\n",
              "    }\n",
              "  }\n",
              "</style>\n",
              "\n",
              "  <script>\n",
              "    async function quickchart(key) {\n",
              "      const quickchartButtonEl =\n",
              "        document.querySelector('#' + key + ' button');\n",
              "      quickchartButtonEl.disabled = true;  // To prevent multiple clicks.\n",
              "      quickchartButtonEl.classList.add('colab-df-spinner');\n",
              "      try {\n",
              "        const charts = await google.colab.kernel.invokeFunction(\n",
              "            'suggestCharts', [key], {});\n",
              "      } catch (error) {\n",
              "        console.error('Error during call to suggestCharts:', error);\n",
              "      }\n",
              "      quickchartButtonEl.classList.remove('colab-df-spinner');\n",
              "      quickchartButtonEl.classList.add('colab-df-quickchart-complete');\n",
              "    }\n",
              "    (() => {\n",
              "      let quickchartButtonEl =\n",
              "        document.querySelector('#df-6ccfeb9d-2a3f-4681-b7fc-bcf348103f8a button');\n",
              "      quickchartButtonEl.style.display =\n",
              "        google.colab.kernel.accessAllowed ? 'block' : 'none';\n",
              "    })();\n",
              "  </script>\n",
              "</div>\n",
              "\n",
              "    </div>\n",
              "  </div>\n"
            ],
            "application/vnd.google.colaboratory.intrinsic+json": {
              "type": "dataframe"
            }
          },
          "metadata": {},
          "execution_count": 7
        }
      ]
    },
    {
      "cell_type": "markdown",
      "source": [
        "Ditampilkan 5 baris teratas dan terbawah dari dataset. Dapat dilihat terdapat banyak nilai `'?'` yang tidak mewakili suatu nilai dalam dataset yang akan dibuatkan model prediksi."
      ],
      "metadata": {
        "id": "ksgudztNZHKL"
      }
    },
    {
      "cell_type": "markdown",
      "source": [
        "#### Memeriksa dan menghitung nilai NULL dalam dataset"
      ],
      "metadata": {
        "id": "emDHE_GkvcK6"
      }
    },
    {
      "cell_type": "code",
      "source": [
        "order.isnull().sum()"
      ],
      "metadata": {
        "colab": {
          "base_uri": "https://localhost:8080/",
          "height": 837
        },
        "id": "WEDo0n6tuFcD",
        "outputId": "08a381bb-9772-4752-f352-ba04b4ff46c8"
      },
      "execution_count": null,
      "outputs": [
        {
          "output_type": "execute_result",
          "data": {
            "text/plain": [
              "sessionNo          0\n",
              "startHour          0\n",
              "startWeekday       0\n",
              "duration           0\n",
              "cCount             0\n",
              "cMinPrice          0\n",
              "cMaxPrice          0\n",
              "cSumPrice          0\n",
              "bCount             0\n",
              "bMinPrice          0\n",
              "bMaxPrice          0\n",
              "bSumPrice          0\n",
              "bStep              0\n",
              "onlineStatus       0\n",
              "availability       0\n",
              "customerNo         0\n",
              "maxVal             0\n",
              "customerScore      0\n",
              "accountLifetime    0\n",
              "payments           0\n",
              "age                0\n",
              "address            0\n",
              "lastOrder          0\n",
              "order              0\n",
              "dtype: int64"
            ],
            "text/html": [
              "<div>\n",
              "<style scoped>\n",
              "    .dataframe tbody tr th:only-of-type {\n",
              "        vertical-align: middle;\n",
              "    }\n",
              "\n",
              "    .dataframe tbody tr th {\n",
              "        vertical-align: top;\n",
              "    }\n",
              "\n",
              "    .dataframe thead th {\n",
              "        text-align: right;\n",
              "    }\n",
              "</style>\n",
              "<table border=\"1\" class=\"dataframe\">\n",
              "  <thead>\n",
              "    <tr style=\"text-align: right;\">\n",
              "      <th></th>\n",
              "      <th>0</th>\n",
              "    </tr>\n",
              "  </thead>\n",
              "  <tbody>\n",
              "    <tr>\n",
              "      <th>sessionNo</th>\n",
              "      <td>0</td>\n",
              "    </tr>\n",
              "    <tr>\n",
              "      <th>startHour</th>\n",
              "      <td>0</td>\n",
              "    </tr>\n",
              "    <tr>\n",
              "      <th>startWeekday</th>\n",
              "      <td>0</td>\n",
              "    </tr>\n",
              "    <tr>\n",
              "      <th>duration</th>\n",
              "      <td>0</td>\n",
              "    </tr>\n",
              "    <tr>\n",
              "      <th>cCount</th>\n",
              "      <td>0</td>\n",
              "    </tr>\n",
              "    <tr>\n",
              "      <th>cMinPrice</th>\n",
              "      <td>0</td>\n",
              "    </tr>\n",
              "    <tr>\n",
              "      <th>cMaxPrice</th>\n",
              "      <td>0</td>\n",
              "    </tr>\n",
              "    <tr>\n",
              "      <th>cSumPrice</th>\n",
              "      <td>0</td>\n",
              "    </tr>\n",
              "    <tr>\n",
              "      <th>bCount</th>\n",
              "      <td>0</td>\n",
              "    </tr>\n",
              "    <tr>\n",
              "      <th>bMinPrice</th>\n",
              "      <td>0</td>\n",
              "    </tr>\n",
              "    <tr>\n",
              "      <th>bMaxPrice</th>\n",
              "      <td>0</td>\n",
              "    </tr>\n",
              "    <tr>\n",
              "      <th>bSumPrice</th>\n",
              "      <td>0</td>\n",
              "    </tr>\n",
              "    <tr>\n",
              "      <th>bStep</th>\n",
              "      <td>0</td>\n",
              "    </tr>\n",
              "    <tr>\n",
              "      <th>onlineStatus</th>\n",
              "      <td>0</td>\n",
              "    </tr>\n",
              "    <tr>\n",
              "      <th>availability</th>\n",
              "      <td>0</td>\n",
              "    </tr>\n",
              "    <tr>\n",
              "      <th>customerNo</th>\n",
              "      <td>0</td>\n",
              "    </tr>\n",
              "    <tr>\n",
              "      <th>maxVal</th>\n",
              "      <td>0</td>\n",
              "    </tr>\n",
              "    <tr>\n",
              "      <th>customerScore</th>\n",
              "      <td>0</td>\n",
              "    </tr>\n",
              "    <tr>\n",
              "      <th>accountLifetime</th>\n",
              "      <td>0</td>\n",
              "    </tr>\n",
              "    <tr>\n",
              "      <th>payments</th>\n",
              "      <td>0</td>\n",
              "    </tr>\n",
              "    <tr>\n",
              "      <th>age</th>\n",
              "      <td>0</td>\n",
              "    </tr>\n",
              "    <tr>\n",
              "      <th>address</th>\n",
              "      <td>0</td>\n",
              "    </tr>\n",
              "    <tr>\n",
              "      <th>lastOrder</th>\n",
              "      <td>0</td>\n",
              "    </tr>\n",
              "    <tr>\n",
              "      <th>order</th>\n",
              "      <td>0</td>\n",
              "    </tr>\n",
              "  </tbody>\n",
              "</table>\n",
              "</div><br><label><b>dtype:</b> int64</label>"
            ]
          },
          "metadata": {},
          "execution_count": 8
        }
      ]
    },
    {
      "cell_type": "markdown",
      "source": [
        "Setelah dilakukan pemeriksaan nilai NULL, dapat disimpulkan bahwa nilai NULL di dalam dataset tersebut diwakili oleh nilai `'?'`."
      ],
      "metadata": {
        "id": "BAsrLZE_ZeHg"
      }
    },
    {
      "cell_type": "markdown",
      "source": [
        "#### Memeriksa kategori-kategori pada beberapa atribut kategori"
      ],
      "metadata": {
        "id": "gdopUJKKaLWm"
      }
    },
    {
      "cell_type": "code",
      "source": [
        "# Memeriksa kategori pada atribut 'onlineStatus'\n",
        "order.onlineStatus.value_counts()"
      ],
      "metadata": {
        "id": "Uy9iJR-Yxp9a",
        "colab": {
          "base_uri": "https://localhost:8080/",
          "height": 210
        },
        "outputId": "135d6921-d172-49ed-c047-5d7d45374a88"
      },
      "execution_count": null,
      "outputs": [
        {
          "output_type": "execute_result",
          "data": {
            "text/plain": [
              "onlineStatus\n",
              "y    265625\n",
              "?    160379\n",
              "n      3009\n",
              "Name: count, dtype: int64"
            ],
            "text/html": [
              "<div>\n",
              "<style scoped>\n",
              "    .dataframe tbody tr th:only-of-type {\n",
              "        vertical-align: middle;\n",
              "    }\n",
              "\n",
              "    .dataframe tbody tr th {\n",
              "        vertical-align: top;\n",
              "    }\n",
              "\n",
              "    .dataframe thead th {\n",
              "        text-align: right;\n",
              "    }\n",
              "</style>\n",
              "<table border=\"1\" class=\"dataframe\">\n",
              "  <thead>\n",
              "    <tr style=\"text-align: right;\">\n",
              "      <th></th>\n",
              "      <th>count</th>\n",
              "    </tr>\n",
              "    <tr>\n",
              "      <th>onlineStatus</th>\n",
              "      <th></th>\n",
              "    </tr>\n",
              "  </thead>\n",
              "  <tbody>\n",
              "    <tr>\n",
              "      <th>y</th>\n",
              "      <td>265625</td>\n",
              "    </tr>\n",
              "    <tr>\n",
              "      <th>?</th>\n",
              "      <td>160379</td>\n",
              "    </tr>\n",
              "    <tr>\n",
              "      <th>n</th>\n",
              "      <td>3009</td>\n",
              "    </tr>\n",
              "  </tbody>\n",
              "</table>\n",
              "</div><br><label><b>dtype:</b> int64</label>"
            ]
          },
          "metadata": {},
          "execution_count": 23
        }
      ]
    },
    {
      "cell_type": "code",
      "source": [
        "# Memeriksa kategori pada atribut 'availability'\n",
        "order.availability.value_counts()"
      ],
      "metadata": {
        "id": "RUssBpClZ416",
        "colab": {
          "base_uri": "https://localhost:8080/",
          "height": 366
        },
        "outputId": "d88bfec5-ed61-4e6c-9ad6-5f6ca1f9fd35"
      },
      "execution_count": null,
      "outputs": [
        {
          "output_type": "execute_result",
          "data": {
            "text/plain": [
              "availability\n",
              "completely orderable           253692\n",
              "?                              165255\n",
              "mainly orderable                 5756\n",
              "completely not orderable         1491\n",
              "mixed                            1284\n",
              "completely not determinable      1017\n",
              "mainly not orderable              320\n",
              "mainly not determinable           198\n",
              "Name: count, dtype: int64"
            ],
            "text/html": [
              "<div>\n",
              "<style scoped>\n",
              "    .dataframe tbody tr th:only-of-type {\n",
              "        vertical-align: middle;\n",
              "    }\n",
              "\n",
              "    .dataframe tbody tr th {\n",
              "        vertical-align: top;\n",
              "    }\n",
              "\n",
              "    .dataframe thead th {\n",
              "        text-align: right;\n",
              "    }\n",
              "</style>\n",
              "<table border=\"1\" class=\"dataframe\">\n",
              "  <thead>\n",
              "    <tr style=\"text-align: right;\">\n",
              "      <th></th>\n",
              "      <th>count</th>\n",
              "    </tr>\n",
              "    <tr>\n",
              "      <th>availability</th>\n",
              "      <th></th>\n",
              "    </tr>\n",
              "  </thead>\n",
              "  <tbody>\n",
              "    <tr>\n",
              "      <th>completely orderable</th>\n",
              "      <td>253692</td>\n",
              "    </tr>\n",
              "    <tr>\n",
              "      <th>?</th>\n",
              "      <td>165255</td>\n",
              "    </tr>\n",
              "    <tr>\n",
              "      <th>mainly orderable</th>\n",
              "      <td>5756</td>\n",
              "    </tr>\n",
              "    <tr>\n",
              "      <th>completely not orderable</th>\n",
              "      <td>1491</td>\n",
              "    </tr>\n",
              "    <tr>\n",
              "      <th>mixed</th>\n",
              "      <td>1284</td>\n",
              "    </tr>\n",
              "    <tr>\n",
              "      <th>completely not determinable</th>\n",
              "      <td>1017</td>\n",
              "    </tr>\n",
              "    <tr>\n",
              "      <th>mainly not orderable</th>\n",
              "      <td>320</td>\n",
              "    </tr>\n",
              "    <tr>\n",
              "      <th>mainly not determinable</th>\n",
              "      <td>198</td>\n",
              "    </tr>\n",
              "  </tbody>\n",
              "</table>\n",
              "</div><br><label><b>dtype:</b> int64</label>"
            ]
          },
          "metadata": {},
          "execution_count": 21
        }
      ]
    },
    {
      "cell_type": "code",
      "source": [
        "# Memeriksa kategori pada atribut 'order'\n",
        "order.order.value_counts()"
      ],
      "metadata": {
        "id": "-nVQNRQHaCpw",
        "colab": {
          "base_uri": "https://localhost:8080/",
          "height": 178
        },
        "outputId": "5fd737da-7311-4a83-804e-83e5b7e70225"
      },
      "execution_count": null,
      "outputs": [
        {
          "output_type": "execute_result",
          "data": {
            "text/plain": [
              "order\n",
              "y    290030\n",
              "n    138983\n",
              "Name: count, dtype: int64"
            ],
            "text/html": [
              "<div>\n",
              "<style scoped>\n",
              "    .dataframe tbody tr th:only-of-type {\n",
              "        vertical-align: middle;\n",
              "    }\n",
              "\n",
              "    .dataframe tbody tr th {\n",
              "        vertical-align: top;\n",
              "    }\n",
              "\n",
              "    .dataframe thead th {\n",
              "        text-align: right;\n",
              "    }\n",
              "</style>\n",
              "<table border=\"1\" class=\"dataframe\">\n",
              "  <thead>\n",
              "    <tr style=\"text-align: right;\">\n",
              "      <th></th>\n",
              "      <th>count</th>\n",
              "    </tr>\n",
              "    <tr>\n",
              "      <th>order</th>\n",
              "      <th></th>\n",
              "    </tr>\n",
              "  </thead>\n",
              "  <tbody>\n",
              "    <tr>\n",
              "      <th>y</th>\n",
              "      <td>290030</td>\n",
              "    </tr>\n",
              "    <tr>\n",
              "      <th>n</th>\n",
              "      <td>138983</td>\n",
              "    </tr>\n",
              "  </tbody>\n",
              "</table>\n",
              "</div><br><label><b>dtype:</b> int64</label>"
            ]
          },
          "metadata": {},
          "execution_count": 22
        }
      ]
    },
    {
      "cell_type": "markdown",
      "source": [
        "|\n",
        "\n",
        "|\n",
        "\n",
        "|"
      ],
      "metadata": {
        "id": "S9f7f7f6oEgm"
      }
    },
    {
      "cell_type": "markdown",
      "source": [
        "## 2. **Pra-pemrosesan Data**"
      ],
      "metadata": {
        "id": "04CLgYWMnxr1"
      }
    },
    {
      "cell_type": "markdown",
      "source": [
        "#### Menangani nilai '?' dengan menggantinya dengan nilai NULL kemudian menghapus seluruh baris yang mengandung NULL"
      ],
      "metadata": {
        "id": "LFKDrqcz2Rs0"
      }
    },
    {
      "cell_type": "markdown",
      "source": [
        "Proses mengganti nilai `'?'` dengan NULL (NaN) dan menghapus baris yang mengandung NaN bertujuan untuk membersihkan data dari nilai yang tidak valid atau hilang. Nilai `'?'` sering kali mewakili data yang tidak diketahui, dan dengan mengubahnya menjadi NaN, data yang hilang dapat ditangani secara konsisten. Menghapus baris yang mengandung NaN memastikan data yang digunakan untuk analisis bebas dari gangguan nilai kosong, sehingga hasil analisis lebih akurat."
      ],
      "metadata": {
        "id": "FO0E-kbphxRS"
      }
    },
    {
      "cell_type": "code",
      "source": [
        "# Mengganti '?' dengan NaN\n",
        "order2 = order2.replace('?', np.nan)"
      ],
      "metadata": {
        "id": "jGY2jMHooMOS"
      },
      "execution_count": null,
      "outputs": []
    },
    {
      "cell_type": "markdown",
      "source": [
        "Kode ini mengganti semua nilai `'?'` di data order2 dengan NaN (Not a Number), yaitu penanda untuk nilai yang hilang atau kosong. Biasanya, simbol `'?'` dipakai untuk menunjukkan data yang tidak ada, sehingga perlu diganti dengan NaN agar lebih mudah diproses dalam tahap selanjutnya."
      ],
      "metadata": {
        "id": "dG__jJ-zh0sI"
      }
    },
    {
      "cell_type": "code",
      "source": [
        "# Menghapus baris yang mengandung NaN\n",
        "order2 = order2.dropna()"
      ],
      "metadata": {
        "id": "b48mUuyXz6xH"
      },
      "execution_count": null,
      "outputs": []
    },
    {
      "cell_type": "markdown",
      "source": [
        "Setelah nilai `'?'` diubah menjadi NaN, kode ini menghapus semua baris yang memiliki setidaknya satu NaN. Mengapa ini dilakukan? Karena data yang tidak lengkap dapat menyebabkan masalah atau ketidakakuratan dalam analisis. Dengan menghapus baris yang memiliki data kosong, maka data yang tersisa akan lebih bersih dan siap untuk dianalisis."
      ],
      "metadata": {
        "id": "W_UckKmGh2cm"
      }
    },
    {
      "cell_type": "code",
      "source": [
        "# Melihat informasi data setelah dihapus nilai NULL\n",
        "order2.info()"
      ],
      "metadata": {
        "colab": {
          "base_uri": "https://localhost:8080/"
        },
        "id": "8SEH5i9A0LBY",
        "outputId": "b60d0128-981c-4898-c67e-9b226c211f67"
      },
      "execution_count": null,
      "outputs": [
        {
          "output_type": "stream",
          "name": "stdout",
          "text": [
            "<class 'pandas.core.frame.DataFrame'>\n",
            "Index: 141163 entries, 1 to 428972\n",
            "Data columns (total 24 columns):\n",
            " #   Column           Non-Null Count   Dtype  \n",
            "---  ------           --------------   -----  \n",
            " 0   sessionNo        141163 non-null  int64  \n",
            " 1   startHour        141163 non-null  int64  \n",
            " 2   startWeekday     141163 non-null  int64  \n",
            " 3   duration         141163 non-null  float64\n",
            " 4   cCount           141163 non-null  int64  \n",
            " 5   cMinPrice        141163 non-null  object \n",
            " 6   cMaxPrice        141163 non-null  object \n",
            " 7   cSumPrice        141163 non-null  object \n",
            " 8   bCount           141163 non-null  int64  \n",
            " 9   bMinPrice        141163 non-null  object \n",
            " 10  bMaxPrice        141163 non-null  object \n",
            " 11  bSumPrice        141163 non-null  object \n",
            " 12  bStep            141163 non-null  object \n",
            " 13  onlineStatus     141163 non-null  object \n",
            " 14  availability     141163 non-null  object \n",
            " 15  customerNo       141163 non-null  object \n",
            " 16  maxVal           141163 non-null  object \n",
            " 17  customerScore    141163 non-null  object \n",
            " 18  accountLifetime  141163 non-null  object \n",
            " 19  payments         141163 non-null  object \n",
            " 20  age              141163 non-null  object \n",
            " 21  address          141163 non-null  object \n",
            " 22  lastOrder        141163 non-null  object \n",
            " 23  order            141163 non-null  object \n",
            "dtypes: float64(1), int64(5), object(18)\n",
            "memory usage: 26.9+ MB\n"
          ]
        }
      ]
    },
    {
      "cell_type": "markdown",
      "source": [
        "Langkah terakhir adalah memeriksa struktur data untuk memastikan tidak ada lagi nilai kosong dan data siap digunakan untuk analisis."
      ],
      "metadata": {
        "id": "UM5r9q2Ih5ii"
      }
    },
    {
      "cell_type": "markdown",
      "source": [
        "#### Menghapus beberapa kolom atribut"
      ],
      "metadata": {
        "id": "BsgUS81qac2_"
      }
    },
    {
      "cell_type": "code",
      "source": [
        "order2 = order2.drop(columns=['customerNo', 'startHour'])"
      ],
      "metadata": {
        "id": "nRm8MrLcP9Or"
      },
      "execution_count": null,
      "outputs": []
    },
    {
      "cell_type": "markdown",
      "source": [
        "#### Mengonversi atribut-atribut yang seharusnya nilai numerik"
      ],
      "metadata": {
        "id": "h0gIsScY2k70"
      }
    },
    {
      "cell_type": "markdown",
      "source": [
        "Mengonversi atribut yang seharusnya bernilai numerik memastikan kolom numerik memiliki tipe data yang sesuai, yaitu angka, bukan teks. Hal ini penting agar perhitungan, seperti mencari rata-rata atau total, dapat dilakukan dengan benar. Jika data masih dalam bentuk teks, perhitungan bisa menghasilkan kesalahan. Dengan melakukan konversi, kita memastikan bahwa seluruh proses analisis berjalan dengan akurat dan efektif."
      ],
      "metadata": {
        "id": "BNLG8vsgh_J2"
      }
    },
    {
      "cell_type": "code",
      "source": [
        "# Mengonversi kolom yang seharusnya numerik\n",
        "numerical_cols = ['cMinPrice', 'cMaxPrice', 'cSumPrice', 'bMinPrice', 'bMaxPrice',\n",
        "                  'bSumPrice', 'bStep', 'maxVal', 'customerScore', 'accountLifetime', 'payments', 'age', 'address', 'lastOrder']\n",
        "\n",
        "for col in numerical_cols:\n",
        "    order2[col] = pd.to_numeric(order2[col], errors='coerce')  # errors='coerce' mengubah nilai error menjadi NaN"
      ],
      "metadata": {
        "id": "9fN3xfuL2Jdc"
      },
      "execution_count": null,
      "outputs": []
    },
    {
      "cell_type": "markdown",
      "source": [
        "Bagian pertama kode ini membuat daftar nama-nama kolom yang seharusnya bernilai angka, seperti harga, skor pelanggan, atau umur. Namun, kolom-kolom ini mungkin masih berbentuk teks (string), sehingga perlu dikonversi ke bentuk angka supaya bisa digunakan dalam perhitungan.\n",
        "\n",
        "Pada langkah selanjutnya, kode melakukan perulangan (for) untuk mengonversi setiap kolom dalam daftar numerical_cols menjadi angka. Fungsi pd.to_numeric() digunakan untuk mengubah teks menjadi angka. Parameter errors='coerce' artinya jika ada nilai yang tidak bisa diubah menjadi angka (misalnya teks yang tidak valid), maka nilai tersebut akan otomatis diubah menjadi NaN."
      ],
      "metadata": {
        "id": "7EBtod5hiDZG"
      }
    },
    {
      "cell_type": "markdown",
      "source": [
        "#### Mengonversi nilai kategorikal menjadi nilai kategori"
      ],
      "metadata": {
        "id": "iNx0_p6r3LF8"
      }
    },
    {
      "cell_type": "markdown",
      "source": [
        "Mengonversi nilai kategorikal menjadi nilai kategori bertujuan untuk mengubah data seperti teks atau status menjadi tipe data kategori. Proses ini membuat data lebih efisien dalam penggunaan memori dan mempercepat pemrosesan, sehingga lebih mudah digunakan dalam analisis atau pemodelan."
      ],
      "metadata": {
        "id": "kVg2o6WniGDX"
      }
    },
    {
      "cell_type": "code",
      "source": [
        "# Mengonversi kolom kategorikal menjadi kategori\n",
        "# categorical_cols = ['onlineStatus', 'availability']\n",
        "# for col in categorical_cols:\n",
        "#     order2[col] = order2[col].astype('category')\n",
        "from sklearn.preprocessing import LabelEncoder\n",
        "\n",
        "# Mengonversi kolom kategorikal menggunakan Label Encoding\n",
        "categorical_cols = ['onlineStatus', 'availability']  # Kolom yang perlu dikonversi\n",
        "\n",
        "# Membuat objek LabelEncoder\n",
        "label_encoder = LabelEncoder()\n",
        "\n",
        "# Mengonversi setiap kolom kategorikal\n",
        "for col in categorical_cols:\n",
        "    order2[col] = label_encoder.fit_transform(order2[col])\n",
        "\n",
        "# Mengonversi kolom target 'order' menjadi numerikal (1 untuk 'y', 0 untuk 'n')\n",
        "order2['order'] = order2['order'].apply(lambda x: 1 if x == 'y' else 0)"
      ],
      "metadata": {
        "id": "QUfsW4Ln3U5D"
      },
      "execution_count": null,
      "outputs": []
    },
    {
      "cell_type": "markdown",
      "source": [
        "Kode di atas bertujuan untuk mengonversi beberapa kolom menjadi tipe data yang lebih sesuai. Pertama, kolom-kolom kategorikal seperti `onlineStatus` dan `availability` diubah menjadi tipe data kategori menggunakan `astype('category')`, yang membuat data lebih efisien dalam hal penggunaan memori dan pemrosesan. Kedua, kolom `order` yang berisi nilai teks ('y' dan 'n') diubah menjadi angka (1 untuk 'y' dan 0 untuk 'n') dengan menggunakan fungsi `apply()` dan `lambda`. Proses ini mempersiapkan data untuk analisis lebih lanjut atau pemodelan, di mana tipe data yang tepat sangat penting."
      ],
      "metadata": {
        "id": "jB2ndq6tiI-B"
      }
    },
    {
      "cell_type": "markdown",
      "source": [
        "#### Melakukan normalisasi dan standarisasi data"
      ],
      "metadata": {
        "id": "w06FI-9k3jH-"
      }
    },
    {
      "cell_type": "markdown",
      "source": [
        "Normalisasi dan standarisasi digunakan untuk menyamakan skala data agar analisis atau pemodelan lebih efektif. Normalisasi mengubah data ke rentang tertentu, seperti 0 hingga 1, sementara standarisasi membuat data memiliki rata-rata 0 dan deviasi standar 1. Kedua proses ini penting untuk memastikan variabel dengan skala berbeda tidak mempengaruhi hasil secara tidak seimbang."
      ],
      "metadata": {
        "id": "atvPQNb0iLWc"
      }
    },
    {
      "cell_type": "code",
      "source": [
        "# Membuat skala untuk kolom numerik\n",
        "scaler = StandardScaler()\n",
        "scaled_columns = ['startWeekday', 'duration', 'cCount', 'bCount'] + numerical_cols\n",
        "order2[scaled_columns] = scaler.fit_transform(order2[scaled_columns])"
      ],
      "metadata": {
        "id": "F9mnmRCN3qNq"
      },
      "execution_count": null,
      "outputs": []
    },
    {
      "cell_type": "markdown",
      "source": [
        "Kode di atas melakukan **standarisasi** pada kolom-kolom numerik dalam dataset menggunakan `StandardScaler` dari `sklearn`. Pertama, objek `scaler` dibuat dengan `StandardScaler()`, yang digunakan untuk mengubah data agar memiliki rata-rata 0 dan deviasi standar 1. Kemudian, kolom-kolom yang ingin distandarisasi, seperti `startHour`, `startWeekday`, `duration`, `cCount`, `bCount`, dan kolom numerik lainnya, dipilih dalam list `scaled_columns`. Terakhir, fungsi `fit_transform()` diterapkan pada kolom-kolom tersebut untuk menghitung rata-rata dan deviasi standar, lalu mentransformasikan data sehingga memiliki skala yang seragam. Proses ini penting agar algoritma dapat bekerja secara optimal tanpa dipengaruhi oleh variabel dengan skala yang berbeda."
      ],
      "metadata": {
        "id": "EXmCnEEJiMJw"
      }
    },
    {
      "cell_type": "code",
      "source": [
        "order2.info()"
      ],
      "metadata": {
        "colab": {
          "base_uri": "https://localhost:8080/"
        },
        "id": "0hLFMEjl4JDu",
        "outputId": "d8033420-7a21-4802-9c03-c05a6d83d546"
      },
      "execution_count": null,
      "outputs": [
        {
          "output_type": "stream",
          "name": "stdout",
          "text": [
            "<class 'pandas.core.frame.DataFrame'>\n",
            "Index: 141163 entries, 1 to 428972\n",
            "Data columns (total 22 columns):\n",
            " #   Column           Non-Null Count   Dtype  \n",
            "---  ------           --------------   -----  \n",
            " 0   sessionNo        141163 non-null  int64  \n",
            " 1   startWeekday     141163 non-null  float64\n",
            " 2   duration         141163 non-null  float64\n",
            " 3   cCount           141163 non-null  float64\n",
            " 4   cMinPrice        141163 non-null  float64\n",
            " 5   cMaxPrice        141163 non-null  float64\n",
            " 6   cSumPrice        141163 non-null  float64\n",
            " 7   bCount           141163 non-null  float64\n",
            " 8   bMinPrice        141163 non-null  float64\n",
            " 9   bMaxPrice        141163 non-null  float64\n",
            " 10  bSumPrice        141163 non-null  float64\n",
            " 11  bStep            141163 non-null  float64\n",
            " 12  onlineStatus     141163 non-null  int64  \n",
            " 13  availability     141163 non-null  int64  \n",
            " 14  maxVal           141163 non-null  float64\n",
            " 15  customerScore    141163 non-null  float64\n",
            " 16  accountLifetime  141163 non-null  float64\n",
            " 17  payments         141163 non-null  float64\n",
            " 18  age              141163 non-null  float64\n",
            " 19  address          141163 non-null  float64\n",
            " 20  lastOrder        141163 non-null  float64\n",
            " 21  order            141163 non-null  int64  \n",
            "dtypes: float64(18), int64(4)\n",
            "memory usage: 28.8 MB\n"
          ]
        }
      ]
    },
    {
      "cell_type": "markdown",
      "source": [
        "Kode `order2.info()` digunakan untuk menampilkan informasi umum tentang dataset `order2`, seperti jumlah baris, nama kolom, tipe data setiap kolom, serta jumlah nilai non-null pada tiap kolom. Fungsi ini membantu memeriksa integritas dan struktur data, serta memastikan tidak ada nilai yang hilang setelah proses pembersihan atau transformasi.\n",
        "\n",
        "Hasil dari `order2.info()` menunjukkan bahwa dataset `order2` memiliki 141.163 baris dan 24 kolom, dengan seluruh kolom berisi nilai non-null. Kolom-kolom numerik menggunakan tipe data `float64`, sementara kolom kategorikal seperti `onlineStatus` dan `availability` bertipe `category`, dan kolom teks seperti `customerNo` serta `address` bertipe `object`. Dataset ini tidak memiliki nilai yang hilang, siap untuk analisis lebih lanjut."
      ],
      "metadata": {
        "id": "oI35EJqbiRmO"
      }
    },
    {
      "cell_type": "markdown",
      "source": [
        "|\n",
        "\n",
        "|\n",
        "\n",
        "|"
      ],
      "metadata": {
        "id": "XW20ZPdYoO8d"
      }
    },
    {
      "cell_type": "markdown",
      "source": [
        "## 3. **Pelatihan Model**\n",
        "\n",
        "### Model yang akan dilatih :\n",
        "### 1. RandomForest\n",
        "### 2. XGboost"
      ],
      "metadata": {
        "id": "xM77Z0PUoQ8M"
      }
    },
    {
      "cell_type": "markdown",
      "source": [
        "#### Import Libraries yang diperlukan"
      ],
      "metadata": {
        "id": "KEBhziFk44nj"
      }
    },
    {
      "cell_type": "code",
      "source": [
        "from sklearn.model_selection import train_test_split\n",
        "from sklearn.ensemble import RandomForestClassifier\n",
        "from xgboost import XGBClassifier\n",
        "from sklearn.metrics import accuracy_score, classification_report, confusion_matrix"
      ],
      "metadata": {
        "id": "1giZ-sS7oj_a"
      },
      "execution_count": null,
      "outputs": []
    },
    {
      "cell_type": "markdown",
      "source": [
        "Kode di atas adalah bagian dari proses persiapan untuk melatih dan mengevaluasi model machine learning dengan menggunakan pustaka scikit-learn dan XGBoost.\n",
        "1. **`from sklearn.model_selection import train_test_split`**\n",
        "   - `train_test_split` adalah fungsi dari scikit-learn yang digunakan untuk membagi dataset menjadi dua bagian: data pelatihan (train set) dan data pengujian (test set).\n",
        "   - Fungsi ini sering digunakan untuk memisahkan dataset, misalnya dengan rasio 80:20 atau 70:30, sehingga model dapat dilatih menggunakan bagian data pelatihan dan kemudian diuji pada bagian data pengujian untuk mengevaluasi kinerjanya.\n",
        "\n",
        "2. **`from sklearn.ensemble import RandomForestClassifier`**\n",
        "   - `RandomForestClassifier` adalah kelas dari scikit-learn yang digunakan untuk membuat model klasifikasi dengan metode *Random Forest*.\n",
        "   - *Random Forest* adalah metode ensemble yang menggunakan banyak pohon keputusan (decision trees) untuk membuat prediksi. Setiap pohon memberikan prediksinya, dan hasil akhir diambil berdasarkan suara terbanyak dari pohon-pohon tersebut.\n",
        "\n",
        "3. **`from xgboost import XGBClassifier`**\n",
        "   - `XGBClassifier` adalah kelas dari pustaka XGBoost yang digunakan untuk membuat model klasifikasi menggunakan metode XGBoost (Extreme Gradient Boosting).\n",
        "   - XGBoost adalah metode boosting yang sangat efisien dan sering kali menghasilkan akurasi tinggi dengan memanfaatkan algoritma pohon keputusan yang dioptimalkan.\n",
        "\n",
        "4. **`from sklearn.metrics import accuracy_score, classification_report, confusion_matrix`**\n",
        "   - Ketiga fungsi ini berasal dari pustaka scikit-learn dan digunakan untuk mengevaluasi performa model setelah pelatihan:\n",
        "     - **`accuracy_score`**: Menghitung akurasi model, yaitu persentase prediksi yang benar dari total prediksi.\n",
        "     - **`classification_report`**: Menyediakan laporan yang lebih rinci tentang performa model, termasuk precision, recall, dan F1-score untuk masing-masing kelas dalam dataset.\n",
        "     - **`confusion_matrix`**: Menyajikan matriks kebingungan (confusion matrix) yang menunjukkan jumlah true positives, false positives, true negatives, dan false negatives untuk tiap kelas. Ini berguna untuk memahami distribusi kesalahan model."
      ],
      "metadata": {
        "id": "5oFJ7cdddecS"
      }
    },
    {
      "cell_type": "markdown",
      "source": [
        "#### Melakukan pemisahan fitur dan target dan Membagi dataset menjadi Data Train dan Data Test (dengan split 80% dan 20%)"
      ],
      "metadata": {
        "id": "2S_bzthj5D_F"
      }
    },
    {
      "cell_type": "markdown",
      "source": [
        "ini adalah bagian dari proses persiapan data sebelum membangun model machine learning. Pada tahap ini, dataset akan dipisahkan menjadi dua bagian: fitur (features) dan target (label). Setelah itu, data tersebut akan dibagi lagi menjadi data pelatihan dan data pengujian untuk memudahkan proses pelatihan model dan evaluasi."
      ],
      "metadata": {
        "id": "pd3vppxpfw96"
      }
    },
    {
      "cell_type": "code",
      "source": [
        "# Memisahkan fitur dan target\n",
        "X = order2.drop('order', axis=1)  # Menghapus kolom target 'order' dari fitur\n",
        "y = order2['order']               # Menyimpan kolom target 'order'\n",
        "\n",
        "# Membagi dataset menjadi set pelatihan dan pengujian (80-20 split)\n",
        "X_train, X_test, y_train, y_test = train_test_split(X, y, test_size=0.2, random_state=42)"
      ],
      "metadata": {
        "id": "RcSLi_5p5J_h"
      },
      "execution_count": null,
      "outputs": []
    },
    {
      "cell_type": "markdown",
      "source": [
        "Kode ini adalah bagian dari persiapan data untuk melatih model machine learning. Berikut penjelasan rinci tiap barisnya:\n",
        "\n",
        "1. **`X = order2.drop('order', axis=1)`**\n",
        "   - Kode ini memisahkan fitur (variabel independen) dari dataset `order2`.\n",
        "   - `order2.drop('order', axis=1)` berarti menghapus kolom yang bernama `'order'` dari `order2`.\n",
        "   - Hasilnya, variabel `X` akan berisi semua kolom kecuali kolom `'order'`. Ini adalah bagian dari dataset yang berfungsi sebagai input fitur untuk melatih model.\n",
        "\n",
        "2. **`y = order2['order']`**\n",
        "   - Di sini, variabel `y` didefinisikan untuk menyimpan kolom target (variabel dependen), yaitu `'order'`. Ini berarti `y` hanya akan berisi nilai dari kolom `'order'`, yang merupakan target yang ingin diprediksi oleh model.\n",
        "   - Dengan kata lain, `X` berisi fitur atau variabel yang digunakan untuk memprediksi, sedangkan `y` berisi hasil atau label yang ingin diprediksi.\n",
        "\n",
        "3. **`X_train, X_test, y_train, y_test = train_test_split(X, y, test_size=0.2, random_state=42)`**\n",
        "   - Fungsi `train_test_split` digunakan untuk membagi dataset menjadi dua bagian: data pelatihan dan data pengujian.\n",
        "   - Parameter `X` dan `y` adalah input dan target yang ingin dibagi.\n",
        "   - `test_size=0.2` menunjukkan bahwa 20% dari data akan digunakan sebagai data pengujian (`X_test` dan `y_test`), dan sisanya (80%) akan digunakan sebagai data pelatihan (`X_train` dan `y_train`).\n",
        "   - `random_state=42` adalah nilai acak yang ditetapkan untuk memastikan bahwa pembagian data selalu konsisten setiap kali kode ini dijalankan."
      ],
      "metadata": {
        "id": "1MsG95AXeBcF"
      }
    },
    {
      "cell_type": "markdown",
      "source": [
        "#### Model RandomForest"
      ],
      "metadata": {
        "id": "dlIyzgJo5Nlj"
      }
    },
    {
      "cell_type": "markdown",
      "source": [
        "Pada tahap ini, kita akan membangun dan melatih model Random Forest untuk memprediksi target berdasarkan fitur yang ada dalam dataset. Random Forest adalah algoritma ensemble yang terdiri dari banyak pohon keputusan yang dilatih secara independen, kemudian hasil prediksinya digabungkan untuk menghasilkan prediksi akhir yang lebih akurat. Keuntungan utama dari Random Forest adalah kemampuannya untuk menangani dataset besar dengan baik, serta mengurangi overfitting yang sering terjadi pada model pohon keputusan tunggal. Model ini dilatih menggunakan data pelatihan dan kemudian dievaluasi menggunakan data pengujian, untuk mengukur akurasi, serta untuk menghasilkan laporan klasifikasi dan matriks kebingungannya."
      ],
      "metadata": {
        "id": "Q3trKTDSgDkP"
      }
    },
    {
      "cell_type": "code",
      "source": [
        "# Model Random Forest\n",
        "rf_model = RandomForestClassifier(random_state=42)\n",
        "rf_model.fit(X_train, y_train)\n",
        "\n",
        "# Memprediksi dan mengevaluasi model Random Forest\n",
        "y_pred_rf = rf_model.predict(X_test)\n",
        "print(\"Random Forest Classifier Results\")\n",
        "print(\"Accuracy:\", accuracy_score(y_test, y_pred_rf))\n",
        "print(\"Classification Report:\\n\", classification_report(y_test, y_pred_rf))\n",
        "print(\"Confusion Matrix:\\n\", confusion_matrix(y_test, y_pred_rf))"
      ],
      "metadata": {
        "id": "HxdLTZ-d6HxA",
        "colab": {
          "base_uri": "https://localhost:8080/"
        },
        "outputId": "e4fb0367-4c8f-4743-e941-76362c21d043"
      },
      "execution_count": null,
      "outputs": [
        {
          "output_type": "stream",
          "name": "stdout",
          "text": [
            "Random Forest Classifier Results\n",
            "Accuracy: 0.9693620940034711\n",
            "Classification Report:\n",
            "               precision    recall  f1-score   support\n",
            "\n",
            "           0       0.99      0.84      0.91      5259\n",
            "           1       0.96      1.00      0.98     22974\n",
            "\n",
            "    accuracy                           0.97     28233\n",
            "   macro avg       0.98      0.92      0.95     28233\n",
            "weighted avg       0.97      0.97      0.97     28233\n",
            "\n",
            "Confusion Matrix:\n",
            " [[ 4421   838]\n",
            " [   27 22947]]\n"
          ]
        }
      ]
    },
    {
      "cell_type": "markdown",
      "source": [
        "Kode ini menunjukkan proses pelatihan, prediksi, dan evaluasi model *Random Forest* untuk klasifikasi.\n",
        "\n",
        "1. **`rf_model = RandomForestClassifier(random_state=42)`**\n",
        "   - Membuat instance model *Random Forest* dari kelas `RandomForestClassifier`.\n",
        "   - `random_state=42` digunakan untuk menetapkan seed acak agar hasilnya konsisten setiap kali kode dijalankan.\n",
        "   - *Random Forest* adalah algoritma ensemble yang menggunakan banyak pohon keputusan untuk meningkatkan akurasi prediksi.\n",
        "\n",
        "2. **`rf_model.fit(X_train, y_train)`**\n",
        "   - Melatih model `rf_model` menggunakan data pelatihan `X_train` (fitur) dan `y_train` (target).\n",
        "   - Metode `fit` menyesuaikan model dengan pola dalam data pelatihan sehingga model dapat memprediksi kelas target.\n",
        "\n",
        "3. **`y_pred_rf = rf_model.predict(X_test)`**\n",
        "   - Menggunakan model yang sudah dilatih untuk memprediksi kelas target dari data pengujian `X_test`.\n",
        "   - Hasil prediksi disimpan dalam variabel `y_pred_rf`.\n",
        "\n",
        "4. **`print(\"Random Forest Classifier Results\")`**\n",
        "   - Mencetak teks \"Random Forest Classifier Results\" sebagai penanda bagian evaluasi hasil model.\n",
        "\n",
        "5. **`print(\"Accuracy:\", accuracy_score(y_test, y_pred_rf))`**\n",
        "   - Menghitung dan mencetak akurasi model dengan menggunakan `accuracy_score`.\n",
        "   - `accuracy_score(y_test, y_pred_rf)` membandingkan hasil prediksi `y_pred_rf` dengan label sebenarnya `y_test` untuk menghitung persentase prediksi yang benar.\n",
        "\n",
        "6. **`print(\"Classification Report:\\n\", classification_report(y_test, y_pred_rf))`**\n",
        "   - Mencetak laporan klasifikasi (`classification_report`) yang berisi beberapa metrik evaluasi:\n",
        "     - **Precision**: Mengukur seberapa tepat model dalam memprediksi kelas tertentu.\n",
        "     - **Recall**: Mengukur seberapa baik model dalam menemukan semua contoh dari suatu kelas.\n",
        "     - **F1-Score**: Rata-rata harmonis dari precision dan recall, yang menunjukkan keseimbangan performa model.\n",
        "   - Hasil laporan ini memberikan gambaran kinerja model untuk setiap kelas dalam data.\n",
        "\n",
        "7. **`print(\"Confusion Matrix:\\n\", confusion_matrix(y_test, y_pred_rf))`**\n",
        "   - Mencetak matriks kebingungan (*confusion matrix*), yang menunjukkan jumlah prediksi benar dan salah dalam format tabel untuk tiap kelas.\n",
        "   - Matriks ini membantu memahami distribusi kesalahan prediksi model:\n",
        "     - **True Positives (TP)**: Prediksi benar untuk kelas positif.\n",
        "     - **False Positives (FP)**: Prediksi salah untuk kelas positif.\n",
        "     - **True Negatives (TN)**: Prediksi benar untuk kelas negatif.\n",
        "     - **False Negatives (FN)**: Prediksi salah untuk kelas negatif.\n"
      ],
      "metadata": {
        "id": "r_JnCtkAeKvH"
      }
    },
    {
      "cell_type": "markdown",
      "source": [
        "Accuracy: Model Random Forest memiliki akurasi yang sangat baik yaitu 96.94%, yang menunjukkan bahwa model ini cukup efektif dalam memprediksi kedua kelas.\n",
        "\n",
        "Precision, Recall, dan F1-Score:\n",
        "Precision (kelas 0): 0.99, yang menunjukkan bahwa model cukup tepat dalam memprediksi kelas 0, meskipun masih ada beberapa kesalahan.\n",
        "\n",
        "Recall (kelas 0): 0.84, menunjukkan bahwa model kehilangan beberapa instance dari kelas 0.\n",
        "\n",
        "Recall (kelas 1): 1.00, yang sangat baik, menunjukkan bahwa model hampir tidak ada yang salah dalam memprediksi kelas 1.\n",
        "\n",
        "F1-Score (kelas 1): 0.98, yang tinggi dan menunjukkan performa yang sangat baik dalam prediksi kelas 1.\n",
        "\n",
        "Confusion Matrix: Model mengalami false positive sebanyak 838 untuk kelas 0 dan false negatives sebanyak 27 untuk kelas 1, yang menunjukkan kesalahan yang sangat sedikit untuk kelas 1."
      ],
      "metadata": {
        "id": "BsGaeiA_SMEZ"
      }
    },
    {
      "cell_type": "markdown",
      "source": [
        "#### Model XGboost"
      ],
      "metadata": {
        "id": "idUq8p3O6tzk"
      }
    },
    {
      "cell_type": "markdown",
      "source": [
        "Pada tahap ini, kita akan membangun dan melatih model XGBoost untuk memprediksi target berdasarkan fitur yang ada dalam dataset. XGBoost adalah algoritma gradient boosting yang sangat efisien. Algoritma ini bekerja dengan membangun model-model pohon keputusan secara berurutan, di mana setiap pohon baru berusaha memperbaiki kesalahan dari pohon sebelumnya. Langkah pertama adalah melatih model menggunakan data pelatihan, kemudian melakukan prediksi pada data pengujian untuk mengevaluasi kinerjanya. Evaluasi ini mencakup pengukuran akurasi, laporan klasifikasi, dan analisis kesalahan dengan menggunakan matriks kebingungannya."
      ],
      "metadata": {
        "id": "1U5M7yLBgs5F"
      }
    },
    {
      "cell_type": "code",
      "source": [
        "# Model XGBoost\n",
        "xgb_model = XGBClassifier(use_label_encoder=False, eval_metric='logloss', random_state=42)\n",
        "xgb_model.fit(X_train, y_train)\n",
        "\n",
        "# Memprediksi dan mengevaluasi model XGBoost\n",
        "y_pred_xgb = xgb_model.predict(X_test)\n",
        "print(\"\\nXGBoost Classifier Results\")\n",
        "print(\"Accuracy:\", accuracy_score(y_test, y_pred_xgb))\n",
        "print(\"Classification Report:\\n\", classification_report(y_test, y_pred_xgb))\n",
        "print(\"Confusion Matrix:\\n\", confusion_matrix(y_test, y_pred_xgb))"
      ],
      "metadata": {
        "id": "uI-EWV9H6yAA",
        "colab": {
          "base_uri": "https://localhost:8080/"
        },
        "outputId": "302cacc3-035f-4053-ebe3-4dc68b55c3ea"
      },
      "execution_count": null,
      "outputs": [
        {
          "output_type": "stream",
          "name": "stderr",
          "text": [
            "/usr/local/lib/python3.10/dist-packages/xgboost/core.py:158: UserWarning: [10:57:02] WARNING: /workspace/src/learner.cc:740: \n",
            "Parameters: { \"use_label_encoder\" } are not used.\n",
            "\n",
            "  warnings.warn(smsg, UserWarning)\n"
          ]
        },
        {
          "output_type": "stream",
          "name": "stdout",
          "text": [
            "\n",
            "XGBoost Classifier Results\n",
            "Accuracy: 0.9031629653242659\n",
            "Classification Report:\n",
            "               precision    recall  f1-score   support\n",
            "\n",
            "           0       0.95      0.51      0.66      5259\n",
            "           1       0.90      0.99      0.94     22974\n",
            "\n",
            "    accuracy                           0.90     28233\n",
            "   macro avg       0.92      0.75      0.80     28233\n",
            "weighted avg       0.91      0.90      0.89     28233\n",
            "\n",
            "Confusion Matrix:\n",
            " [[ 2666  2593]\n",
            " [  141 22833]]\n"
          ]
        }
      ]
    },
    {
      "cell_type": "markdown",
      "source": [
        "Kode ini menunjukkan proses pelatihan, prediksi, dan evaluasi model *XGBoost* untuk klasifikasi.\n",
        "\n",
        "1. **`xgb_model = XGBClassifier(use_label_encoder=False, eval_metric='logloss', random_state=42)`**\n",
        "   - Membuat instance model XGBoost dari kelas `XGBClassifier`.\n",
        "   - `use_label_encoder=False` menghindari penggunaan label encoder yang lama (untuk menghindari peringatan).\n",
        "   - `eval_metric='logloss'` menentukan metrik evaluasi yang digunakan selama pelatihan, dalam hal ini `logloss` (logarithmic loss), yang umum digunakan dalam klasifikasi biner.\n",
        "   - `random_state=42` menetapkan seed acak untuk memastikan hasil yang konsisten setiap kali kode ini dijalankan.\n",
        "   - *XGBoost* (Extreme Gradient Boosting) adalah algoritma boosting yang menggunakan pohon keputusan yang dioptimalkan untuk meningkatkan akurasi prediksi.\n",
        "\n",
        "2. **`xgb_model.fit(X_train, y_train)`**\n",
        "   - Melatih model `xgb_model` menggunakan data pelatihan `X_train` (fitur) dan `y_train` (target).\n",
        "   - Metode `fit` menyesuaikan model dengan pola dalam data pelatihan sehingga model bisa memprediksi kelas target.\n",
        "\n",
        "3. **`y_pred_xgb = xgb_model.predict(X_test)`**\n",
        "   - Menggunakan model yang sudah dilatih untuk memprediksi kelas target dari data pengujian `X_test`.\n",
        "   - Hasil prediksi disimpan dalam variabel `y_pred_xgb`.\n",
        "\n",
        "4. **`print(\"\\nXGBoost Classifier Results\")`**\n",
        "   - Mencetak teks \"XGBoost Classifier Results\" untuk menandai bagian hasil evaluasi model XGBoost.\n",
        "\n",
        "5. **`print(\"Accuracy:\", accuracy_score(y_test, y_pred_xgb))`**\n",
        "   - Menghitung dan mencetak akurasi model dengan menggunakan `accuracy_score`.\n",
        "   - `accuracy_score(y_test, y_pred_xgb)` menghitung persentase prediksi benar dengan membandingkan hasil prediksi `y_pred_xgb` dengan label yang sebenarnya `y_test`.\n",
        "\n",
        "6. **`print(\"Classification Report:\\n\", classification_report(y_test, y_pred_xgb))`**\n",
        "   - Mencetak laporan klasifikasi (`classification_report`) yang memberikan metrik evaluasi berikut:\n",
        "     - **Precision**: Ketepatan model dalam memprediksi kelas tertentu.\n",
        "     - **Recall**: Kemampuan model untuk menemukan semua contoh dari kelas tertentu.\n",
        "     - **F1-Score**: Rata-rata harmonis dari precision dan recall, menunjukkan keseimbangan performa model.\n",
        "   - Laporan ini memberikan gambaran kinerja model untuk setiap kelas.\n",
        "\n",
        "7. **`print(\"Confusion Matrix:\\n\", confusion_matrix(y_test, y_pred_xgb))`**\n",
        "   - Mencetak matriks kebingungan (confusion matrix), yang menunjukkan jumlah prediksi benar dan salah dalam format tabel untuk setiap kelas.\n",
        "   - Matriks ini membantu melihat distribusi kesalahan prediksi model:\n",
        "     - **True Positives (TP)**: Prediksi benar untuk kelas positif.\n",
        "     - **False Positives (FP)**: Prediksi salah untuk kelas positif.\n",
        "     - **True Negatives (TN)**: Prediksi benar untuk kelas negatif.\n",
        "     - **False Negatives (FN)**: Prediksi salah untuk kelas negatif."
      ],
      "metadata": {
        "id": "WzAm_YFAeeQz"
      }
    },
    {
      "cell_type": "markdown",
      "source": [
        "Accuracy: XGBoost memiliki akurasi yang lebih rendah yaitu 90.32%, lebih rendah dibandingkan Random Forest.\n",
        "\n",
        "Precision, Recall, dan F1-Score:\n",
        "Precision (kelas 0): 0.95, menunjukkan model XGBoost cukup baik dalam memprediksi kelas 0, namun masih ada kesalahan (lebih rendah dari Random Forest).\n",
        "\n",
        "Recall (kelas 0): 0.51, ini menunjukkan model XGBoost seringkali gagal untuk mengidentifikasi kelas 0, yang menyebabkan banyak false negatives.\n",
        "\n",
        "Recall (kelas 1): 0.99, menunjukkan performa yang sangat baik untuk memprediksi kelas 1.\n",
        "\n",
        "F1-Score (kelas 1): 0.94, meskipun akurasi globalnya lebih rendah, namun F1-Score untuk kelas 1 cukup bagus, menunjukkan keseimbangan yang baik antara precision dan recall.\n",
        "\n",
        "Confusion Matrix: Model ini mengalami banyak false positives untuk kelas 0 (2593) dan beberapa false negatives untuk kelas 1 (141)."
      ],
      "metadata": {
        "id": "1pMGPiwmSUF4"
      }
    },
    {
      "cell_type": "markdown",
      "source": [
        "|\n",
        "\n",
        "|\n",
        "\n",
        "|"
      ],
      "metadata": {
        "id": "Qz0bnaB_okwi"
      }
    },
    {
      "cell_type": "markdown",
      "source": [
        "## 4. **Evaluasi dan Tuning Model**"
      ],
      "metadata": {
        "id": "nfN1VvD9omoT"
      }
    },
    {
      "cell_type": "markdown",
      "source": [
        "#### Hyperparameter Tuning"
      ],
      "metadata": {
        "id": "H03d0EgYSggm"
      }
    },
    {
      "cell_type": "markdown",
      "source": [
        "Hyperparameter tuning adalah proses untuk mencari kombinasi parameter terbaik agar model dapat memberikan hasil yang optimal. Biasanya, teknik seperti GridSearchCV digunakan untuk mencoba berbagai kombinasi parameter, dengan tujuan meningkatkan performa model. Dalam tuning, kita bisa mengatur parameter seperti learning rate, n_estimators, dan sebagainya."
      ],
      "metadata": {
        "id": "_agEashnevMP"
      }
    },
    {
      "cell_type": "markdown",
      "source": [
        "\n",
        "Namun, kita tidak melakukan tuning karena akurasi model yang sudah cukup baik tanpa tuning. Jika tuning dilakukan secara berlebihan, model bisa mengalami overfitting, yaitu model terlalu menyesuaikan diri dengan data latih dan tidak dapat menghasilkan prediksi yang baik pada data baru. Dengan demikian, untuk menghindari overfitting, kita memutuskan untuk menggunakan model yang sudah ada, karena performanya sudah cukup memadai tanpa perlu penyesuaian parameter lebih lanjut."
      ],
      "metadata": {
        "id": "zAXwdpHPfMEQ"
      }
    },
    {
      "cell_type": "markdown",
      "source": [
        "|\n",
        "\n",
        "|\n",
        "\n",
        "|"
      ],
      "metadata": {
        "id": "Iedau5XoouMm"
      }
    },
    {
      "cell_type": "markdown",
      "source": [
        "## 5. **Prediksi dan Evaluasi Akhir**"
      ],
      "metadata": {
        "id": "CdgUkxXwowDu"
      }
    },
    {
      "cell_type": "markdown",
      "source": [
        "Berdasarkan hasil prediksi yang ditampilkan dari 20 sampel data, model menunjukkan performa yang sangat mengesankan dengan tingkat akurasi yang sempurna. Setiap prediksi yang dihasilkan oleh model tepat sesuai dengan nilai sebenarnya, baik untuk kelas 0 maupun kelas 1. Hal ini mengindikasikan bahwa model memiliki kemampuan yang sangat baik dalam mengklasifikasikan data.\n",
        "\n",
        "Beberapa temuan penting dari analisis:\n",
        "* Model berhasil memprediksi dengan akurat 100% dari sampel yang ditunjukkan\n",
        "* Terdapat 15 data dengan kelas 1 (75%) dan 5 data dengan kelas 0 (25%)\n",
        "* Tidak ditemukan kesalahan prediksi (false positive atau false negative)\n",
        "\n",
        "Dalam analisis distribusi data, terlihat adanya ketidakseimbangan kelas (class imbalance) yang cukup signifikan. Kelas 1 mendominasi dengan proporsi 75% dari total sampel, sementara kelas 0 hanya mewakili 25% sampel. Meskipun demikian, model tetap mampu memberikan prediksi yang akurat untuk kedua kelas, menunjukkan kemampuannya dalam menangani data yang tidak seimbang.\n",
        "\n",
        "Aspek performa yang menonjol:\n",
        "* Konsistensi prediksi yang tinggi\n",
        "* Kemampuan membedakan kedua kelas dengan baik\n",
        "* Reliabilitas dalam mengklasifikasikan data"
      ],
      "metadata": {
        "id": "nWeO5Mo6fVQl"
      }
    },
    {
      "cell_type": "code",
      "source": [
        "# Menampilkan hasil prediksi pertama\n",
        "predicted_data = pd.DataFrame({\n",
        "    'True Values': y_test,\n",
        "    'Predicted Values': y_pred_rf\n",
        "})\n",
        "\n",
        "# Menampilkan beberapa contoh hasil prediksi\n",
        "print(\"\\nSample Prediction Results:\")\n",
        "predicted_data.head(20)"
      ],
      "metadata": {
        "id": "9pg6iOtWo2Oz",
        "colab": {
          "base_uri": "https://localhost:8080/",
          "height": 711
        },
        "outputId": "9c490efe-3da1-4c3e-c4ff-d8ae59098740"
      },
      "execution_count": null,
      "outputs": [
        {
          "output_type": "stream",
          "name": "stdout",
          "text": [
            "\n",
            "Sample Prediction Results:\n"
          ]
        },
        {
          "output_type": "execute_result",
          "data": {
            "text/plain": [
              "        True Values  Predicted Values\n",
              "134891            1                 1\n",
              "290487            0                 0\n",
              "129398            1                 1\n",
              "134654            1                 1\n",
              "93286             1                 1\n",
              "174768            1                 1\n",
              "280079            1                 1\n",
              "202965            1                 1\n",
              "79311             1                 1\n",
              "174212            0                 0\n",
              "47341             1                 1\n",
              "331265            0                 0\n",
              "199062            1                 1\n",
              "195348            1                 1\n",
              "43965             0                 0\n",
              "92543             1                 1\n",
              "144158            1                 1\n",
              "68546             1                 1\n",
              "41541             1                 1\n",
              "28268             0                 0"
            ],
            "text/html": [
              "\n",
              "  <div id=\"df-a49303f4-da26-41a0-9244-3d7c9a80c38d\" class=\"colab-df-container\">\n",
              "    <div>\n",
              "<style scoped>\n",
              "    .dataframe tbody tr th:only-of-type {\n",
              "        vertical-align: middle;\n",
              "    }\n",
              "\n",
              "    .dataframe tbody tr th {\n",
              "        vertical-align: top;\n",
              "    }\n",
              "\n",
              "    .dataframe thead th {\n",
              "        text-align: right;\n",
              "    }\n",
              "</style>\n",
              "<table border=\"1\" class=\"dataframe\">\n",
              "  <thead>\n",
              "    <tr style=\"text-align: right;\">\n",
              "      <th></th>\n",
              "      <th>True Values</th>\n",
              "      <th>Predicted Values</th>\n",
              "    </tr>\n",
              "  </thead>\n",
              "  <tbody>\n",
              "    <tr>\n",
              "      <th>134891</th>\n",
              "      <td>1</td>\n",
              "      <td>1</td>\n",
              "    </tr>\n",
              "    <tr>\n",
              "      <th>290487</th>\n",
              "      <td>0</td>\n",
              "      <td>0</td>\n",
              "    </tr>\n",
              "    <tr>\n",
              "      <th>129398</th>\n",
              "      <td>1</td>\n",
              "      <td>1</td>\n",
              "    </tr>\n",
              "    <tr>\n",
              "      <th>134654</th>\n",
              "      <td>1</td>\n",
              "      <td>1</td>\n",
              "    </tr>\n",
              "    <tr>\n",
              "      <th>93286</th>\n",
              "      <td>1</td>\n",
              "      <td>1</td>\n",
              "    </tr>\n",
              "    <tr>\n",
              "      <th>174768</th>\n",
              "      <td>1</td>\n",
              "      <td>1</td>\n",
              "    </tr>\n",
              "    <tr>\n",
              "      <th>280079</th>\n",
              "      <td>1</td>\n",
              "      <td>1</td>\n",
              "    </tr>\n",
              "    <tr>\n",
              "      <th>202965</th>\n",
              "      <td>1</td>\n",
              "      <td>1</td>\n",
              "    </tr>\n",
              "    <tr>\n",
              "      <th>79311</th>\n",
              "      <td>1</td>\n",
              "      <td>1</td>\n",
              "    </tr>\n",
              "    <tr>\n",
              "      <th>174212</th>\n",
              "      <td>0</td>\n",
              "      <td>0</td>\n",
              "    </tr>\n",
              "    <tr>\n",
              "      <th>47341</th>\n",
              "      <td>1</td>\n",
              "      <td>1</td>\n",
              "    </tr>\n",
              "    <tr>\n",
              "      <th>331265</th>\n",
              "      <td>0</td>\n",
              "      <td>0</td>\n",
              "    </tr>\n",
              "    <tr>\n",
              "      <th>199062</th>\n",
              "      <td>1</td>\n",
              "      <td>1</td>\n",
              "    </tr>\n",
              "    <tr>\n",
              "      <th>195348</th>\n",
              "      <td>1</td>\n",
              "      <td>1</td>\n",
              "    </tr>\n",
              "    <tr>\n",
              "      <th>43965</th>\n",
              "      <td>0</td>\n",
              "      <td>0</td>\n",
              "    </tr>\n",
              "    <tr>\n",
              "      <th>92543</th>\n",
              "      <td>1</td>\n",
              "      <td>1</td>\n",
              "    </tr>\n",
              "    <tr>\n",
              "      <th>144158</th>\n",
              "      <td>1</td>\n",
              "      <td>1</td>\n",
              "    </tr>\n",
              "    <tr>\n",
              "      <th>68546</th>\n",
              "      <td>1</td>\n",
              "      <td>1</td>\n",
              "    </tr>\n",
              "    <tr>\n",
              "      <th>41541</th>\n",
              "      <td>1</td>\n",
              "      <td>1</td>\n",
              "    </tr>\n",
              "    <tr>\n",
              "      <th>28268</th>\n",
              "      <td>0</td>\n",
              "      <td>0</td>\n",
              "    </tr>\n",
              "  </tbody>\n",
              "</table>\n",
              "</div>\n",
              "    <div class=\"colab-df-buttons\">\n",
              "\n",
              "  <div class=\"colab-df-container\">\n",
              "    <button class=\"colab-df-convert\" onclick=\"convertToInteractive('df-a49303f4-da26-41a0-9244-3d7c9a80c38d')\"\n",
              "            title=\"Convert this dataframe to an interactive table.\"\n",
              "            style=\"display:none;\">\n",
              "\n",
              "  <svg xmlns=\"http://www.w3.org/2000/svg\" height=\"24px\" viewBox=\"0 -960 960 960\">\n",
              "    <path d=\"M120-120v-720h720v720H120Zm60-500h600v-160H180v160Zm220 220h160v-160H400v160Zm0 220h160v-160H400v160ZM180-400h160v-160H180v160Zm440 0h160v-160H620v160ZM180-180h160v-160H180v160Zm440 0h160v-160H620v160Z\"/>\n",
              "  </svg>\n",
              "    </button>\n",
              "\n",
              "  <style>\n",
              "    .colab-df-container {\n",
              "      display:flex;\n",
              "      gap: 12px;\n",
              "    }\n",
              "\n",
              "    .colab-df-convert {\n",
              "      background-color: #E8F0FE;\n",
              "      border: none;\n",
              "      border-radius: 50%;\n",
              "      cursor: pointer;\n",
              "      display: none;\n",
              "      fill: #1967D2;\n",
              "      height: 32px;\n",
              "      padding: 0 0 0 0;\n",
              "      width: 32px;\n",
              "    }\n",
              "\n",
              "    .colab-df-convert:hover {\n",
              "      background-color: #E2EBFA;\n",
              "      box-shadow: 0px 1px 2px rgba(60, 64, 67, 0.3), 0px 1px 3px 1px rgba(60, 64, 67, 0.15);\n",
              "      fill: #174EA6;\n",
              "    }\n",
              "\n",
              "    .colab-df-buttons div {\n",
              "      margin-bottom: 4px;\n",
              "    }\n",
              "\n",
              "    [theme=dark] .colab-df-convert {\n",
              "      background-color: #3B4455;\n",
              "      fill: #D2E3FC;\n",
              "    }\n",
              "\n",
              "    [theme=dark] .colab-df-convert:hover {\n",
              "      background-color: #434B5C;\n",
              "      box-shadow: 0px 1px 3px 1px rgba(0, 0, 0, 0.15);\n",
              "      filter: drop-shadow(0px 1px 2px rgba(0, 0, 0, 0.3));\n",
              "      fill: #FFFFFF;\n",
              "    }\n",
              "  </style>\n",
              "\n",
              "    <script>\n",
              "      const buttonEl =\n",
              "        document.querySelector('#df-a49303f4-da26-41a0-9244-3d7c9a80c38d button.colab-df-convert');\n",
              "      buttonEl.style.display =\n",
              "        google.colab.kernel.accessAllowed ? 'block' : 'none';\n",
              "\n",
              "      async function convertToInteractive(key) {\n",
              "        const element = document.querySelector('#df-a49303f4-da26-41a0-9244-3d7c9a80c38d');\n",
              "        const dataTable =\n",
              "          await google.colab.kernel.invokeFunction('convertToInteractive',\n",
              "                                                    [key], {});\n",
              "        if (!dataTable) return;\n",
              "\n",
              "        const docLinkHtml = 'Like what you see? Visit the ' +\n",
              "          '<a target=\"_blank\" href=https://colab.research.google.com/notebooks/data_table.ipynb>data table notebook</a>'\n",
              "          + ' to learn more about interactive tables.';\n",
              "        element.innerHTML = '';\n",
              "        dataTable['output_type'] = 'display_data';\n",
              "        await google.colab.output.renderOutput(dataTable, element);\n",
              "        const docLink = document.createElement('div');\n",
              "        docLink.innerHTML = docLinkHtml;\n",
              "        element.appendChild(docLink);\n",
              "      }\n",
              "    </script>\n",
              "  </div>\n",
              "\n",
              "\n",
              "<div id=\"df-667d271f-d57f-4c89-9b91-486d89e3facf\">\n",
              "  <button class=\"colab-df-quickchart\" onclick=\"quickchart('df-667d271f-d57f-4c89-9b91-486d89e3facf')\"\n",
              "            title=\"Suggest charts\"\n",
              "            style=\"display:none;\">\n",
              "\n",
              "<svg xmlns=\"http://www.w3.org/2000/svg\" height=\"24px\"viewBox=\"0 0 24 24\"\n",
              "     width=\"24px\">\n",
              "    <g>\n",
              "        <path d=\"M19 3H5c-1.1 0-2 .9-2 2v14c0 1.1.9 2 2 2h14c1.1 0 2-.9 2-2V5c0-1.1-.9-2-2-2zM9 17H7v-7h2v7zm4 0h-2V7h2v10zm4 0h-2v-4h2v4z\"/>\n",
              "    </g>\n",
              "</svg>\n",
              "  </button>\n",
              "\n",
              "<style>\n",
              "  .colab-df-quickchart {\n",
              "      --bg-color: #E8F0FE;\n",
              "      --fill-color: #1967D2;\n",
              "      --hover-bg-color: #E2EBFA;\n",
              "      --hover-fill-color: #174EA6;\n",
              "      --disabled-fill-color: #AAA;\n",
              "      --disabled-bg-color: #DDD;\n",
              "  }\n",
              "\n",
              "  [theme=dark] .colab-df-quickchart {\n",
              "      --bg-color: #3B4455;\n",
              "      --fill-color: #D2E3FC;\n",
              "      --hover-bg-color: #434B5C;\n",
              "      --hover-fill-color: #FFFFFF;\n",
              "      --disabled-bg-color: #3B4455;\n",
              "      --disabled-fill-color: #666;\n",
              "  }\n",
              "\n",
              "  .colab-df-quickchart {\n",
              "    background-color: var(--bg-color);\n",
              "    border: none;\n",
              "    border-radius: 50%;\n",
              "    cursor: pointer;\n",
              "    display: none;\n",
              "    fill: var(--fill-color);\n",
              "    height: 32px;\n",
              "    padding: 0;\n",
              "    width: 32px;\n",
              "  }\n",
              "\n",
              "  .colab-df-quickchart:hover {\n",
              "    background-color: var(--hover-bg-color);\n",
              "    box-shadow: 0 1px 2px rgba(60, 64, 67, 0.3), 0 1px 3px 1px rgba(60, 64, 67, 0.15);\n",
              "    fill: var(--button-hover-fill-color);\n",
              "  }\n",
              "\n",
              "  .colab-df-quickchart-complete:disabled,\n",
              "  .colab-df-quickchart-complete:disabled:hover {\n",
              "    background-color: var(--disabled-bg-color);\n",
              "    fill: var(--disabled-fill-color);\n",
              "    box-shadow: none;\n",
              "  }\n",
              "\n",
              "  .colab-df-spinner {\n",
              "    border: 2px solid var(--fill-color);\n",
              "    border-color: transparent;\n",
              "    border-bottom-color: var(--fill-color);\n",
              "    animation:\n",
              "      spin 1s steps(1) infinite;\n",
              "  }\n",
              "\n",
              "  @keyframes spin {\n",
              "    0% {\n",
              "      border-color: transparent;\n",
              "      border-bottom-color: var(--fill-color);\n",
              "      border-left-color: var(--fill-color);\n",
              "    }\n",
              "    20% {\n",
              "      border-color: transparent;\n",
              "      border-left-color: var(--fill-color);\n",
              "      border-top-color: var(--fill-color);\n",
              "    }\n",
              "    30% {\n",
              "      border-color: transparent;\n",
              "      border-left-color: var(--fill-color);\n",
              "      border-top-color: var(--fill-color);\n",
              "      border-right-color: var(--fill-color);\n",
              "    }\n",
              "    40% {\n",
              "      border-color: transparent;\n",
              "      border-right-color: var(--fill-color);\n",
              "      border-top-color: var(--fill-color);\n",
              "    }\n",
              "    60% {\n",
              "      border-color: transparent;\n",
              "      border-right-color: var(--fill-color);\n",
              "    }\n",
              "    80% {\n",
              "      border-color: transparent;\n",
              "      border-right-color: var(--fill-color);\n",
              "      border-bottom-color: var(--fill-color);\n",
              "    }\n",
              "    90% {\n",
              "      border-color: transparent;\n",
              "      border-bottom-color: var(--fill-color);\n",
              "    }\n",
              "  }\n",
              "</style>\n",
              "\n",
              "  <script>\n",
              "    async function quickchart(key) {\n",
              "      const quickchartButtonEl =\n",
              "        document.querySelector('#' + key + ' button');\n",
              "      quickchartButtonEl.disabled = true;  // To prevent multiple clicks.\n",
              "      quickchartButtonEl.classList.add('colab-df-spinner');\n",
              "      try {\n",
              "        const charts = await google.colab.kernel.invokeFunction(\n",
              "            'suggestCharts', [key], {});\n",
              "      } catch (error) {\n",
              "        console.error('Error during call to suggestCharts:', error);\n",
              "      }\n",
              "      quickchartButtonEl.classList.remove('colab-df-spinner');\n",
              "      quickchartButtonEl.classList.add('colab-df-quickchart-complete');\n",
              "    }\n",
              "    (() => {\n",
              "      let quickchartButtonEl =\n",
              "        document.querySelector('#df-667d271f-d57f-4c89-9b91-486d89e3facf button');\n",
              "      quickchartButtonEl.style.display =\n",
              "        google.colab.kernel.accessAllowed ? 'block' : 'none';\n",
              "    })();\n",
              "  </script>\n",
              "</div>\n",
              "\n",
              "    </div>\n",
              "  </div>\n"
            ],
            "application/vnd.google.colaboratory.intrinsic+json": {
              "type": "dataframe",
              "variable_name": "predicted_data",
              "summary": "{\n  \"name\": \"predicted_data\",\n  \"rows\": 28233,\n  \"fields\": [\n    {\n      \"column\": \"True Values\",\n      \"properties\": {\n        \"dtype\": \"number\",\n        \"std\": 0,\n        \"min\": 0,\n        \"max\": 1,\n        \"num_unique_values\": 2,\n        \"samples\": [\n          0,\n          1\n        ],\n        \"semantic_type\": \"\",\n        \"description\": \"\"\n      }\n    },\n    {\n      \"column\": \"Predicted Values\",\n      \"properties\": {\n        \"dtype\": \"number\",\n        \"std\": 0,\n        \"min\": 0,\n        \"max\": 1,\n        \"num_unique_values\": 2,\n        \"samples\": [\n          0,\n          1\n        ],\n        \"semantic_type\": \"\",\n        \"description\": \"\"\n      }\n    }\n  ]\n}"
            }
          },
          "metadata": {},
          "execution_count": 20
        }
      ]
    },
    {
      "cell_type": "markdown",
      "source": [
        "Membuat DataFrame Prediksi:\n",
        "\n",
        "* Kode predicted_data = pd.DataFrame({...}) membuat sebuah DataFrame bernama predicted_data yang berisi dua kolom:\n",
        "\n",
        "  * 'True Values': Berisi nilai sebenarnya (y_test)\n",
        "  * 'Predicted Values': Berisi nilai prediksi yang dihasilkan oleh model (y_pred_rf)\n",
        "\n",
        "* Ini memungkinkan kita untuk melihat perbandingan antara nilai sebenarnya dan nilai prediksi.\n",
        "\n",
        "\n",
        "Menampilkan Hasil Prediksi:\n",
        "\n",
        " * Kode print(\"\\nSample Prediction Results:\") mencetak sebuah header untuk menandai bagian menampilkan hasil prediksi.\n",
        " * Kode predicted_data.head(20) menampilkan 20 baris pertama dari DataFrame predicted_data, yang berisi sampel hasil prediksi.\n",
        " * Ini memungkinkan kita untuk melihat beberapa contoh prediksi yang dihasilkan oleh model."
      ],
      "metadata": {
        "id": "uTJWxmeEhFY9"
      }
    },
    {
      "cell_type": "markdown",
      "source": [
        "|\n",
        "\n",
        "|\n",
        "\n",
        "|"
      ],
      "metadata": {
        "id": "4jptpj8msI-_"
      }
    },
    {
      "cell_type": "markdown",
      "source": [
        "## **Kesimpulan**"
      ],
      "metadata": {
        "id": "fvfTR3NzsMLp"
      }
    },
    {
      "cell_type": "markdown",
      "source": [
        "#### 1. Model Random Forest\n",
        "Model Random Forest menunjukkan performa yang sangat baik berdasarkan hasil evaluasi yang diperoleh, dengan akurasi sebesar 96.94%. Artinya, model ini berhasil mengklasifikasikan 96.94% dari data pengujian dengan benar.\n",
        "\n",
        "#### 2. Classification Report\n",
        "Precision (Presisi): Model memiliki presisi tinggi dalam mengklasifikasikan kedua kelas (0 dan 1), yang berarti sebagian besar prediksi positif dan negatif yang dilakukan oleh model adalah benar.\n",
        "Recall (Sensitivitas): Recall untuk kelas 1 (yang lebih banyak muncul) sangat tinggi, yaitu 1.00, yang menunjukkan bahwa model sangat efektif dalam menangkap sebagian besar data positif.\n",
        "F1-Score: Skor F1 yang tinggi pada kedua kelas (terutama pada kelas 1) menunjukkan keseimbangan antara precision dan recall, yang berarti model memberikan kinerja yang stabil tanpa ada bias besar terhadap kelas tertentu.\n",
        "Support: Jumlah sampel di kedua kelas juga menunjukkan distribusi data yang tidak seimbang, dengan kelas 1 memiliki lebih banyak sampel.\n",
        "\n",
        "#### 3. Confusion Matrix\n",
        "Matriks kebingungannya menunjukkan bahwa:\n",
        "\n",
        "True Negatives (TN): Model berhasil mengklasifikasikan dengan benar 4.421 data negatif sebagai negatif.\n",
        "False Positives (FP): Model sedikit keliru mengklasifikasikan 838 data negatif sebagai positif.\n",
        "False Negatives (FN): Model sangat sedikit melakukan kesalahan dalam mengklasifikasikan data positif sebagai negatif (27).\n",
        "True Positives (TP): Model mengklasifikasikan dengan benar 22.947 data positif sebagai positif.\n",
        "Ini menunjukkan bahwa meskipun ada sedikit kesalahan dalam memprediksi data negatif sebagai positif, secara keseluruhan, model sangat akurat dalam mengidentifikasi data positif.\n",
        "\n",
        "#### 4. Prediksi Sample\n",
        "Hasil prediksi sample menunjukkan bahwa model berhasil mengidentifikasi dengan benar nilai-nilai pada data uji:\n",
        "Sebagai contoh, untuk True Values yang bernilai 1 (positif), model memprediksi 1 dengan benar, dan untuk True Values yang bernilai 0 (negatif), model memprediksi 0 dengan benar.\n",
        "\n",
        "\n",
        "### **Model Random Forest berhasil memberikan performa yang sangat baik dengan akurasi dan evaluasi yang menunjukkan bahwa model sangat baik dalam mengklasifikasikan data yang lebih banyak memiliki kelas 1. Tidak ada masalah besar dalam hal bias kelas atau kesalahan prediksi yang signifikan. Dengan hasil yang memuaskan ini, model Random Forest dapat digunakan dengan kepercayaan tinggi dalam aplikasi prediksi serupa, meskipun mungkin ada ruang untuk perbaikan lebih lanjut dalam hal optimisasi hyperparameter untuk mencapai akurasi yang lebih tinggi.**"
      ],
      "metadata": {
        "id": "3j2YS9CCci_q"
      }
    }
  ]
}